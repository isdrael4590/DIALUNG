{
 "cells": [
  {
   "cell_type": "code",
   "execution_count": 1,
   "metadata": {},
   "outputs": [],
   "source": [
    "import torch\n",
    "import torch.nn as nn\n",
    "from torch.autograd import Variable\n",
    "from torchvision import transforms\n",
    "from torch.utils.data.dataset import Dataset  # For custom datasets\n",
    "\n"
   ]
  },
  {
   "cell_type": "code",
   "execution_count": 2,
   "metadata": {},
   "outputs": [
    {
     "ename": "ModuleNotFoundError",
     "evalue": "No module named 'dataset_from_file'",
     "output_type": "error",
     "traceback": [
      "\u001b[0;31m---------------------------------------------------------------------------\u001b[0m",
      "\u001b[0;31mModuleNotFoundError\u001b[0m                       Traceback (most recent call last)",
      "\u001b[0;32m<ipython-input-2-da24e70ab244>\u001b[0m in \u001b[0;36m<module>\u001b[0;34m\u001b[0m\n\u001b[1;32m      1\u001b[0m \u001b[0;31m# in-repo imports\u001b[0m\u001b[0;34m\u001b[0m\u001b[0;34m\u001b[0m\u001b[0;34m\u001b[0m\u001b[0m\n\u001b[0;32m----> 2\u001b[0;31m \u001b[0;32mfrom\u001b[0m \u001b[0mdataset_from_file\u001b[0m \u001b[0;32mimport\u001b[0m \u001b[0mDatasetfromfile\u001b[0m\u001b[0;34m\u001b[0m\u001b[0;34m\u001b[0m\u001b[0m\n\u001b[0m\u001b[1;32m      3\u001b[0m \u001b[0;32mfrom\u001b[0m \u001b[0mdataset_from_csv\u001b[0m \u001b[0;32mimport\u001b[0m \u001b[0mdatasetfromcsvLocation\u001b[0m\u001b[0;34m,\u001b[0m \u001b[0mdatasetFromcsvdata\u001b[0m\u001b[0;34m\u001b[0m\u001b[0;34m\u001b[0m\u001b[0m\n\u001b[1;32m      4\u001b[0m \u001b[0;32mfrom\u001b[0m \u001b[0mcnn_model\u001b[0m \u001b[0;32mimport\u001b[0m \u001b[0mMnistCNNModel\u001b[0m\u001b[0;34m\u001b[0m\u001b[0;34m\u001b[0m\u001b[0m\n\u001b[1;32m      5\u001b[0m \u001b[0;34m\u001b[0m\u001b[0m\n",
      "\u001b[0;31mModuleNotFoundError\u001b[0m: No module named 'dataset_from_file'"
     ]
    }
   ],
   "source": [
    "# in-repo imports\n",
    "from dataset_from_file import Datasetfromfile\n",
    "from dataset_from_csv import datasetfromcsvLocation, datasetFromcsvdata\n",
    "from cnn_model import MnistCNNModel\n",
    "\n",
    "if __name__==\"__main__\":\n",
    "    transformations=transforms.Compose([transforms.ToTensor()])\n",
    "    \n",
    "    #tranform\n",
    "    mnist_from_csv_data = datasetFromcsvdata('../data/Data_Entry_2017.csv')\n",
    "    mnist_from_csv_loc =  datasetfromcsvLocation('../data/mnist_labels.csv')\n",
    "    \n",
    "    mnist_from_file= Datasetfromfile('../data/images/images/')\n",
    "    \n",
    "    mn_dataset_loader=torch.utils.data.Dataloader(dataset=mnist_from_file,batch_size=10,shuffle=False)\n",
    "    \n",
    "    model = MnistCNNModel()\n",
    "    criterion = nn.CrossEntropyLoss()\n",
    "    optimizer = torch.optim.SGD(model.parameters(), lr=0.01) \n",
    "    \n",
    "    for i, (images, labels) in enumerate(mn_dataset_loader):\n",
    "        images = Variable(images)\n",
    "        labels = Variable(labels)\n",
    "        # Clear gradients\n",
    "        optimizer.zero_grad()\n",
    "        # Forward pass\n",
    "        outputs = model(images)\n",
    "        # Calculate loss\n",
    "        loss = criterion(outputs, labels)\n",
    "        # Backward pass\n",
    "        loss.backward()\n",
    "        # Update weights\n",
    "        optimizer.step()\n",
    "        break\n",
    "\n",
    "    print('A single forward-backward pass is done!')"
   ]
  },
  {
   "cell_type": "code",
   "execution_count": null,
   "metadata": {},
   "outputs": [],
   "source": []
  },
  {
   "cell_type": "code",
   "execution_count": null,
   "metadata": {},
   "outputs": [],
   "source": []
  }
 ],
 "metadata": {
  "kernelspec": {
   "display_name": "Python 3",
   "language": "python",
   "name": "python3"
  },
  "language_info": {
   "codemirror_mode": {
    "name": "ipython",
    "version": 3
   },
   "file_extension": ".py",
   "mimetype": "text/x-python",
   "name": "python",
   "nbconvert_exporter": "python",
   "pygments_lexer": "ipython3",
   "version": "3.8.8"
  }
 },
 "nbformat": 4,
 "nbformat_minor": 4
}
