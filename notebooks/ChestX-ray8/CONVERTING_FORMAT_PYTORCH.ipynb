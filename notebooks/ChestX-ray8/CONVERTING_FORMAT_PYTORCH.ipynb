{
 "cells": [
  {
   "cell_type": "markdown",
   "id": "7b6c7cd2",
   "metadata": {},
   "source": [
    "# CONVERTIR FORMATO PANDAS"
   ]
  },
  {
   "cell_type": "code",
   "execution_count": 2,
   "id": "d9151551",
   "metadata": {},
   "outputs": [],
   "source": [
    "import os\n",
    "import pandas as pd\n",
    "import numpy as np\n",
    "from torchvision.io import read_image\n",
    "import torch\n",
    "from torch.utils.data import Dataset\n",
    "from torchvision import datasets\n",
    "from torchvision.transforms import ToTensor\n",
    "import matplotlib.pyplot as plt\n",
    "from torch.utils.data import DataLoader\n",
    "import sklearn.model_selection\n",
    "#from sklearn.model_selection import train_test_split"
   ]
  },
  {
   "cell_type": "code",
   "execution_count": 3,
   "id": "8f5ad137",
   "metadata": {},
   "outputs": [],
   "source": [
    "direccion_dataset = \"/media/oem/FIRST/dataset/data/\" #Poner la dirección del dataset aquí\n",
    "nombre_archivo_atributos = \"Data_Entry_2017.csv\"\n",
    "ruta_archivo_atributos= os.path.join(direccion_dataset, nombre_archivo_atributos)\n",
    "ruta_cxr_png = os.path.join(direccion_dataset, \"images/\")\n",
    "extension_cxr = \"png\"\n",
    "extension_cr = \"txt\" \n",
    "lista_elementos_dataset = os.listdir(ruta_cxr_png) # Listar los elementos disponibles del dataset\n",
    "dataset_datos_pn = pd.read_csv(ruta_archivo_atributos) #Cargar el CSV\n"
   ]
  },
  {
   "cell_type": "markdown",
   "id": "f32cf32e",
   "metadata": {},
   "source": [
    "# OBTENDO DATOS CARACTERISITICOS"
   ]
  },
  {
   "cell_type": "code",
   "execution_count": 6,
   "id": "cc2f1ff3",
   "metadata": {},
   "outputs": [],
   "source": [
    "\n",
    "dato_pytorch=[]\n",
    "csv_reader= pd.read_csv(ruta_archivo_atributos, usecols=['Image Index','Finding Labels','Patient Gender', 'Patient Age'])\n",
    "\n",
    "name_image=\"mame_image\"\n",
    "condition=\"condition\"\n",
    "genre=\"genre\"\n",
    "age=0\n",
    "for idx, elem in enumerate (lista_elementos_dataset):\n",
    "    image_index=csv_reader.loc[idx,'Image Index']\n",
    "    labels_condition=csv_reader.loc[idx,'Finding Labels']\n",
    "    age_index=csv_reader.loc[idx,'Patient Age']\n",
    "    genre_index=csv_reader.loc[idx,'Patient Gender']\n",
    "    if labels_condition == \"No Finding\":\n",
    "        name_image=image_index\n",
    "        age=age_index\n",
    "        condition= \"Normal\"\n",
    "        if genre_index ==\"F\":\n",
    "            genre= \"Female\"\n",
    "        else:\n",
    "            genre=\"Mawee\"\n",
    "    if \"Pneumonia\"in labels_condition:\n",
    "        name_image=image_index\n",
    "        age=age_index\n",
    "        condition= \"Pneumonia\"\n",
    "        if genre_index ==\"F\":\n",
    "            genre= \"Female\"\n",
    "        else:\n",
    "            genre=\"Male\"\n",
    "    dato_pytorch.append({\"name_image\":name_image, \"condition\":condition})\n",
    "dataset_rx8_original=pd.DataFrame(dato_pytorch) "
   ]
  },
  {
   "cell_type": "markdown",
   "id": "69083d1e",
   "metadata": {},
   "source": [
    "# FILTRADO DATOS\n",
    " "
   ]
  },
  {
   "cell_type": "code",
   "execution_count": 7,
   "id": "669976ee",
   "metadata": {},
   "outputs": [],
   "source": [
    "dataset_rx8_filtrado=dataset_rx8_original\n",
    "dataset_rx8_filtrado.loc[dataset_rx8_filtrado[\"condition\"]== \"Normal\", 'condition']=0\n",
    "dataset_rx8_filtrado.loc[dataset_rx8_filtrado[\"condition\"]== \"Pneumonia\", 'condition']=2\n",
    "#_=dataset_rx8_filtrado.pop(\"genre\")\n",
    "#_=dataset_rx8_filtrado.pop(\"age\")"
   ]
  },
  {
   "cell_type": "markdown",
   "id": "4383e515",
   "metadata": {},
   "source": [
    "# Guardar dataset formato csv"
   ]
  },
  {
   "cell_type": "code",
   "execution_count": 8,
   "id": "15c3a42f",
   "metadata": {},
   "outputs": [],
   "source": [
    "dataset_rx8_original.to_csv(\"original_dataset_rxc8_data_norm_neumoni.csv\")\n",
    "dataset_rx8_filtrado.to_csv(\"new_dataset_rx8.csv\")"
   ]
  },
  {
   "cell_type": "markdown",
   "id": "8c93875b",
   "metadata": {},
   "source": [
    "# EXTRAER DATOS DE NORMAL Y NEUMONIA"
   ]
  },
  {
   "cell_type": "code",
   "execution_count": 12,
   "id": "bf067ab9",
   "metadata": {},
   "outputs": [],
   "source": [
    "dataset_selected_neumo= dataset_rx8_filtrado[\"condition\"].str.contains('Pneumonia')\n",
    "dataset_selected_normal= dataset_rx8_filtrado[\"condition\"]==\"Normal\""
   ]
  },
  {
   "cell_type": "markdown",
   "id": "28770d9e",
   "metadata": {},
   "source": [
    "#  DIVISION DATASET SOLO IMAGENES NORMALES"
   ]
  },
  {
   "cell_type": "code",
   "execution_count": 14,
   "id": "69dde160",
   "metadata": {},
   "outputs": [],
   "source": [
    "dataset_train, dataset_test = sklearn.model_selection.train_test_split(dataset_selected_normal, train_size=0.10, test_size=0.10)\n",
    "dataset_test, dataset_val = sklearn.model_selection.train_test_split(dataset_test, train_size=0.10, test_size=0.10)\n"
   ]
  },
  {
   "cell_type": "markdown",
   "id": "90c0d0d2",
   "metadata": {},
   "source": [
    "# OBTENGO NUEVA DIRECCION CSV FILTRADO\n"
   ]
  },
  {
   "cell_type": "code",
   "execution_count": 39,
   "id": "834910e6",
   "metadata": {},
   "outputs": [],
   "source": [
    "name_file_new_atributo_original=\"new_dataset_rx8.csv\""
   ]
  },
  {
   "cell_type": "markdown",
   "id": "5b840700",
   "metadata": {},
   "source": [
    "# CUSTOM CREATING DATSET FROMAT PYTOCH"
   ]
  },
  {
   "cell_type": "code",
   "execution_count": 40,
   "id": "3abfad25",
   "metadata": {},
   "outputs": [],
   "source": [
    "class CreatingDataset(Dataset):\n",
    "    def __init__(self, name_file_new_atributo_original, ruta_cxr_png, transform=None, target_transform=None):\n",
    "        self.img_labels = dataset_datos_pn\n",
    "        self.img_dir = ruta_cxr_png\n",
    "        self.transform = transform\n",
    "        self.target_transform = target_transform\n",
    "\n",
    "    def __len__(self):\n",
    "        return len(self.img_labels)\n",
    "\n",
    "    def __getitem__(self, idx):\n",
    "        img_path = os.path.join(self.img_dir, self.img_labels.iloc[idx, 0])\n",
    "        image = read_image(img_path)\n",
    "        label = self.img_labels.iloc[idx, 1]\n",
    "        if self.transform:\n",
    "            image = self.transform(image)\n",
    "        if self.target_transform:\n",
    "            label = self.target_transform(label)\n",
    "        return image, label"
   ]
  },
  {
   "cell_type": "code",
   "execution_count": 41,
   "id": "fbcce481",
   "metadata": {},
   "outputs": [],
   "source": [
    "labels_map = {\n",
    "    0: \"Normal\",\n",
    "    1: \"Tuberculosis\",\n",
    "    2: \"Neumonia\",\n",
    "    3: \"Covid\"\n",
    "}\n",
    "train_DataSet_cxr=CreatingDataset(dataset_train, ruta_cxr_png, transform=None)\n"
   ]
  },
  {
   "cell_type": "code",
   "execution_count": 42,
   "id": "cefac0a8",
   "metadata": {},
   "outputs": [],
   "source": [
    "from torchvision.transforms import Resize #Cargar herramienta para hacer resize y grayscale\n",
    "from torchvision.transforms import Compose\n",
    "resize_transform = Resize((1024,1024)) #Cambiar el tamaño a 1024x1024\n",
    "transformaciones_dataset = Compose([resize_transform]) #Apila las transformaciones\n",
    "train_DatasetRXC_8_torch = CreatingDataset(dataset_train, ruta_cxr_png, transformaciones_dataset)\n",
    "test_DatasetRXC_8_torch = CreatingDataset(dataset_test, ruta_cxr_png, transformaciones_dataset)\n",
    "val_DatasetRXC_8_torch = CreatingDataset(dataset_val, ruta_cxr_png, transformaciones_dataset)\n",
    "\n"
   ]
  },
  {
   "cell_type": "code",
   "execution_count": 43,
   "id": "2d060c7e",
   "metadata": {},
   "outputs": [],
   "source": [
    "from torch.utils.data import DataLoader\n",
    "train_dataloader = DataLoader(train_DataSet_cxr, batch_size=64, shuffle=True)\n",
    "test_dataloader=DataLoader(train_DataSet_cxr, batch_size=64, shuffle=True)\n",
    "val_dataloader=DataLoader(train_DataSet_cxr, batch_size=64, shuffle=True)"
   ]
  },
  {
   "cell_type": "markdown",
   "id": "ecf3813c",
   "metadata": {},
   "source": [
    " # Iterate through the DataLoader"
   ]
  },
  {
   "cell_type": "code",
   "execution_count": 44,
   "id": "5d5a5219",
   "metadata": {},
   "outputs": [
    {
     "name": "stdout",
     "output_type": "stream",
     "text": [
      "Feature batch shape: torch.Size([64, 1, 1024, 1024])\n",
      "Labels batch shape: ('Nodule', 'Cardiomegaly|Effusion|Infiltration', 'No Finding', 'No Finding', 'Consolidation', 'No Finding', 'Effusion|Nodule|Pleural_Thickening', 'No Finding', 'No Finding', 'Infiltration', 'No Finding', 'Atelectasis|Effusion|Infiltration', 'No Finding', 'No Finding', 'No Finding', 'Infiltration', 'No Finding', 'Infiltration', 'Infiltration', 'No Finding', 'No Finding', 'Atelectasis|Effusion', 'Effusion|Infiltration', 'No Finding', 'No Finding', 'Nodule', 'No Finding', 'No Finding', 'Atelectasis|Effusion|Pleural_Thickening', 'Nodule|Pleural_Thickening', 'Infiltration', 'No Finding', 'Infiltration', 'Atelectasis|Consolidation', 'Pleural_Thickening', 'No Finding', 'Consolidation', 'Infiltration', 'No Finding', 'No Finding', 'No Finding', 'Effusion', 'No Finding', 'Pneumonia', 'No Finding', 'No Finding', 'Pneumothorax', 'No Finding', 'No Finding', 'Emphysema', 'No Finding', 'No Finding', 'No Finding', 'No Finding', 'No Finding', 'No Finding', 'Effusion|Pleural_Thickening', 'Infiltration', 'Mass', 'Effusion|Pneumonia', 'Mass', 'Cardiomegaly|Effusion|Pleural_Thickening', 'Atelectasis|Pneumothorax', 'Infiltration|Pneumonia')\n"
     ]
    },
    {
     "data": {
      "image/png": "[encoded data removed]",
      "text/plain": [
       "<Figure size 432x288 with 1 Axes>"
      ]
     },
     "metadata": {
      "needs_background": "light"
     },
     "output_type": "display_data"
    },
    {
     "name": "stdout",
     "output_type": "stream",
     "text": [
      "Label: Nodule\n"
     ]
    }
   ],
   "source": [
    "# Display image and label.\n",
    "train_features_dataset, train_labels_dataset = next(iter(train_dataloader))\n",
    "print(f\"Feature batch shape: {train_features_dataset.size()}\")\n",
    "print(f\"Labels batch shape: {train_labels_dataset}\")\n",
    "img = train_features_dataset[0].squeeze()\n",
    "label = train_labels_dataset[0]\n",
    "plt.imshow(img, cmap=\"gray\")\n",
    "plt.show()\n",
    "print(f\"Label: {label}\")\n"
   ]
  },
  {
   "cell_type": "code",
   "execution_count": 45,
   "id": "8c665dce",
   "metadata": {},
   "outputs": [
    {
     "data": {
      "text/plain": [
       "<torch.utils.data.dataloader.DataLoader at 0x7ff01d10ad60>"
      ]
     },
     "execution_count": 45,
     "metadata": {},
     "output_type": "execute_result"
    }
   ],
   "source": [
    "test_dataloader"
   ]
  },
  {
   "cell_type": "code",
   "execution_count": 46,
   "id": "c7a0a94c",
   "metadata": {},
   "outputs": [
    {
     "data": {
      "text/plain": [
       "<torch.utils.data.dataloader.DataLoader at 0x7ff01d10a400>"
      ]
     },
     "execution_count": 46,
     "metadata": {},
     "output_type": "execute_result"
    }
   ],
   "source": [
    "val_dataloader"
   ]
  },
  {
   "cell_type": "code",
   "execution_count": null,
   "id": "3d914e2b",
   "metadata": {},
   "outputs": [],
   "source": []
  }
 ],
 "metadata": {
  "kernelspec": {
   "display_name": "Python 3 (ipykernel)",
   "language": "python",
   "name": "python3"
  },
  "language_info": {
   "codemirror_mode": {
    "name": "ipython",
    "version": 3
   },
   "file_extension": ".py",
   "mimetype": "text/x-python",
   "name": "python",
   "nbconvert_exporter": "python",
   "pygments_lexer": "ipython3",
   "version": "3.8.8"
  }
 },
 "nbformat": 4,
 "nbformat_minor": 5
}
