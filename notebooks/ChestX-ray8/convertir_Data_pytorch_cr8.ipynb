{
 "cells": [
  {
   "cell_type": "code",
   "execution_count": 17,
   "id": "4da318db",
   "metadata": {},
   "outputs": [],
   "source": [
    "import os\n",
    "import random\n",
    "\n",
    "import numpy as np\n",
    "import pandas as pd\n",
    "\n",
    "import sklearn.model_selection #Librería para división del dataset\n",
    "\n",
    "mapa_condiciones = {\n",
    "    0: \"normal\",\n",
    "    1: \"tuberculosis\",\n",
    "    2: \"neumonia\",\n",
    "    3: \"covid-19\"\n",
    "}\n"
   ]
  },
  {
   "cell_type": "code",
   "execution_count": 18,
   "id": "94c250e9",
   "metadata": {},
   "outputs": [],
   "source": [
    "direccion_dataset_imagenes = \"/media/oem/FIRST/dataset/data/images/\" #Poner la dirección del dataset aquí\n",
    "direccion_dataset_csv = \"/media/oem/FIRST/dataset/data/Data_Entry_2017.csv\"\n",
    "dataset_completo = pd.read_csv(direccion_dataset_csv) #Guardar el dataset original completo en formato pandas"
   ]
  },
  {
   "cell_type": "code",
   "execution_count": 19,
   "id": "0e9a1752",
   "metadata": {},
   "outputs": [],
   "source": [
    "dataset_filtrado = dataset_completo.copy() \n",
    "dataset_filtrado = dataset_filtrado[dataset_filtrado[\"View Position\"] == \"PA\"] #Filtrar por PA\n",
    "idx_neumonia = dataset_filtrado[\"Finding Labels\"].str.find(\"neumonia\") >= 0\n",
    "idx_normal = dataset_filtrado[\"Finding Labels\"] == \"No Finding\"\n",
    "dataset_filtrado = dataset_filtrado[idx_neumonia | idx_normal]\n",
    "dataset_filtrado.loc[idx_neumonia, \"Finding Labels\"] = \"Pneumonia\"\n",
    "idx_normal = (dataset_filtrado[\"Finding Labels\"] == \"No Finding\")\n",
    "idx_normal = idx_normal.sample(n = 700, replace = False)\n",
    "### Reducir aleatoriamente las muestras normales\n",
    "idx_neumonia = (dataset_filtrado[\"Finding Labels\"] == \"Pneumonia\")\n",
    "#idx_neumonia = idx_neumonia.sample(n = 700)\n",
    "idx_neumonia_o_normal = (idx_neumonia | idx_normal)\n",
    "\n",
    "dataset_filtrado = dataset_filtrado[idx_neumonia_o_normal]"
   ]
  },
  {
   "cell_type": "code",
   "execution_count": 20,
   "id": "d459c510",
   "metadata": {},
   "outputs": [
    {
     "name": "stdout",
     "output_type": "stream",
     "text": [
      "Tamaño del dataset en formato DIALUNG: 1321\n",
      "Número de columnas: 2 Nombre Columnas: ['Image Index', 'Finding Labels']\n",
      "Número de muestras por condicion normal: 691\n",
      "Número de muestras por condicion neumonia: 630\n"
     ]
    }
   ],
   "source": [
    "\n",
    "\n",
    "dataset_filtrado.loc[dataset_filtrado[\"Finding Labels\"] == \"Pneumonia\", 'Finding Labels'] = 2\n",
    "dataset_filtrado.loc[dataset_filtrado[\"Finding Labels\"] == \"No Finding\", 'Finding Labels'] = 0\n",
    "\n",
    "########## Operación de eliminar atributos innecesarios para completar el formato DIALUNG ##########\n",
    "dataset_formato_dialung = dataset_filtrado.loc[:, [\"Image Index\", \"Finding Labels\"]].copy() #Copio el dataset filtrado para no perder los atributos originales\n",
    "\n",
    "### Impresion de los datos\n",
    "nombre_segunda_columna = list(dataset_formato_dialung.columns)[1]\n",
    "print(\"Tamaño del dataset en formato DIALUNG: {}\".format(len(dataset_formato_dialung)))\n",
    "print(\"Número de columnas: {} Nombre Columnas: {}\".format(len(dataset_formato_dialung.columns), list(dataset_formato_dialung.columns)))\n",
    "conteo_valores = dataset_filtrado[nombre_segunda_columna].value_counts()\n",
    "for condicion in mapa_condiciones.keys(): #Itero sobre las condiciones\n",
    "    if condicion in conteo_valores.keys():\n",
    "        print(\"Número de muestras por condicion {}: {}\".format(mapa_condiciones[condicion], conteo_valores[condicion]))"
   ]
  },
  {
   "cell_type": "code",
   "execution_count": 21,
   "id": "5db7b115",
   "metadata": {},
   "outputs": [
    {
     "data": {
      "text/plain": [
       "3     False\n",
       "13    False\n",
       "16    False\n",
       "17    False\n",
       "18    False\n",
       "Name: Finding Labels, dtype: bool"
      ]
     },
     "execution_count": 21,
     "metadata": {},
     "output_type": "execute_result"
    }
   ],
   "source": [
    "idx_neumonia.head()"
   ]
  },
  {
   "cell_type": "code",
   "execution_count": 22,
   "id": "d4e539f2",
   "metadata": {},
   "outputs": [],
   "source": [
    "#Primero divido el dataset en train 75% y test 25%, no se puede hacer de golpe para los tres datasets\n",
    "dataset_train, dataset_test = sklearn.model_selection.train_test_split(dataset_formato_dialung, train_size=0.75, test_size=0.25)\n",
    "#Divido el dataset de test en 60% y val 40%, al final de la selección será\n",
    "dataset_test, dataset_val = sklearn.model_selection.train_test_split(dataset_formato_dialung, train_size=0.6, test_size=0.4)"
   ]
  },
  {
   "cell_type": "code",
   "execution_count": 23,
   "id": "834d7c7f",
   "metadata": {},
   "outputs": [],
   "source": [
    "from torchvision.io import read_image\n",
    "from torch.utils.data import Dataset\n",
    "from torchvision import datasets, io\n",
    "from torchvision.transforms import Compose\n",
    "\n",
    "\n",
    "class crearDatasetDIALUNG(Dataset):\n",
    "    \"\"\"\n",
    "    Una clase que hereda los clase torch.utils.data.Dataset para crear un objeto que pueda ser \n",
    "    manipulado por la clase DataLoader de PyTorch\n",
    "    ...\n",
    "\n",
    "    Atributos\n",
    "    ----------\n",
    "    img_labels : pandas.DataFrame\n",
    "        un objeto de tipo pandas.Dataframe que tiene dos columnas, la primera nombre de la imagen y segunda condicion\n",
    "    img_dir : str\n",
    "        Directorio de las imagenes de los datasets\n",
    "    transform : torchvision.transforms\n",
    "        Transformaciones de formato PyTorch para aplicar las imagenes\n",
    "    target_transform : int\n",
    "        Especifica las transformaciones de la etiqueta y características\n",
    "\n",
    "    Métodos\n",
    "    -------\n",
    "    __len__(self)\n",
    "        Devuelve el tamaño del dataframe\n",
    "    \"\"\"\n",
    "    def __init__(self, pandas_file, img_dir, transform=None, target_transform=None):\n",
    "        \"\"\"\n",
    "        Parámetros\n",
    "        ----------\n",
    "        pandas_file : pandas.DataFrame\n",
    "            un objeto de tipo pandas.Dataframe que tiene dos columnas, la primera nombre de la imagen y segunda condicion\n",
    "        img_dir : str\n",
    "            Directorio de las imagenes de los datasets\n",
    "        transform : torchvision.transforms\n",
    "            Transformaciones de formato PyTorch para aplicar las imagenes\n",
    "        target_transform : int\n",
    "            Especifica las transformaciones de la etiqueta y características\n",
    "\n",
    "        \"\"\"\n",
    "        self.img_labels = pandas_file\n",
    "        self.img_dir = img_dir\n",
    "        self.transform = transform\n",
    "        self.target_transform = target_transform\n",
    "\n",
    "    def __len__(self):\n",
    "        \"\"\"\n",
    "        Devuelve\n",
    "        ----------\n",
    "        int \n",
    "            El tamaño del DataFrame en entero\n",
    "        \"\"\"\n",
    "        return len(self.img_labels)\n",
    "\n",
    "    def __getitem__(self, idx):\n",
    "        \"\"\"Obtiene la imagen del idx del dataset, lee en formato Tensor, aplica las transformaciones\n",
    "        y devuelve una imagen y su etiqueta.\n",
    "        Parámetros\n",
    "        ----------\n",
    "        idx : int\n",
    "            índice secuencial de la imagen que se localiza en el DataFrame\n",
    "        Devuelve\n",
    "        ----------\n",
    "        torch.Tensor\n",
    "            La imagen en formato tensor de PyTorch en Escala de Grises (Tensor[1, alto_imagen, ancho_imagen])\n",
    "        int \n",
    "            La etiqueta correspondiente de la imagen\n",
    "        \"\"\"\n",
    "        img_path = os.path.join(self.img_dir, self.img_labels.iloc[idx, 0]) #Busco el nombre de la imagen en la columna cero\n",
    "        image = read_image(img_path, io.image.ImageReadMode.GRAY) #transformo mi imagen directamente a Escala de grises\n",
    "        label = self.img_labels.iloc[idx, 1] #Busco el nombre de la etiqueta el DataFrame\n",
    "        if self.transform: #Aplico transformacion(es) de la imagen\n",
    "            image = self.transform(image)\n",
    "        if self.target_transform: #Aplico transformacion(es) a los labels\n",
    "            label = self.target_transform(label)\n",
    "        return image, label"
   ]
  },
  {
   "cell_type": "code",
   "execution_count": 24,
   "id": "a409d33b",
   "metadata": {},
   "outputs": [],
   "source": [
    "from torchvision.transforms import Resize #Cargar herramienta para hacer Rescalado\n",
    "from torchvision.transforms import Compose #Compose me sirve para apilar varias transformaciones en una sola\n",
    "from torchvision.transforms import Lambda #Convertir tensor de salida a one-hot-encoded \n",
    "import torch \n",
    "#Aqui se puede añadir más transformaciones si se desean\n",
    "resize_transform = Resize((1024,1024)) #Cambiar el tamaño a 1024x1024\n",
    "transformaciones_dataset = Compose([resize_transform]) #Apila las transformaciones\n",
    "transformacion_salida = Lambda(lambda y: torch.zeros(4, dtype=torch.float).scatter_(0, torch.tensor(y), value=1)) #Hago un\n",
    "\n",
    "#Creo objetos de tipo crearDatasetDIALUNG\n",
    "train_datasetDIALUNG = crearDatasetDIALUNG(dataset_train, direccion_dataset_imagenes, transformaciones_dataset, transformacion_salida)\n",
    "test_datasetDIALUNG = crearDatasetDIALUNG(dataset_test, direccion_dataset_imagenes, transformaciones_dataset, transformacion_salida)\n",
    "val_datasetDIALUNG = crearDatasetDIALUNG(dataset_val, direccion_dataset_imagenes, transformaciones_dataset, transformacion_salida)"
   ]
  },
  {
   "cell_type": "code",
   "execution_count": 25,
   "id": "f82ccfcb",
   "metadata": {},
   "outputs": [],
   "source": [
    "from torch.utils.data import DataLoader #Clase dataloader para cargar en PyTorch los objetos de tipo Dataset\n",
    "\n",
    "#Creo objetos de tipo DataLoader en lotes de 64 imagenes y barajeados aleatoriamente\n",
    "train_dataloader = DataLoader(train_datasetDIALUNG, batch_size=64, shuffle=True)\n",
    "test_dataloader = DataLoader(test_datasetDIALUNG, batch_size=64, shuffle=True)\n",
    "val_dataloader = DataLoader(val_datasetDIALUNG, batch_size=64, shuffle=True)\n"
   ]
  },
  {
   "cell_type": "code",
   "execution_count": 26,
   "id": "e4144ea4",
   "metadata": {},
   "outputs": [
    {
     "name": "stdout",
     "output_type": "stream",
     "text": [
      "Feature batch shape: torch.Size([64, 1, 1024, 1024])\n",
      "Labels batch shape: torch.Size([64, 4])\n"
     ]
    },
    {
     "data": {
      "image/png": "[encoded data removed]",
      "text/plain": [
       "<Figure size 432x288 with 1 Axes>"
      ]
     },
     "metadata": {
      "needs_background": "light"
     },
     "output_type": "display_data"
    },
    {
     "name": "stdout",
     "output_type": "stream",
     "text": [
      "Label one-hot encoding: tensor([1., 0., 0., 0.]) Categoria: normal\n"
     ]
    }
   ],
   "source": [
    "import matplotlib.pyplot as plt\n",
    "# Display image and label.\n",
    "train_features, train_labels = next(iter(train_dataloader))\n",
    "print(f\"Feature batch shape: {train_features.size()}\")\n",
    "print(f\"Labels batch shape: {train_labels.size()}\")\n",
    "img = train_features[0].squeeze()\n",
    "label = train_labels[0]\n",
    "plt.imshow(img, cmap=\"gray\")\n",
    "plt.show()\n",
    "print(f\"Label one-hot encoding: {label} Categoria: {mapa_condiciones[int(torch.argmax(label))]}\")"
   ]
  },
  {
   "cell_type": "code",
   "execution_count": 27,
   "id": "274088c3",
   "metadata": {},
   "outputs": [],
   "source": [
    "import math\n",
    "import shutil #Utilidad para copiar datos\n",
    "\n",
    "# Funcion para convertir bytes a su represetanción adecuada\n",
    "#https://stackoverflow.com/questions/5194057/better-way-to-convert-file-sizes-in-python?noredirect=1&lq=1\n",
    "def convert_size(size_bytes):\n",
    "   if size_bytes == 0:\n",
    "       return \"0B\"\n",
    "   size_name = (\"B\", \"KB\", \"MB\", \"GB\", \"TB\", \"PB\", \"EB\", \"ZB\", \"YB\")\n",
    "   i = int(math.floor(math.log(size_bytes, 1024)))\n",
    "   p = math.pow(1024, i)\n",
    "   s = round(size_bytes / p, 2)\n",
    "   return \"{} {}\".format(s, size_name[i])\n",
    "\n",
    "def anadir_ruta_al_csv(ruta, nombre_dataset):\n",
    "    return os.path.join(nombre_dataset, ruta)\n",
    "\n",
    "#Funcion para copiar el dataset a una nueva carpeta\n",
    "def copiar_dataset_filtrado(dataset, ruta_dataset, carpeta_salida_dataset, nombre_dataset, copiar = False):\n",
    "    tamano_dataset = 0\n",
    "    #checo si la carpeta existe\n",
    "    nuevo_directorio_dataset = os.path.join(carpeta_salida_dataset, nombre_dataset)\n",
    "    if os.path.exists(nuevo_directorio_dataset):\n",
    "        print(\"El Directorio del nuevo dataset {} existe\".format(nuevo_directorio_dataset))\n",
    "    else:\n",
    "        print(\"Directorio creado en: {}\".format(dataset_formato_dialung))\n",
    "        os.mkdir(nuevo_directorio_dataset)\n",
    "\n",
    "    for idx_img in range(len(dataset)):\n",
    "        ruta_original_imagen = os.path.join(ruta_dataset, dataset_formato_dialung.iloc[idx_img, 0])\n",
    "        tamano_dataset += os.path.getsize(ruta_original_imagen)\n",
    "        if copiar:\n",
    "            shutil.copy(ruta_original_imagen, nuevo_directorio_dataset)\n",
    "\n",
    "    print(\"Tamaño del dataset filtrado: {}\".format(convert_size(tamano_dataset))) \n",
    "\n",
    "def guardar_csv_datasets(carpeta_salida_dataset, nombre_dataset, dataset_original_filtrado, dialung_train, dialung_test, dialung_val):\n",
    "    nombre_salida_csv = \"csv_datasets\"\n",
    "    nuevo_directorio_csv = os.path.join(carpeta_salida_dataset, nombre_salida_csv)\n",
    "    if os.path.exists(nuevo_directorio_csv):\n",
    "        print(\"El Directorio de los csv {} existe\".format(nuevo_directorio_csv))\n",
    "    else:\n",
    "        print(\"Directorio  para los csvs creado en: {}\".format(nuevo_directorio_csv))\n",
    "        os.mkdir(nuevo_directorio_csv)\n",
    "    # Añadir la direccion del nombre del dataset a las rutas de las imagenes\n",
    "    nombre_primera_columna = list(dataset_formato_dialung.columns)[0]\n",
    "    dataset_original_filtrado.loc[:, nombre_primera_columna]  = dataset_original_filtrado.loc[:, nombre_primera_columna].apply(lambda x: os.path.join(nombre_dataset,x))\n",
    "    dialung_train.loc[:, nombre_primera_columna] = dialung_train.loc[:, nombre_primera_columna].apply(lambda x: os.path.join(nombre_dataset,x))\n",
    "    dialung_test.loc[:, nombre_primera_columna]  = dialung_test.loc[:, nombre_primera_columna].apply(lambda x: os.path.join(nombre_dataset,x))\n",
    "    dialung_val.loc[:, nombre_primera_columna]  = dialung_val.loc[:, nombre_primera_columna].apply(lambda x: os.path.join(nombre_dataset,x))\n",
    "    #Guardar los datasets\n",
    "    dataset_original_filtrado.to_csv(os.path.join(nuevo_directorio_csv, \"{}_original_filtrado.csv\".format(nombre_dataset)))\n",
    "    dialung_train.to_csv(os.path.join(nuevo_directorio_csv, \"{}_train.csv\".format(nombre_dataset)))\n",
    "    dialung_test.to_csv(os.path.join(nuevo_directorio_csv, \"{}_test.csv\".format(nombre_dataset)))\n",
    "    dialung_val.to_csv(os.path.join(nuevo_directorio_csv, \"{}_val.csv\".format(nombre_dataset)))\n",
    "    print(\"Archivos guardados en: {}\".format(nuevo_directorio_csv))"
   ]
  },
  {
   "cell_type": "code",
   "execution_count": 30,
   "id": "d7d1c9b3",
   "metadata": {},
   "outputs": [
    {
     "name": "stdout",
     "output_type": "stream",
     "text": [
      "Directorio creado en:              Image Index Finding Labels\n",
      "30      00000011_002.png              0\n",
      "103     00000023_003.png              0\n",
      "203     00000041_004.png              0\n",
      "253     00000056_000.png              2\n",
      "530     00000127_001.png              0\n",
      "...                  ...            ...\n",
      "111887  00030651_002.png              0\n",
      "111893  00030652_000.png              0\n",
      "111977  00030704_000.png              0\n",
      "112109  00030796_000.png              0\n",
      "112115  00030801_001.png              2\n",
      "\n",
      "[1321 rows x 2 columns]\n",
      "Tamaño del dataset filtrado: 525.9 MB\n"
     ]
    }
   ],
   "source": [
    "carpeta_salida_dataset_filtrado = \"/media/oem/FIRST/dataset/\"\n",
    "nombre_dataset=\"ChestX-ray8_filtrado\"  #Nombre del dataset final para identificación\n",
    "copiar_dataset_filtrado(dataset_formato_dialung, direccion_dataset_imagenes, \n",
    "                        carpeta_salida_dataset_filtrado, nombre_dataset, copiar = False)\n"
   ]
  },
  {
   "cell_type": "code",
   "execution_count": 32,
   "id": "b1cb406a",
   "metadata": {},
   "outputs": [
    {
     "name": "stdout",
     "output_type": "stream",
     "text": [
      "El Directorio de los csv /media/oem/FIRST/dataset/csv_datasets existe\n",
      "Archivos guardados en: /media/oem/FIRST/dataset/csv_datasets\n"
     ]
    }
   ],
   "source": [
    "\n",
    "\n",
    "guardar_csv_datasets(carpeta_salida_dataset_filtrado, nombre_dataset, dataset_original_filtrado = dataset_filtrado, \n",
    "                     dialung_train = dataset_train, dialung_test = dataset_test, dialung_val = dataset_val )\n",
    "\n"
   ]
  },
  {
   "cell_type": "code",
   "execution_count": null,
   "id": "c392366c",
   "metadata": {},
   "outputs": [],
   "source": []
  }
 ],
 "metadata": {
  "kernelspec": {
   "display_name": "Python 3 (ipykernel)",
   "language": "python",
   "name": "python3"
  },
  "language_info": {
   "codemirror_mode": {
    "name": "ipython",
    "version": 3
   },
   "file_extension": ".py",
   "mimetype": "text/x-python",
   "name": "python",
   "nbconvert_exporter": "python",
   "pygments_lexer": "ipython3",
   "version": "3.8.8"
  }
 },
 "nbformat": 4,
 "nbformat_minor": 5
}
