{
 "cells": [
  {
   "cell_type": "markdown",
   "id": "fd939bea",
   "metadata": {},
   "source": [
    "# Plantilla para filtrar, convertir a format PyTorch y copiar los Datasets\n",
    "\n",
    "En esta plantilla, pueden encontrar una forma fácil de convertir sus datasets a format PyTorch, por favor no modificar la misma, copiarla en otra carpeta para su uso personal. Se debe cambiar los nombres de las variables de acuerdo a lo que dice las instrucciones, y ejecutar las celdas. Los atributos acordados a usar para el filtrado de los datasets son:\n",
    "\n",
    "- Imágenes con resolución mayor a `(1024, 1024)`\n",
    "- Formato vertical\n",
    "- Posterior Anterior\n",
    "- Imágenes con condición de Tuberculosis, Neumonia, COVID-19 y normal\n",
    "- Si tiene una condición adyacente, unirla igualmente(Infusiones, Atelectasis, etc.)\n",
    "\n",
    "## Formato DIALUNG\n",
    "\n",
    "El dataset filtrado debe estar en formato DIALUNG, es decir\n",
    "- Primera  columna: `Ruta de la imagen`\n",
    "- Segunda columna: `Condición en  Formato Matemático`\n",
    "\n",
    "**Ejemplo formato DIALUNG:**\n",
    "\n",
    "|columna_1                     |columna2 |\n",
    "|:----------------------------:|:-------:|\n",
    "| Dataset_1/CHNCXR_0025_0.png  |    0    |\n",
    "| Dataset_1/CHNCXR_0270_0.png  |    0    |\n",
    "| Dataset_1/CHNCXR_0055_0.png  |    0    |\n",
    "| Dataset_1/CHNCXR_0410_1.png  |    1    |\n",
    "| Dataset_1/CHNCXR_0076_0.png  |    0    |\n",
    "| Dataset_1/CHNCXR_0645_1.png  |    1    |\n",
    "\n",
    "\n",
    "## Formato de subida de los datasets\n",
    "No está definido aún, pero este código básicamente copia las imagenes filtradas de la carpeta original, en una carpeta que se llama `csv_datasets` se copian los datasets de train, val, test y el original para luego comparar.\n",
    "\n",
    "```bash\n",
    "Carpeta Compartida/\n",
    "├── csv_datasets\n",
    "│   ├── Dataset_1_original_filtrado.csv\n",
    "│   ├── Dataset_1_test.csv\n",
    "│   ├── Dataset_1_train.csv\n",
    "│   ├── Dataset_1_val.csv\n",
    "│   ├── Dataset_2_original_filtrado.csv\n",
    "│   ├── Dataset_2_test.csv\n",
    "│   ├── Dataset_2_train.csv\n",
    "│   ├── Dataset_2_val.csv\n",
    "│   ├── Dataset_3_original_filtrado.csv\n",
    "│   ├── Dataset_3_test.csv\n",
    "│   ├── Dataset_3_train.csv\n",
    "│   └── Dataset_3_val.csv\n",
    "├── Dataset 1\n",
    "│   ├── 00000001_000.png\n",
    "│   ├── 00000001_001.png\n",
    "│   ├── 00000001_002.png\n",
    "│   └── 00000003_000.png\n",
    "├── Dataset 2\n",
    "│   ├── CHNCXR_0001_0.png\n",
    "│   ├── CHNCXR_0002_0.png\n",
    "│   ├── CHNCXR_0003_0.png\n",
    "│   └── CHNCXR_0004_0.png\n",
    "├── Dataset 3\n",
    "│   ├── MCUCXR_0001_0.png\n",
    "│   ├── MCUCXR_0002_0.png\n",
    "│   ├── MCUCXR_0003_0.png\n",
    "│   └── MCUCXR_0004_0.png\n",
    "├── total_test.csv\n",
    "├── total_train.csv\n",
    "└── total_val.csv\n",
    "\n",
    "```\n",
    "Los archivos `total_test.csv`, `total_train.csv` y `total_val.csv` se uniran cuando los datasets esten completos\n",
    "\n",
    "Condiciones en formato matematico\n",
    "```python\n",
    "condiciones_formato_matematico = {\n",
    "    0: \"normal\",\n",
    "    1: \"tuberculosis\",\n",
    "    2: \"neumonia\",\n",
    "    3: \"covid-19\"\n",
    "}\n",
    "```\n",
    "\n",
    "## Secciones de este Notebook:\n",
    "- **Cargar los datos del Dataset**: Cargar, filtrar y dividir los datos del Dataset\n",
    "- **Guardar los datos finales**: Calcula el tamaño del dataset, copia el dataset filtrado hacia la carpeta deseada, guarda como csv los datasets divididos y original."
   ]
  },
  {
   "cell_type": "markdown",
   "id": "7edd8b55",
   "metadata": {},
   "source": [
    "# Cargar los datos del Dataset\n",
    "## Inicializar librerias"
   ]
  },
  {
   "cell_type": "code",
   "execution_count": 87,
   "id": "03631be3",
   "metadata": {},
   "outputs": [],
   "source": [
    "import os\n",
    "import random\n",
    "\n",
    "import numpy as np\n",
    "import pandas as pd\n",
    "\n",
    "import sklearn.model_selection #Librería para división del dataset\n",
    "\n",
    "mapa_condiciones = {\n",
    "    0: \"normal\",\n",
    "    1: \"tuberculosis\",\n",
    "    2: \"neumonia\",\n",
    "    3: \"covid-19\"\n",
    "}"
   ]
  },
  {
   "cell_type": "markdown",
   "id": "d8127e7c",
   "metadata": {},
   "source": [
    "## Código de carga del dataset\n",
    "**Instrucciones:** \n",
    "- Cambiar la `direccion_dataset_imagenes` por la ruta correspondiente en sus PCs\n",
    "- Cargar el dataset en formato pandas.DataFrame y con el siguiente nombre: `direccion_dataset_imagenes`\n",
    "\n",
    "Nota: En caso de cambiar los nombres de las variables, cambiarlas abajo también."
   ]
  },
  {
   "cell_type": "code",
   "execution_count": 19,
   "id": "c19ea873",
   "metadata": {},
   "outputs": [],
   "source": [
    "direccion_dataset_imagenes = #Poner aqui la ruta del dataset donde se encuentren las imagenes\n",
    "#####\n",
    "# Usar estas líneas para cargar el dataset original completo\n",
    "#####\n",
    "dataset_completo =  #Guardar el dataset original completo en formato pandas"
   ]
  },
  {
   "cell_type": "markdown",
   "id": "78dd84e8",
   "metadata": {},
   "source": [
    "## Filtrar los datos\n",
    "**Instrucciones:**\n",
    "- Usar el DataFrame `dataset_filtrado` para filtrar el dataset por las condiciones dadas y para reducir el numero de datasets en caso de ser necesario\n",
    "- Usar el DataFrame `dataset_formato_dialung` para convertir el dataset `dataset_filtrado` al Formato DIALUNG que se vio al inicio de la variable\n"
   ]
  },
  {
   "cell_type": "code",
   "execution_count": 52,
   "id": "766e8b6a",
   "metadata": {},
   "outputs": [
    {
     "name": "stdout",
     "output_type": "stream",
     "text": [
      "Tamaño del dataset en formato DIALUNG: 662\n",
      "Número de columnas: 2 Nombre Columnas: ['image_name', 'condition']\n",
      "Número de muestras por condicion normal: 324\n",
      "Número de muestras por condicion tuberculosis: 338\n"
     ]
    }
   ],
   "source": [
    "dataset_filtrado = dataset_completo.copy() #Copio el Dataset para no perder los datos, uso copy para hacer un nuevo objeto\n",
    "########## Operación de filtrar el dataset original ##########\n",
    "##########\n",
    "#\n",
    "# Hacer operaciones de filtrado con el dataset\n",
    "#\n",
    "##########\n",
    "########## Operación de eliminar atributos innecesarios para completar el formato DIALUNG ##########\n",
    "dataset_formato_dialung = dataset_filtrado.copy() #Copio el dataset filtrado para no perder los atributos originales\n",
    "##########\n",
    "#\n",
    "# Realizar las operaciones necesarias para convertir a formato DIALUNG\n",
    "#\n",
    "##########\n",
    "### Impresion de los datos\n",
    "nombre_segunda_columna = list(dataset_formato_dialung.columns)[1]\n",
    "print(\"Tamaño del dataset en formato DIALUNG: {}\".format(len(dataset_formato_dialung)))\n",
    "print(\"Número de columnas: {} Nombre Columnas: {}\".format(len(dataset_formato_dialung.columns), list(dataset_formato_dialung.columns)))\n",
    "conteo_valores = dataset_filtrado[nombre_segunda_columna].value_counts()\n",
    "for condicion in mapa_condiciones.keys(): #Itero sobre las condiciones\n",
    "    if condicion in conteo_valores.keys():\n",
    "        print(\"Número de muestras por condicion {}: {}\".format(mapa_condiciones[condicion], conteo_valores[condicion]))\n",
    "    "
   ]
  },
  {
   "cell_type": "markdown",
   "id": "44499a96",
   "metadata": {},
   "source": [
    "## Dividir el Dataset\n",
    "En esta función, se divide el dataset que se llama `dataset_formato_dialung` a uno de train(75%), test(15%) y val(10).\n",
    "Solo ejecutar esta celda sin hacer cambios, más información sobre la División de Datasets en [Training, validation, and test sets](https://en.wikipedia.org/wiki/Training,_validation,_and_test_sets)"
   ]
  },
  {
   "cell_type": "code",
   "execution_count": 25,
   "id": "6bac3717",
   "metadata": {},
   "outputs": [],
   "source": [
    "#Primero divido el dataset en train 75% y test 25%, no se puede hacer de golpe para los tres datasets\n",
    "dataset_train, dataset_test = sklearn.model_selection.train_test_split(dataset_formato_dialung, train_size=0.75, test_size=0.25)\n",
    "#Divido el dataset de test en 60% y val 40%, al final de la selección será\n",
    "dataset_test, dataset_val = sklearn.model_selection.train_test_split(dataset_formato_dialung, train_size=0.6, test_size=0.4)"
   ]
  },
  {
   "cell_type": "markdown",
   "id": "cebf1dca",
   "metadata": {},
   "source": [
    "## Crear el la clase Dataset de tipo PyTorch Dataset\n",
    "Crea el dataset en formato Torch.data.Dataset, no hace falta modificar esta clase, solo ejecutarla"
   ]
  },
  {
   "cell_type": "code",
   "execution_count": 42,
   "id": "a03e5116",
   "metadata": {},
   "outputs": [],
   "source": [
    "from torchvision.io import read_image\n",
    "from torch.utils.data import Dataset\n",
    "from torchvision import datasets, io\n",
    "from torchvision.transforms import Compose\n",
    "\n",
    "\n",
    "class crearDatasetDIALUNG(Dataset):\n",
    "    \"\"\"\n",
    "    Una clase que hereda los clase torch.utils.data.Dataset para crear un objeto que pueda ser \n",
    "    manipulado por la clase DataLoader de PyTorch\n",
    "    ...\n",
    "\n",
    "    Atributos\n",
    "    ----------\n",
    "    img_labels : pandas.DataFrame\n",
    "        un objeto de tipo pandas.Dataframe que tiene dos columnas, la primera nombre de la imagen y segunda condicion\n",
    "    img_dir : str\n",
    "        Directorio de las imagenes de los datasets\n",
    "    transform : torchvision.transforms\n",
    "        Transformaciones de formato PyTorch para aplicar las imagenes\n",
    "    target_transform : int\n",
    "        Especifica las transformaciones de la etiqueta y características\n",
    "\n",
    "    Métodos\n",
    "    -------\n",
    "    __len__(self)\n",
    "        Devuelve el tamaño del dataframe\n",
    "    \"\"\"\n",
    "    def __init__(self, pandas_file, img_dir, transform=None, target_transform=None):\n",
    "        \"\"\"\n",
    "        Parámetros\n",
    "        ----------\n",
    "        pandas_file : pandas.DataFrame\n",
    "            un objeto de tipo pandas.Dataframe que tiene dos columnas, la primera nombre de la imagen y segunda condicion\n",
    "        img_dir : str\n",
    "            Directorio de las imagenes de los datasets\n",
    "        transform : torchvision.transforms\n",
    "            Transformaciones de formato PyTorch para aplicar las imagenes\n",
    "        target_transform : int\n",
    "            Especifica las transformaciones de la etiqueta y características\n",
    "\n",
    "        \"\"\"\n",
    "        self.img_labels = pandas_file\n",
    "        self.img_dir = img_dir\n",
    "        self.transform = transform\n",
    "        self.target_transform = target_transform\n",
    "\n",
    "    def __len__(self):\n",
    "        \"\"\"\n",
    "        Devuelve\n",
    "        ----------\n",
    "        int \n",
    "            El tamaño del DataFrame en entero\n",
    "        \"\"\"\n",
    "        return len(self.img_labels)\n",
    "\n",
    "    def __getitem__(self, idx):\n",
    "        \"\"\"Obtiene la imagen del idx del dataset, lee en formato Tensor, aplica las transformaciones\n",
    "        y devuelve una imagen y su etiqueta.\n",
    "        Parámetros\n",
    "        ----------\n",
    "        idx : int\n",
    "            índice secuencial de la imagen que se localiza en el DataFrame\n",
    "        Devuelve\n",
    "        ----------\n",
    "        torch.Tensor\n",
    "            La imagen en formato tensor de PyTorch en Escala de Grises (Tensor[1, alto_imagen, ancho_imagen])\n",
    "        int \n",
    "            La etiqueta correspondiente de la imagen\n",
    "        \"\"\"\n",
    "        img_path = os.path.join(self.img_dir, self.img_labels.iloc[idx, 0]) #Busco el nombre de la imagen en la columna cero\n",
    "        image = read_image(img_path, io.image.ImageReadMode.GRAY) #transformo mi imagen directamente a Escala de grises\n",
    "        label = self.img_labels.iloc[idx, 1] #Busco el nombre de la etiqueta el DataFrame\n",
    "        if self.transform: #Aplico transformacion(es) de la imagen\n",
    "            image = self.transform(image)\n",
    "        if self.target_transform: #Aplico transformacion(es) a los labels\n",
    "            label = self.target_transform(label)\n",
    "        return image, label"
   ]
  },
  {
   "cell_type": "markdown",
   "id": "a95fecf5",
   "metadata": {},
   "source": [
    "## Crear los objetos de tipo crearDatasetDIALUNG que definimos anteriormente\n",
    "Sino se ha cambiado ninguna variable, solo faltaría añadir transformaciones si se necesitan, además del formato [one-hot-encode](https://machinelearningmastery.com/why-one-hot-encode-data-in-machine-learning/)"
   ]
  },
  {
   "cell_type": "code",
   "execution_count": 58,
   "id": "2519f775",
   "metadata": {},
   "outputs": [],
   "source": [
    "from torchvision.transforms import Resize #Cargar herramienta para hacer Rescalado\n",
    "from torchvision.transforms import Compose #Compose me sirve para apilar varias transformaciones en una sola\n",
    "from torchvision.transforms import Lambda #Convertir tensor de salida a one-hot-encoded \n",
    "import torch \n",
    "#Aqui se puede añadir más transformaciones si se desean\n",
    "resize_transform = Resize((1024,1024)) #Cambiar el tamaño a 1024x1024\n",
    "transformaciones_dataset = Compose([resize_transform]) #Apila las transformaciones\n",
    "transformacion_salida = Lambda(lambda y: torch.zeros(4, dtype=torch.float).scatter_(0, torch.tensor(y), value=1)) #Hago un\n",
    "\n",
    "#Creo objetos de tipo crearDatasetDIALUNG\n",
    "train_datasetDIALUNG = crearDatasetDIALUNG(dataset_train, direccion_dataset_imagenes, transformaciones_dataset, transformacion_salida)\n",
    "test_datasetDIALUNG = crearDatasetDIALUNG(dataset_test, direccion_dataset_imagenes, transformaciones_dataset, transformacion_salida)\n",
    "val_datasetDIALUNG = crearDatasetDIALUNG(dataset_val, direccion_dataset_imagenes, transformaciones_dataset, transformacion_salida)"
   ]
  },
  {
   "cell_type": "markdown",
   "id": "752ef57c",
   "metadata": {},
   "source": [
    "## Definir los objetos tipo DataLoader de tamaño de 64 imagenes\n",
    "Solo carga los objetos anteriores, en un formato que se puede iterar en PyTorch"
   ]
  },
  {
   "cell_type": "code",
   "execution_count": 59,
   "id": "cb04d009",
   "metadata": {},
   "outputs": [],
   "source": [
    "from torch.utils.data import DataLoader #Clase dataloader para cargar en PyTorch los objetos de tipo Dataset\n",
    "\n",
    "#Creo objetos de tipo DataLoader en lotes de 64 imagenes y barajeados aleatoriamente\n",
    "train_dataloader = DataLoader(train_datasetDIALUNG, batch_size=64, shuffle=True)\n",
    "test_dataloader = DataLoader(test_datasetDIALUNG, batch_size=64, shuffle=True)\n",
    "val_dataloader = DataLoader(val_datasetDIALUNG, batch_size=64, shuffle=True)"
   ]
  },
  {
   "cell_type": "markdown",
   "id": "693165aa",
   "metadata": {},
   "source": [
    "## Verificacion del Dataset de Val\n",
    "Se verifica el Dataset de validación porque es el más pequeño y demora menos en cargar"
   ]
  },
  {
   "cell_type": "code",
   "execution_count": 68,
   "id": "850ca226",
   "metadata": {},
   "outputs": [
    {
     "name": "stdout",
     "output_type": "stream",
     "text": [
      "Feature batch shape: torch.Size([64, 1, 1024, 1024])\n",
      "Labels batch shape: torch.Size([64, 4])\n"
     ]
    },
    {
     "data": {
      "image/png": "[encoded data removed]",
      "text/plain": [
       "<Figure size 432x288 with 1 Axes>"
      ]
     },
     "metadata": {
      "needs_background": "light"
     },
     "output_type": "display_data"
    },
    {
     "name": "stdout",
     "output_type": "stream",
     "text": [
      "Label one-hot: tensor([1., 0., 0., 0.]) Categoria: normal\n"
     ]
    }
   ],
   "source": [
    "import matplotlib.pyplot as plt\n",
    "# Display image and label.\n",
    "train_features, train_labels = next(iter(train_dataloader))\n",
    "print(f\"Feature batch shape: {train_features.size()}\")\n",
    "print(f\"Labels batch shape: {train_labels.size()}\")\n",
    "img = train_features[0].squeeze()\n",
    "label = train_labels[0]\n",
    "plt.imshow(img, cmap=\"gray\")\n",
    "plt.show()\n",
    "print(f\"Label one-hot encoding: {label} Categoria: {mapa_condiciones[int(torch.argmax(label))]}\")"
   ]
  },
  {
   "cell_type": "markdown",
   "id": "bcfd03fd",
   "metadata": {},
   "source": [
    "# Guardar los datos finales\n",
    "## Funciones para copiar el dataset filtrado a una nueva carpeta\n",
    "Guardar los datasets originales en la ruta deseada y calcula el tamaño del mismo"
   ]
  },
  {
   "cell_type": "code",
   "execution_count": 131,
   "id": "b0b440d1",
   "metadata": {},
   "outputs": [],
   "source": [
    "import math\n",
    "import shutil #Utilidad para copiar datos\n",
    "\n",
    "# Funcion para convertir bytes a su represetanción adecuada\n",
    "#https://stackoverflow.com/questions/5194057/better-way-to-convert-file-sizes-in-python?noredirect=1&lq=1\n",
    "def convert_size(size_bytes):\n",
    "   if size_bytes == 0:\n",
    "       return \"0B\"\n",
    "   size_name = (\"B\", \"KB\", \"MB\", \"GB\", \"TB\", \"PB\", \"EB\", \"ZB\", \"YB\")\n",
    "   i = int(math.floor(math.log(size_bytes, 1024)))\n",
    "   p = math.pow(1024, i)\n",
    "   s = round(size_bytes / p, 2)\n",
    "   return \"{} {}\".format(s, size_name[i])\n",
    "\n",
    "def anadir_ruta_al_csv(ruta, nombre_dataset):\n",
    "    return os.path.join(nombre_dataset, ruta)\n",
    "\n",
    "#Funcion para copiar el dataset a una nueva carpeta\n",
    "def copiar_dataset_filtrado(dataset, ruta_dataset, carpeta_salida_dataset, nombre_dataset, copiar = False):\n",
    "    tamano_dataset = 0\n",
    "    #checo si la carpeta existe\n",
    "    nuevo_directorio_dataset = os.path.join(carpeta_salida_dataset, nombre_dataset)\n",
    "    if os.path.exists(nuevo_directorio_dataset):\n",
    "        print(\"El Directorio del nuevo dataset {} existe\".format(nuevo_directorio_dataset))\n",
    "    else:\n",
    "        print(\"Directorio creado en: {}\".format(dataset_formato_dialung))\n",
    "        os.mkdir(nuevo_directorio_dataset)\n",
    "\n",
    "    for idx_img in range(len(dataset)):\n",
    "        ruta_original_imagen = os.path.join(ruta_dataset, dataset_formato_dialung.iloc[idx_img, 0])\n",
    "        tamano_dataset += os.path.getsize(ruta_imagen)\n",
    "        if copiar:\n",
    "            shutil.copy(ruta_original_imagen, nuevo_directorio_dataset)\n",
    "\n",
    "    print(\"Tamaño del dataset filtrado: {}\".format(convert_size(tamano_dataset))) \n",
    "\n",
    "def guardar_csv_datasets(carpeta_salida_dataset, nombre_dataset, dataset_original_filtrado, dialung_train, dialung_test, dialung_val):\n",
    "    nombre_salida_csv = \"csv_datasets\"\n",
    "    nuevo_directorio_csv = os.path.join(carpeta_salida_dataset, nombre_salida_csv)\n",
    "    if os.path.exists(nuevo_directorio_csv):\n",
    "        print(\"El Directorio de los csv {} existe\".format(nuevo_directorio_csv))\n",
    "    else:\n",
    "        print(\"Directorio  para los csvs creado en: {}\".format(nuevo_directorio_csv))\n",
    "        os.mkdir(nuevo_directorio_csv)\n",
    "    # Añadir la direccion del nombre del dataset a las rutas de las imagenes\n",
    "    nombre_primera_columna = list(dataset_formato_dialung.columns)[0]\n",
    "    dataset_original_filtrado.loc[:, nombre_primera_columna]  = dataset_original_filtrado.loc[:, nombre_primera_columna].apply(lambda x: os.path.join(nombre_dataset,x))\n",
    "    dialung_train.loc[:, nombre_primera_columna] = dialung_train.loc[:, nombre_primera_columna].apply(lambda x: os.path.join(nombre_dataset,x))\n",
    "    dialung_test.loc[:, nombre_primera_columna]  = dialung_test.loc[:, nombre_primera_columna].apply(lambda x: os.path.join(nombre_dataset,x))\n",
    "    dialung_val.loc[:, nombre_primera_columna]  = dialung_val.loc[:, nombre_primera_columna].apply(lambda x: os.path.join(nombre_dataset,x))\n",
    "    #Guardar los datasets\n",
    "    dataset_original_filtrado.to_csv(os.path.join(nuevo_directorio_csv, \"{}_original_filtrado.csv\".format(nombre_dataset)))\n",
    "    dialung_train.to_csv(os.path.join(nuevo_directorio_csv, \"{}_train.csv\".format(nombre_dataset)))\n",
    "    dialung_test.to_csv(os.path.join(nuevo_directorio_csv, \"{}_test.csv\".format(nombre_dataset)))\n",
    "    dialung_val.to_csv(os.path.join(nuevo_directorio_csv, \"{}_val.csv\".format(nombre_dataset)))\n",
    "    print(\"Archivos guardados en: {}\".format(nuevo_directorio_csv))"
   ]
  },
  {
   "cell_type": "markdown",
   "id": "520539a1",
   "metadata": {},
   "source": [
    "## Guardar el dataset filtrado en una nueva carpeta\n",
    "**Instrucciones:**\n",
    "- Copiar y pegar una ruta donde se desee copiar el dataset filtrado en la variable`carpeta_salida_dataset_filtrado`\n",
    "- Por términos de identificación, se recomienda poner el nombre del dataset en la variable `nombre_dataset`\n",
    "- Si se desea copiar los archivos a la ruta final(Se demora un tiempo y necesita espacio ya asignado), cambiar la línea 4 de `copiar = False` a `copiar = True`"
   ]
  },
  {
   "cell_type": "code",
   "execution_count": 132,
   "id": "4d6fa8b6",
   "metadata": {},
   "outputs": [
    {
     "name": "stdout",
     "output_type": "stream",
     "text": [
      "El Directorio del nuevo dataset /media/josejacomeb/Datos1/DatasetsMédicos/DatasetFiltrados/ChinaCXRSet_Filtrado existe\n",
      "Tamaño del dataset filtrado: 4.23 GB\n"
     ]
    }
   ],
   "source": [
    "carpeta_salida_dataset_filtrado = #Carpeta de salida de los datos filtrados\n",
    "nombre_dataset=  #Nombre del dataset final para identificación\n",
    "copiar_dataset_filtrado(dataset_formato_dialung, ruta_dataset = direccion_dataset_imagenes, \n",
    "                        carpeta_salida_dataset_filtrado, nombre_dataset, copiar = False)"
   ]
  },
  {
   "cell_type": "markdown",
   "id": "e73ae77c",
   "metadata": {},
   "source": [
    "## Guardar los csv de los datasets \n",
    "Aquí ya básicamente, si se puso todos los nombres, se ejecuta tranquilamente."
   ]
  },
  {
   "cell_type": "code",
   "execution_count": 133,
   "id": "3fe1a046",
   "metadata": {},
   "outputs": [
    {
     "name": "stdout",
     "output_type": "stream",
     "text": [
      "El Directorio de los csv /media/josejacomeb/Datos1/DatasetsMédicos/DatasetFiltrados/csv_datasets existe\n",
      "Archivos guardados en: /media/josejacomeb/Datos1/DatasetsMédicos/DatasetFiltrados/csv_datasets\n"
     ]
    }
   ],
   "source": [
    "guardar_csv_datasets(carpeta_salida_dataset_filtrado, nombre_dataset, dataset_original_filtrado = dataset_filtrado, \n",
    "                     dialung_train = dataset_train, dialung_test = dataset_test, dialung_val = dataset_val )"
   ]
  }
 ],
 "metadata": {
  "kernelspec": {
   "display_name": "Python 3",
   "language": "python",
   "name": "python3"
  },
  "language_info": {
   "codemirror_mode": {
    "name": "ipython",
    "version": 3
   },
   "file_extension": ".py",
   "mimetype": "text/x-python",
   "name": "python",
   "nbconvert_exporter": "python",
   "pygments_lexer": "ipython3",
   "version": "3.8.8"
  }
 },
 "nbformat": 4,
 "nbformat_minor": 5
}
