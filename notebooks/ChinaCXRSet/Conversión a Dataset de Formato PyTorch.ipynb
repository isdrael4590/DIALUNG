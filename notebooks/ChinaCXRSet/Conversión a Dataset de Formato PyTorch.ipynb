{
 "cells": [
  {
   "cell_type": "markdown",
   "id": "1cb84db2",
   "metadata": {},
   "source": [
    "# ChinaCXRSet\n",
    "\n",
    "Distribución del dataset:\n",
    "\n",
    "- 336 casos de pacientes con manifestación de tuberculosis\n",
    "- 326 casos normales \n",
    "\n",
    "Atributos \n",
    "\n",
    "- Género\n",
    "- Edad\n",
    "- Indica la anormalidad(Sano o Enfermo con Manifestación de Tuberculosis) \n",
    "\n",
    "Atributos finales\n",
    "- Ruta de la imagen `image_name`\n",
    "- Condición `condition`\n",
    "\n",
    "Label map:\n",
    "```python\n",
    "labels_map = {\n",
    "    0: \"normal\",\n",
    "    1: \"tuberculosis\",\n",
    "    2: \"neumonia\",\n",
    "    3: \"covid-19\"\n",
    "}\n",
    "```"
   ]
  },
  {
   "cell_type": "markdown",
   "id": "88ba47a8",
   "metadata": {},
   "source": [
    "# Cargar los datos del Dataset\n",
    "## Inicializar librerias"
   ]
  },
  {
   "cell_type": "code",
   "execution_count": 1,
   "id": "d8d1325b",
   "metadata": {},
   "outputs": [],
   "source": [
    "import os\n",
    "import random\n",
    "\n",
    "import numpy as np\n",
    "import pandas as pd\n",
    "\n",
    "import sklearn.model_selection #Librería para división del dataset\n",
    "\n",
    "mapa_condiciones = {\n",
    "    0: \"normal\",\n",
    "    1: \"tuberculosis\",\n",
    "    2: \"neumonia\",\n",
    "    3: \"covid-19\"\n",
    "}"
   ]
  },
  {
   "cell_type": "markdown",
   "id": "aa95c519",
   "metadata": {},
   "source": [
    "## Código de carga del dataset"
   ]
  },
  {
   "cell_type": "code",
   "execution_count": 2,
   "id": "8922ad1c",
   "metadata": {},
   "outputs": [],
   "source": [
    "direccion_dataset = \"/media/josejacomeb/Datos1/DatasetsMédicos/ChinaSet_AllFiles/\" #Poner la dirección del dataset aquí\n",
    "ruta_clinical_readings= os.path.join(direccion_dataset, \"ClinicalReadings/\")\n",
    "ruta_cxr_png = os.path.join(direccion_dataset, \"CXR_png/\")\n",
    "extension_cxr = \"png\"\n",
    "extension_cr = \"txt\" #Extension Clinical Reading\n",
    "lista_elementos_dataset = os.listdir(ruta_clinical_readings)\n",
    "datos = [] #np.zeros((len(lista_elementos_dataset),), dtype=[(\"path\", np.str_), (\"genre\", np.str_), (\"age\", \"f4\"), (\"condition\", \"a10\")])\n",
    "\n",
    "for idx, elemento in enumerate(lista_elementos_dataset):\n",
    "    nombre_elemento = elemento.split(\".\")[0]\n",
    "    ruta_elemento_cxr = os.path.join(ruta_cxr_png, \"{}.{}\".format(nombre_elemento, extension_cxr))\n",
    "    ruta_elemento_cr = os.path.join(ruta_clinical_readings, \"{}.{}\".format(nombre_elemento, extension_cr))\n",
    "    nombre_elemento_cxr = \"{}.{}\".format(nombre_elemento, extension_cxr)\n",
    "    with open(ruta_elemento_cr, 'r') as archivo_texto:\n",
    "        datos_archivo_texto = archivo_texto.read() #Obtengo la informacion del dataset\n",
    "        datos_archivo_texto = datos_archivo_texto.rstrip() #Eliminar tabulación final\n",
    "        datos_archivo_texto.replace(\"\\t\", \"\")\n",
    "        atributos_archivo = datos_archivo_texto.split('\\n') #Separar por enters\n",
    "        condicion_paciente = atributos_archivo[-1] #Ultimo elemento\n",
    "        genero = \"\"\n",
    "        edad = 0\n",
    "        if \",\" in atributos_archivo[0]:\n",
    "            genero_edad = atributos_archivo[0].rstrip().lstrip().split(\",\")\n",
    "        \n",
    "        else:\n",
    "            genero_edad = atributos_archivo[0].rstrip().split(\" \")\n",
    "            #Verificar si el genero y la edad estan unidos\n",
    "            if len(genero_edad) == 1:\n",
    "                if genero_edad[0].find('female') == 0:\n",
    "                    genero_edad.append(genero_edad[0].lstrip(\"female\"))\n",
    "                    genero_edad[0] = \"female\"\n",
    "                elif genero_edad[0].find('male') == 0:\n",
    "                    genero_edad.append(genero_edad[0].lstrip(\"male\"))\n",
    "                    genero_edad[0] = \"male\"\n",
    "        #Eliminar los caracteres vacios\n",
    "        genero_edad = [valido for valido in genero_edad if valido]\n",
    "\n",
    "        genero, edad = genero_edad[0:2]\n",
    "\n",
    "        if \"yrs\" in edad: #Convertir a int\n",
    "            edad = edad.rstrip(\"yrs\")\n",
    "        elif \"yr\" in edad: #Convertir a int\n",
    "            edad = edad.rstrip(\"yr\")\n",
    "        elif \"month\" in edad: #Convertir a int\n",
    "            edad = edad.rstrip(\"month\")\n",
    "            edad = float(edad)/12.0\n",
    "        elif \"days\" in edad: #Convertir a int\n",
    "            edad = edad.rstrip(\"days\")\n",
    "            edad = float(edad)/365.0\n",
    "        \n",
    "        genero = genero.rstrip().lstrip().lower()\n",
    "        if genero.find(\"fem\")==0:\n",
    "            genero = 'female'\n",
    "        edad = float(edad)\n",
    "    ruta_elemento_clinical_reading = os.path.join(ruta_clinical_readings)\n",
    "    datos.append({\"image_name\":nombre_elemento_cxr, \"genre\": genero, \"age\": edad,  \"condition\": condicion_paciente})\n",
    "dataset_completo = pd.DataFrame(datos) #Convertir a formato Pandas"
   ]
  },
  {
   "cell_type": "markdown",
   "id": "494085e6",
   "metadata": {},
   "source": [
    "## Filtrar los datos"
   ]
  },
  {
   "cell_type": "code",
   "execution_count": 3,
   "id": "b218ac7a",
   "metadata": {},
   "outputs": [
    {
     "name": "stdout",
     "output_type": "stream",
     "text": [
      "Tamaño del dataset en formato DIALUNG: 662\n",
      "Número de columnas: 2 Nombre Columnas: ['image_name', 'condition']\n",
      "Número de muestras por condicion normal: 324\n",
      "Número de muestras por condicion tuberculosis: 338\n"
     ]
    }
   ],
   "source": [
    "dataset_filtrado = dataset_completo.copy() #Copio el Dataset para no perder los datos, uso copy para hacer un nuevo objeto\n",
    "########## Operación de filtrar el dataset original ##########\n",
    "dataset_filtrado.loc[dataset_filtrado[\"condition\"] != \"normal\", 'condition'] = 'tuberculosis'\n",
    "dataset_filtrado.loc[dataset_filtrado[\"condition\"] == \"normal\", 'condition'] = 0\n",
    "dataset_filtrado.loc[dataset_filtrado[\"condition\"] == \"tuberculosis\", 'condition'] = 1\n",
    "########## Operación de eliminar atributos innecesarios para completar el format DIALUNG ##########\n",
    "dataset_formato_dialung = dataset_filtrado.copy() #Copio el dataset filtrado para no perder los atributos originales\n",
    "_ = dataset_formato_dialung.pop(\"age\") #Eliminar la columna de la edad \n",
    "_ = dataset_formato_dialung.pop(\"genre\") #Eliminar la columna del género\n",
    "### Impresion de los datos\n",
    "print(\"Tamaño del dataset en formato DIALUNG: {}\".format(len(dataset_formato_dialung)))\n",
    "print(\"Número de columnas: {} Nombre Columnas: {}\".format(len(dataset_formato_dialung.columns), list(dataset_formato_dialung.columns)))\n",
    "conteo_valores = dataset_filtrado[\"condition\"].value_counts()\n",
    "for condicion in mapa_condiciones.keys(): #Itero sobre las condiciones\n",
    "    if condicion in conteo_valores.keys():\n",
    "        print(\"Número de muestras por condicion {}: {}\".format(mapa_condiciones[condicion], conteo_valores[condicion]))\n",
    "    "
   ]
  },
  {
   "cell_type": "markdown",
   "id": "1cc0717b",
   "metadata": {},
   "source": [
    "## Dividir el Dataset"
   ]
  },
  {
   "cell_type": "code",
   "execution_count": 4,
   "id": "e710842b",
   "metadata": {},
   "outputs": [],
   "source": [
    "#Primero divido el dataset en train 75% y test 25%, no se puede hacer de golpe para los tres datasets\n",
    "dataset_train, dataset_test = sklearn.model_selection.train_test_split(dataset_formato_dialung, train_size=0.75, test_size=0.25)\n",
    "#Divido el dataset de test en 60% y val 40%, al final de la selección será\n",
    "dataset_test, dataset_val = sklearn.model_selection.train_test_split(dataset_formato_dialung, train_size=0.6, test_size=0.4)"
   ]
  },
  {
   "cell_type": "markdown",
   "id": "c0b842b4",
   "metadata": {},
   "source": [
    "## Crear el la clase Dataset de tipo PyTorch Dataset"
   ]
  },
  {
   "cell_type": "code",
   "execution_count": 196,
   "id": "e359e291",
   "metadata": {},
   "outputs": [],
   "source": [
    "from torchvision.io import read_image\n",
    "from torch.utils.data import Dataset\n",
    "from torchvision import datasets, io\n",
    "from torchvision.transforms import Compose\n",
    "\n",
    "\n",
    "class crearDatasetDIALUNG(Dataset):\n",
    "    \"\"\"\n",
    "    Una clase que hereda los clase torch.utils.data.Dataset para crear un objeto que pueda ser \n",
    "    manipulado por la clase DataLoader de PyTorch\n",
    "    ...\n",
    "\n",
    "    Atributos\n",
    "    ----------\n",
    "    img_labels : pandas.DataFrame\n",
    "        un objeto de tipo pandas.Dataframe que tiene dos columnas, la primera nombre de la imagen y segunda condicion\n",
    "    img_dir : str\n",
    "        Directorio de las imagenes de los datasets\n",
    "    transform : torchvision.transforms\n",
    "        Transformaciones de formato PyTorch para aplicar las imagenes\n",
    "    target_transform : int\n",
    "        Especifica las transformaciones de la etiqueta y características\n",
    "\n",
    "    Métodos\n",
    "    -------\n",
    "    __len__(self)\n",
    "        Devuelve el tamaño del dataframe\n",
    "    \"\"\"\n",
    "    def __init__(self, pandas_file, img_dir, transform=None, target_transform=None):\n",
    "        \"\"\"\n",
    "        Parámetros\n",
    "        ----------\n",
    "        pandas_file : pandas.DataFrame\n",
    "            un objeto de tipo pandas.Dataframe que tiene dos columnas, la primera nombre de la imagen y segunda condicion\n",
    "        img_dir : str\n",
    "            Directorio de las imagenes de los datasets\n",
    "        transform : torchvision.transforms\n",
    "            Transformaciones de formato PyTorch para aplicar las imagenes\n",
    "        target_transform : int\n",
    "            Especifica las transformaciones de la etiqueta y características\n",
    "\n",
    "        \"\"\"\n",
    "        self.img_labels = pandas_file\n",
    "        self.img_dir = img_dir\n",
    "        self.transform = transform\n",
    "        self.target_transform = target_transform\n",
    "\n",
    "    def __len__(self):\n",
    "        \"\"\"\n",
    "        Devuelve\n",
    "        ----------\n",
    "        int \n",
    "            El tamaño del DataFrame en entero\n",
    "        \"\"\"\n",
    "        return len(self.img_labels)\n",
    "\n",
    "    def __getitem__(self, idx):\n",
    "        \"\"\"Obtiene la imagen del idx del dataset, lee en formato Tensor, aplica las transformaciones\n",
    "        y devuelve una imagen y su etiqueta.\n",
    "        Parámetros\n",
    "        ----------\n",
    "        idx : int\n",
    "            índice secuencial de la imagen que se localiza en el DataFrame\n",
    "        Devuelve\n",
    "        ----------\n",
    "        torch.Tensor\n",
    "            La imagen en formato tensor de PyTorch en Escala de Grises (Tensor[1, alto_imagen, ancho_imagen])\n",
    "        int \n",
    "            La etiqueta correspondiente de la imagen\n",
    "        \"\"\"\n",
    "        img_path = os.path.join(self.img_dir, self.img_labels.iloc[idx, 0]) #Busco el nombre de la imagen en la columna cero\n",
    "        image = read_image(img_path, io.image.ImageReadMode.GRAY) #transformo mi imagen directamente a Escala de grises\n",
    "        label = self.img_labels.iloc[idx, 1] #Busco el nombre de la etiqueta el DataFrame\n",
    "        if self.transform: #Aplico transformacion(es) de la imagen\n",
    "            image = self.transform(image)\n",
    "        if self.target_transform: #Aplico transformacion(es) a los labels\n",
    "            label = self.target_transform(label)\n",
    "        return image, label"
   ]
  },
  {
   "cell_type": "code",
   "execution_count": 197,
   "id": "dac540ec",
   "metadata": {},
   "outputs": [],
   "source": [
    "from torchvision.transforms import Resize #Cargar herramienta para hacer Rescalado\n",
    "from torchvision.transforms import Compose #Compose me sirve para apilar varias transformaciones en una sola\n",
    "from torchvision.transforms import Lambda #Convertir tensor de salida a one-hot-encoded \n",
    "import torch \n",
    "\n",
    "resize_transform = Resize((1024,1024)) #Cambiar el tamaño a 1024x1024\n",
    "transformaciones_dataset = Compose([resize_transform]) #Apila las transformaciones\n",
    "transformacion_salida = Lambda(lambda y: torch.zeros(4, dtype=torch.float).scatter_(0, torch.tensor(y), value=1)) #Hago un\n",
    "\n",
    "#Creo objetos de tipo crearDatasetDIALUNG\n",
    "train_datasetDIALUNG = crearDatasetDIALUNG(dataset_train, ruta_cxr_png, transformaciones_dataset, transformacion_salida)\n",
    "test_datasetDIALUNG = crearDatasetDIALUNG(dataset_test, ruta_cxr_png, transformaciones_dataset, transformacion_salida)\n",
    "val_datasetDIALUNG = crearDatasetDIALUNG(dataset_val, ruta_cxr_png, transformaciones_dataset, transformacion_salida)"
   ]
  },
  {
   "cell_type": "code",
   "execution_count": 198,
   "id": "84cc8500",
   "metadata": {},
   "outputs": [],
   "source": [
    "from torch.utils.data import DataLoader #Clase dataloader para cargar en PyTorch los objetos de tipo Dataset\n",
    "\n",
    "#Creo objetos de tipo DataLoader en lotes de 64 imagenes y barajeados aleatoriamente\n",
    "train_dataloader = DataLoader(train_datasetDIALUNG, batch_size=64, shuffle=True)\n",
    "test_dataloader = DataLoader(test_datasetDIALUNG, batch_size=64, shuffle=True)\n",
    "val_dataloader = DataLoader(val_datasetDIALUNG, batch_size=64, shuffle=True)"
   ]
  },
  {
   "cell_type": "markdown",
   "id": "332c63af",
   "metadata": {},
   "source": [
    "## Verificacion del Dataset de Val\n",
    "Se verifica el Dataset de validación porque es el más pequeño y demora menos en cargar"
   ]
  },
  {
   "cell_type": "code",
   "execution_count": 199,
   "id": "9cdc082e",
   "metadata": {},
   "outputs": [
    {
     "name": "stdout",
     "output_type": "stream",
     "text": [
      "Feature batch shape: torch.Size([64, 1, 1024, 1024])\n",
      "Labels batch shape: torch.Size([64, 4])\n"
     ]
    },
    {
     "data": {
      "image/png": "[encoded data removed]",
      "text/plain": [
       "<Figure size 432x288 with 1 Axes>"
      ]
     },
     "metadata": {
      "needs_background": "light"
     },
     "output_type": "display_data"
    },
    {
     "name": "stdout",
     "output_type": "stream",
     "text": [
      "Label one-hot encoding: tensor([0., 1., 0., 0.]) Categoria: tuberculosis\n"
     ]
    }
   ],
   "source": [
    "import matplotlib.pyplot as plt\n",
    "# Display image and label.\n",
    "train_features, train_labels = next(iter(train_dataloader))\n",
    "print(f\"Feature batch shape: {train_features.size()}\")\n",
    "print(f\"Labels batch shape: {train_labels.size()}\")\n",
    "img = train_features[0].squeeze()\n",
    "label = train_labels[0]\n",
    "plt.imshow(img, cmap=\"gray\")\n",
    "plt.show()\n",
    "print(f\"Label one-hot encoding: {label} Categoria: {mapa_condiciones[int(torch.argmax(label))]}\")"
   ]
  },
  {
   "cell_type": "markdown",
   "id": "37ae07db",
   "metadata": {},
   "source": [
    "# Guardar los datos finales\n",
    "## Funciones para copiar el dataset filtrado a una nueva carpeta\n",
    "Guardar los datasets originales en la ruta deseada y calcula el tamaño del mismo"
   ]
  },
  {
   "cell_type": "code",
   "execution_count": 9,
   "id": "d3e3499a",
   "metadata": {},
   "outputs": [],
   "source": [
    "import math\n",
    "import shutil #Utilidad para copiar datos\n",
    "\n",
    "# Funcion para convertir bytes a su represetanción adecuada\n",
    "#https://stackoverflow.com/questions/5194057/better-way-to-convert-file-sizes-in-python?noredirect=1&lq=1\n",
    "def convert_size(size_bytes):\n",
    "   if size_bytes == 0:\n",
    "       return \"0B\"\n",
    "   size_name = (\"B\", \"KB\", \"MB\", \"GB\", \"TB\", \"PB\", \"EB\", \"ZB\", \"YB\")\n",
    "   i = int(math.floor(math.log(size_bytes, 1024)))\n",
    "   p = math.pow(1024, i)\n",
    "   s = round(size_bytes / p, 2)\n",
    "   return \"{} {}\".format(s, size_name[i])\n",
    "\n",
    "def anadir_ruta_al_csv(ruta, nombre_dataset):\n",
    "    return os.path.join(nombre_dataset, ruta)\n",
    "\n",
    "#Funcion para copiar el dataset a una nueva carpeta\n",
    "def copiar_dataset_filtrado(dataset, ruta_dataset, carpeta_salida_dataset, nombre_dataset, copiar = False):\n",
    "    tamano_dataset = 0\n",
    "    #checo si la carpeta existe\n",
    "    nuevo_directorio_dataset = os.path.join(carpeta_salida_dataset, nombre_dataset)\n",
    "    if os.path.exists(nuevo_directorio_dataset):\n",
    "        print(\"El Directorio del nuevo dataset {} existe\".format(nuevo_directorio_dataset))\n",
    "    else:\n",
    "        print(\"Directorio creado en: {}\".format(dataset_formato_dialung))\n",
    "        os.mkdir(nuevo_directorio_dataset)\n",
    "\n",
    "    for idx_img in range(len(dataset)):\n",
    "        ruta_original_imagen = os.path.join(ruta_dataset, dataset_formato_dialung.iloc[idx_img, 0])\n",
    "        tamano_dataset += os.path.getsize(ruta_original_imagen)\n",
    "        if copiar:\n",
    "            shutil.copy(ruta_original_imagen, nuevo_directorio_dataset)\n",
    "\n",
    "    print(\"Tamaño del dataset filtrado: {}\".format(convert_size(tamano_dataset))) \n",
    "\n",
    "def guardar_csv_datasets(carpeta_salida_dataset, nombre_dataset, dataset_original_filtrado, dialung_train, dialung_test, dialung_val):\n",
    "    nombre_salida_csv = \"csv_datasets\"\n",
    "    nuevo_directorio_csv = os.path.join(carpeta_salida_dataset, nombre_salida_csv)\n",
    "    if os.path.exists(nuevo_directorio_csv):\n",
    "        print(\"El Directorio de los csv {} existe\".format(nuevo_directorio_csv))\n",
    "    else:\n",
    "        print(\"Directorio  para los csvs creado en: {}\".format(nuevo_directorio_csv))\n",
    "        os.mkdir(nuevo_directorio_csv)\n",
    "    # Añadir la direccion del nombre del dataset a las rutas de las imagenes\n",
    "    nombre_primera_columna = list(dataset_formato_dialung.columns)[0]\n",
    "    dataset_original_filtrado.loc[:, nombre_primera_columna]  = dataset_original_filtrado.loc[:, nombre_primera_columna].apply(lambda x: os.path.join(nombre_dataset,x))\n",
    "    dialung_train.loc[:, nombre_primera_columna] = dialung_train.loc[:, nombre_primera_columna].apply(lambda x: os.path.join(nombre_dataset,x))\n",
    "    dialung_test.loc[:, nombre_primera_columna]  = dialung_test.loc[:, nombre_primera_columna].apply(lambda x: os.path.join(nombre_dataset,x))\n",
    "    dialung_val.loc[:, nombre_primera_columna]  = dialung_val.loc[:, nombre_primera_columna].apply(lambda x: os.path.join(nombre_dataset,x))\n",
    "    #Guardar los datasets\n",
    "    dataset_original_filtrado.to_csv(os.path.join(nuevo_directorio_csv, \"{}_original_filtrado.csv\".format(nombre_dataset)))\n",
    "    dialung_train.to_csv(os.path.join(nuevo_directorio_csv, \"{}_train.csv\".format(nombre_dataset)))\n",
    "    dialung_test.to_csv(os.path.join(nuevo_directorio_csv, \"{}_test.csv\".format(nombre_dataset)))\n",
    "    dialung_val.to_csv(os.path.join(nuevo_directorio_csv, \"{}_val.csv\".format(nombre_dataset)))\n",
    "    print(\"Archivos guardados en: {}\".format(nuevo_directorio_csv))"
   ]
  },
  {
   "cell_type": "markdown",
   "id": "4b383c2d",
   "metadata": {},
   "source": [
    "## Guardar el dataset filtrado en una nueva carpeta"
   ]
  },
  {
   "cell_type": "code",
   "execution_count": 10,
   "id": "f0dbfb3f",
   "metadata": {},
   "outputs": [
    {
     "name": "stdout",
     "output_type": "stream",
     "text": [
      "El Directorio del nuevo dataset /media/josejacomeb/ESD-USB/Datasets/ChinaCXRSet_Filtrado existe\n",
      "Tamaño del dataset filtrado: 3.51 GB\n"
     ]
    }
   ],
   "source": [
    "carpeta_salida_dataset_filtrado = \"/media/josejacomeb/ESD-USB/Datasets/\" #Carpeta de salida de los datos filtrados\n",
    "nombre_dataset=\"ChinaCXRSet_Filtrado\" #Nombre del dataset final para identificación\n",
    "copiar_dataset_filtrado(dataset_formato_dialung, ruta_cxr_png, \n",
    "                        carpeta_salida_dataset_filtrado, \n",
    "                        nombre_dataset, copiar = True)"
   ]
  },
  {
   "cell_type": "markdown",
   "id": "4a005aa5",
   "metadata": {},
   "source": [
    "## Guardar los csv de los datasets "
   ]
  },
  {
   "cell_type": "code",
   "execution_count": 11,
   "id": "6ba6c467",
   "metadata": {},
   "outputs": [
    {
     "name": "stdout",
     "output_type": "stream",
     "text": [
      "El Directorio de los csv /media/josejacomeb/ESD-USB/Datasets/csv_datasets existe\n"
     ]
    },
    {
     "name": "stderr",
     "output_type": "stream",
     "text": [
      "/home/josejacomeb/anaconda3/lib/python3.7/site-packages/pandas/core/indexing.py:1047: SettingWithCopyWarning: \n",
      "A value is trying to be set on a copy of a slice from a DataFrame.\n",
      "Try using .loc[row_indexer,col_indexer] = value instead\n",
      "\n",
      "See the caveats in the documentation: https://pandas.pydata.org/pandas-docs/stable/user_guide/indexing.html#returning-a-view-versus-a-copy\n",
      "  self.obj[item_labels[indexer[info_axis]]] = value\n"
     ]
    },
    {
     "name": "stdout",
     "output_type": "stream",
     "text": [
      "Archivos guardados en: /media/josejacomeb/ESD-USB/Datasets/csv_datasets\n"
     ]
    }
   ],
   "source": [
    "guardar_csv_datasets(carpeta_salida_dataset_filtrado, nombre_dataset, dataset_original_filtrado = dataset_filtrado, \n",
    "                     dialung_train = dataset_train, dialung_test = dataset_test, dialung_val = dataset_val )"
   ]
  }
 ],
 "metadata": {
  "kernelspec": {
   "display_name": "Python 3",
   "language": "python",
   "name": "python3"
  },
  "language_info": {
   "codemirror_mode": {
    "name": "ipython",
    "version": 3
   },
   "file_extension": ".py",
   "mimetype": "text/x-python",
   "name": "python",
   "nbconvert_exporter": "python",
   "pygments_lexer": "ipython3",
   "version": "3.8.8"
  }
 },
 "nbformat": 4,
 "nbformat_minor": 5
}
