{
 "cells": [
  {
   "cell_type": "markdown",
   "id": "fd939bea",
   "metadata": {},
   "source": [
    "# ChinaCXRSet\n",
    "\n",
    "Distribución del dataset:\n",
    "\n",
    "- 336 casos de pacientes con manifestación de tuberculosis\n",
    "- 326 casos normales \n",
    "\n",
    "Atributos \n",
    "\n",
    "- Género\n",
    "- Edad\n",
    "- Indica la anormalidad(Sano o Enfermo con Manifestación de Tuberculosis) \n",
    "\n",
    "Atributos finales\n",
    "- Ruta de la imagen `image_name`\n",
    "- Condición `condition`\n",
    "\n",
    "Label map:\n",
    "```python\n",
    "labels_map = {\n",
    "    0: \"normal\",\n",
    "    1: \"tuberculosis\",\n",
    "    2: \"neumonia\",\n",
    "    3: \"covid-19\"\n",
    "}\n",
    "```"
   ]
  },
  {
   "cell_type": "code",
   "execution_count": 1,
   "id": "03631be3",
   "metadata": {},
   "outputs": [],
   "source": [
    "import os\n",
    "import random\n",
    "\n",
    "import numpy as np\n",
    "import pandas as pd\n",
    "\n",
    "import sklearn.model_selection"
   ]
  },
  {
   "cell_type": "code",
   "execution_count": 2,
   "id": "c19ea873",
   "metadata": {},
   "outputs": [],
   "source": [
    "direccion_dataset = \"/media/josejacomeb/Datos1/DatasetsMédicos/ChinaSet_AllFiles/\" #Poner la dirección del dataset aquí\n",
    "ruta_clinical_readings= os.path.join(direccion_dataset, \"ClinicalReadings/\")\n",
    "ruta_cxr_png = os.path.join(direccion_dataset, \"CXR_png/\")\n",
    "extension_cxr = \"png\"\n",
    "extension_cr = \"txt\" #Extension Clinical Reading\n",
    "lista_elementos_dataset = os.listdir(ruta_clinical_readings)\n",
    "datos = [] #np.zeros((len(lista_elementos_dataset),), dtype=[(\"path\", np.str_), (\"genre\", np.str_), (\"age\", \"f4\"), (\"condition\", \"a10\")])\n",
    "\n",
    "for idx, elemento in enumerate(lista_elementos_dataset):\n",
    "    nombre_elemento = elemento.split(\".\")[0]\n",
    "    ruta_elemento_cxr = os.path.join(ruta_cxr_png, \"{}.{}\".format(nombre_elemento, extension_cxr))\n",
    "    ruta_elemento_cr = os.path.join(ruta_clinical_readings, \"{}.{}\".format(nombre_elemento, extension_cr))\n",
    "    nombre_elemento_cxr = \"{}.{}\".format(nombre_elemento, extension_cxr)\n",
    "    with open(ruta_elemento_cr, 'r') as archivo_texto:\n",
    "        datos_archivo_texto = archivo_texto.read() #Obtengo la informacion del dataset\n",
    "        datos_archivo_texto = datos_archivo_texto.rstrip() #Eliminar tabulación final\n",
    "        datos_archivo_texto.replace(\"\\t\", \"\")\n",
    "        atributos_archivo = datos_archivo_texto.split('\\n') #Separar por enters\n",
    "        condicion_paciente = atributos_archivo[-1] #Ultimo elemento\n",
    "        genero = \"\"\n",
    "        edad = 0\n",
    "        if \",\" in atributos_archivo[0]:\n",
    "            genero_edad = atributos_archivo[0].rstrip().lstrip().split(\",\")\n",
    "        \n",
    "        else:\n",
    "            genero_edad = atributos_archivo[0].rstrip().split(\" \")\n",
    "            #Verificar si el genero y la edad estan unidos\n",
    "            if len(genero_edad) == 1:\n",
    "                if genero_edad[0].find('female') == 0:\n",
    "                    genero_edad.append(genero_edad[0].lstrip(\"female\"))\n",
    "                    genero_edad[0] = \"female\"\n",
    "                elif genero_edad[0].find('male') == 0:\n",
    "                    genero_edad.append(genero_edad[0].lstrip(\"male\"))\n",
    "                    genero_edad[0] = \"male\"\n",
    "        #Eliminar los caracteres vacios\n",
    "        genero_edad = [valido for valido in genero_edad if valido]\n",
    "\n",
    "        genero, edad = genero_edad[0:2]\n",
    "\n",
    "        if \"yrs\" in edad: #Convertir a int\n",
    "            edad = edad.rstrip(\"yrs\")\n",
    "        elif \"yr\" in edad: #Convertir a int\n",
    "            edad = edad.rstrip(\"yr\")\n",
    "        elif \"month\" in edad: #Convertir a int\n",
    "            edad = edad.rstrip(\"month\")\n",
    "            edad = float(edad)/12.0\n",
    "        elif \"days\" in edad: #Convertir a int\n",
    "            edad = edad.rstrip(\"days\")\n",
    "            edad = float(edad)/365.0\n",
    "        \n",
    "        genero = genero.rstrip().lstrip().lower()\n",
    "        if genero.find(\"fem\")==0:\n",
    "            genero = 'female'\n",
    "        edad = float(edad)\n",
    "    ruta_elemento_clinical_reading = os.path.join(ruta_clinical_readings)\n",
    "    datos.append({\"image_name\":nombre_elemento_cxr, \"genre\": genero, \"age\": edad,  \"condition\": condicion_paciente})\n",
    "dataset_china = pd.DataFrame(datos) #Convertir a formato Pandas\n"
   ]
  },
  {
   "cell_type": "markdown",
   "id": "78dd84e8",
   "metadata": {},
   "source": [
    "## Filtrar los datos"
   ]
  },
  {
   "cell_type": "code",
   "execution_count": 3,
   "id": "766e8b6a",
   "metadata": {},
   "outputs": [],
   "source": [
    "dataset_china_filtrado = dataset_china\n",
    "dataset_china_filtrado.loc[dataset_china_filtrado[\"condition\"] != \"normal\", 'condition'] = 'tuberculosis'\n",
    "dataset_china_filtrado.loc[dataset_china_filtrado[\"condition\"] == \"normal\", 'condition'] = 0\n",
    "dataset_china_filtrado.loc[dataset_china_filtrado[\"condition\"] == \"tuberculosis\", 'condition'] = 1\n",
    "#Eliminar la columna edad y genero\n",
    "_ = dataset_china_filtrado.pop(\"age\")\n",
    "_ = dataset_china_filtrado.pop(\"genre\")"
   ]
  },
  {
   "cell_type": "markdown",
   "id": "bcfd03fd",
   "metadata": {},
   "source": [
    "## Guardar los datasets en formato CSV"
   ]
  },
  {
   "cell_type": "code",
   "execution_count": 12,
   "id": "3fe1a046",
   "metadata": {},
   "outputs": [],
   "source": [
    "dataset_china.to_csv(\"original_ChinaCXRSet.csv\")\n",
    "dataset_china_filtrado.to_csv(\"ChinaCXRSet.csv\")"
   ]
  },
  {
   "cell_type": "markdown",
   "id": "cebf1dca",
   "metadata": {},
   "source": [
    "## Crear el la clase Dataset de tipo PyTorch Dataset"
   ]
  },
  {
   "cell_type": "code",
   "execution_count": 13,
   "id": "a03e5116",
   "metadata": {},
   "outputs": [],
   "source": [
    "import os\n",
    "import pandas as pd\n",
    "from torchvision.io import read_image\n",
    "import torch\n",
    "from torch.utils.data import Dataset\n",
    "from torchvision import datasets, io\n",
    "from torchvision.transforms import Compose\n",
    "\n",
    "\n",
    "class crearDatasetChinaCXRSet(Dataset):\n",
    "    \"\"\"\n",
    "        params:\n",
    "        pandas_file\n",
    "    \"\"\"\n",
    "    def __init__(self, pandas_file, img_dir, transform=None, target_transform=None):\n",
    "        self.img_labels = pandas_file\n",
    "        self.img_dir = img_dir\n",
    "        self.transform = transform\n",
    "        self.target_transform = target_transform\n",
    "\n",
    "    def __len__(self):\n",
    "        return len(self.img_labels)\n",
    "\n",
    "    def __getitem__(self, idx):\n",
    "        img_path = os.path.join(self.img_dir, self.img_labels.iloc[idx, 0])\n",
    "        image = read_image(img_path, io.image.ImageReadMode.GRAY)\n",
    "        label = self.img_labels.iloc[idx, 1]\n",
    "        if self.transform:\n",
    "            image = self.transform(image)\n",
    "        if self.target_transform:\n",
    "            label = self.target_transform(label)\n",
    "        return image, label"
   ]
  },
  {
   "cell_type": "markdown",
   "id": "44499a96",
   "metadata": {},
   "source": [
    "## Dividir el Dataset"
   ]
  },
  {
   "cell_type": "code",
   "execution_count": 6,
   "id": "6bac3717",
   "metadata": {},
   "outputs": [],
   "source": [
    "dataset_train, dataset_test = sklearn.model_selection.train_test_split(dataset_china_filtrado, train_size=0.75, test_size=0.25)\n",
    "dataset_test, dataset_val = sklearn.model_selection.train_test_split(dataset_china_filtrado, train_size=0.6, test_size=0.4)"
   ]
  },
  {
   "cell_type": "code",
   "execution_count": 7,
   "id": "2519f775",
   "metadata": {},
   "outputs": [],
   "source": [
    "from torchvision.transforms import Resize #Cargar herramienta para hacer resize y grayscale\n",
    "from torchvision.transforms import Compose\n",
    "resize_transform = Resize((1024,1024)) #Cambiar el tamaño a 1024x1024\n",
    "transformaciones_dataset = Compose([resize_transform]) #Apila las transformaciones\n",
    "train_DatasetChinaCXRSet_torch = crearDatasetChinaCXRSet(dataset_train, ruta_cxr_png, transformaciones_dataset)\n",
    "test_DatasetChinaCXRSet_torch = crearDatasetChinaCXRSet(dataset_test, ruta_cxr_png, transformaciones_dataset)\n",
    "val_DatasetChinaCXRSet_torch = crearDatasetChinaCXRSet(dataset_val, ruta_cxr_png, transformaciones_dataset)"
   ]
  },
  {
   "cell_type": "code",
   "execution_count": 8,
   "id": "cb04d009",
   "metadata": {},
   "outputs": [],
   "source": [
    "from torch.utils.data import DataLoader\n",
    "train_dataloader = DataLoader(train_DatasetChinaCXRSet_torch, batch_size=64, shuffle=True)\n",
    "test_dataloader = DataLoader(test_DatasetChinaCXRSet_torch, batch_size=64, shuffle=True)\n",
    "val_dataloader = DataLoader(val_DatasetChinaCXRSet_torch, batch_size=64, shuffle=True)"
   ]
  },
  {
   "cell_type": "code",
   "execution_count": 9,
   "id": "850ca226",
   "metadata": {},
   "outputs": [
    {
     "name": "stdout",
     "output_type": "stream",
     "text": [
      "Feature batch shape: torch.Size([64, 1, 1024, 1024])\n",
      "Labels batch shape: torch.Size([64])\n"
     ]
    },
    {
     "data": {
      "image/png": "[encoded data removed]",
      "text/plain": [
       "<Figure size 432x288 with 1 Axes>"
      ]
     },
     "metadata": {
      "needs_background": "light"
     },
     "output_type": "display_data"
    },
    {
     "name": "stdout",
     "output_type": "stream",
     "text": [
      "Label: 1\n"
     ]
    }
   ],
   "source": [
    "import matplotlib.pyplot as plt\n",
    "# Display image and label.\n",
    "train_features, train_labels = next(iter(train_dataloader))\n",
    "print(f\"Feature batch shape: {train_features.size()}\")\n",
    "print(f\"Labels batch shape: {train_labels.size()}\")\n",
    "img = train_features[0].squeeze()\n",
    "label = train_labels[0]\n",
    "plt.imshow(img, cmap=\"gray\")\n",
    "plt.show()\n",
    "print(f\"Label: {label}\")"
   ]
  },
  {
   "cell_type": "code",
   "execution_count": 10,
   "id": "dc980865",
   "metadata": {},
   "outputs": [
    {
     "data": {
      "text/html": [
       "<div>\n",
       "<style scoped>\n",
       "    .dataframe tbody tr th:only-of-type {\n",
       "        vertical-align: middle;\n",
       "    }\n",
       "\n",
       "    .dataframe tbody tr th {\n",
       "        vertical-align: top;\n",
       "    }\n",
       "\n",
       "    .dataframe thead th {\n",
       "        text-align: right;\n",
       "    }\n",
       "</style>\n",
       "<table border=\"1\" class=\"dataframe\">\n",
       "  <thead>\n",
       "    <tr style=\"text-align: right;\">\n",
       "      <th></th>\n",
       "      <th>image_name</th>\n",
       "      <th>condition</th>\n",
       "    </tr>\n",
       "  </thead>\n",
       "  <tbody>\n",
       "    <tr>\n",
       "      <th>194</th>\n",
       "      <td>CHNCXR_0190_0.png</td>\n",
       "      <td>0</td>\n",
       "    </tr>\n",
       "    <tr>\n",
       "      <th>526</th>\n",
       "      <td>CHNCXR_0542_1.png</td>\n",
       "      <td>1</td>\n",
       "    </tr>\n",
       "    <tr>\n",
       "      <th>507</th>\n",
       "      <td>CHNCXR_0522_1.png</td>\n",
       "      <td>1</td>\n",
       "    </tr>\n",
       "    <tr>\n",
       "      <th>155</th>\n",
       "      <td>CHNCXR_0148_0.png</td>\n",
       "      <td>0</td>\n",
       "    </tr>\n",
       "    <tr>\n",
       "      <th>380</th>\n",
       "      <td>CHNCXR_0387_1.png</td>\n",
       "      <td>1</td>\n",
       "    </tr>\n",
       "    <tr>\n",
       "      <th>...</th>\n",
       "      <td>...</td>\n",
       "      <td>...</td>\n",
       "    </tr>\n",
       "    <tr>\n",
       "      <th>10</th>\n",
       "      <td>CHNCXR_0010_0.png</td>\n",
       "      <td>0</td>\n",
       "    </tr>\n",
       "    <tr>\n",
       "      <th>605</th>\n",
       "      <td>CHNCXR_0604_1.png</td>\n",
       "      <td>1</td>\n",
       "    </tr>\n",
       "    <tr>\n",
       "      <th>269</th>\n",
       "      <td>CHNCXR_0269_0.png</td>\n",
       "      <td>0</td>\n",
       "    </tr>\n",
       "    <tr>\n",
       "      <th>505</th>\n",
       "      <td>CHNCXR_0520_1.png</td>\n",
       "      <td>1</td>\n",
       "    </tr>\n",
       "    <tr>\n",
       "      <th>521</th>\n",
       "      <td>CHNCXR_0537_1.png</td>\n",
       "      <td>1</td>\n",
       "    </tr>\n",
       "  </tbody>\n",
       "</table>\n",
       "<p>265 rows × 2 columns</p>\n",
       "</div>"
      ],
      "text/plain": [
       "            image_name condition\n",
       "194  CHNCXR_0190_0.png         0\n",
       "526  CHNCXR_0542_1.png         1\n",
       "507  CHNCXR_0522_1.png         1\n",
       "155  CHNCXR_0148_0.png         0\n",
       "380  CHNCXR_0387_1.png         1\n",
       "..                 ...       ...\n",
       "10   CHNCXR_0010_0.png         0\n",
       "605  CHNCXR_0604_1.png         1\n",
       "269  CHNCXR_0269_0.png         0\n",
       "505  CHNCXR_0520_1.png         1\n",
       "521  CHNCXR_0537_1.png         1\n",
       "\n",
       "[265 rows x 2 columns]"
      ]
     },
     "execution_count": 10,
     "metadata": {},
     "output_type": "execute_result"
    }
   ],
   "source": [
    "dataset_val"
   ]
  },
  {
   "cell_type": "code",
   "execution_count": 11,
   "id": "58767c3b",
   "metadata": {},
   "outputs": [
    {
     "data": {
      "text/html": [
       "<div>\n",
       "<style scoped>\n",
       "    .dataframe tbody tr th:only-of-type {\n",
       "        vertical-align: middle;\n",
       "    }\n",
       "\n",
       "    .dataframe tbody tr th {\n",
       "        vertical-align: top;\n",
       "    }\n",
       "\n",
       "    .dataframe thead th {\n",
       "        text-align: right;\n",
       "    }\n",
       "</style>\n",
       "<table border=\"1\" class=\"dataframe\">\n",
       "  <thead>\n",
       "    <tr style=\"text-align: right;\">\n",
       "      <th></th>\n",
       "      <th>image_name</th>\n",
       "      <th>condition</th>\n",
       "    </tr>\n",
       "  </thead>\n",
       "  <tbody>\n",
       "    <tr>\n",
       "      <th>129</th>\n",
       "      <td>CHNCXR_0121_0.png</td>\n",
       "      <td>0</td>\n",
       "    </tr>\n",
       "    <tr>\n",
       "      <th>38</th>\n",
       "      <td>CHNCXR_0040_0.png</td>\n",
       "      <td>0</td>\n",
       "    </tr>\n",
       "    <tr>\n",
       "      <th>7</th>\n",
       "      <td>CHNCXR_0007_0.png</td>\n",
       "      <td>0</td>\n",
       "    </tr>\n",
       "    <tr>\n",
       "      <th>534</th>\n",
       "      <td>CHNCXR_0551_1.png</td>\n",
       "      <td>1</td>\n",
       "    </tr>\n",
       "    <tr>\n",
       "      <th>548</th>\n",
       "      <td>CHNCXR_0357_1.png</td>\n",
       "      <td>1</td>\n",
       "    </tr>\n",
       "    <tr>\n",
       "      <th>...</th>\n",
       "      <td>...</td>\n",
       "      <td>...</td>\n",
       "    </tr>\n",
       "    <tr>\n",
       "      <th>302</th>\n",
       "      <td>CHNCXR_0304_0.png</td>\n",
       "      <td>0</td>\n",
       "    </tr>\n",
       "    <tr>\n",
       "      <th>573</th>\n",
       "      <td>CHNCXR_0570_1.png</td>\n",
       "      <td>1</td>\n",
       "    </tr>\n",
       "    <tr>\n",
       "      <th>29</th>\n",
       "      <td>CHNCXR_0030_0.png</td>\n",
       "      <td>0</td>\n",
       "    </tr>\n",
       "    <tr>\n",
       "      <th>310</th>\n",
       "      <td>CHNCXR_0313_0.png</td>\n",
       "      <td>0</td>\n",
       "    </tr>\n",
       "    <tr>\n",
       "      <th>529</th>\n",
       "      <td>CHNCXR_0546_1.png</td>\n",
       "      <td>1</td>\n",
       "    </tr>\n",
       "  </tbody>\n",
       "</table>\n",
       "<p>397 rows × 2 columns</p>\n",
       "</div>"
      ],
      "text/plain": [
       "            image_name condition\n",
       "129  CHNCXR_0121_0.png         0\n",
       "38   CHNCXR_0040_0.png         0\n",
       "7    CHNCXR_0007_0.png         0\n",
       "534  CHNCXR_0551_1.png         1\n",
       "548  CHNCXR_0357_1.png         1\n",
       "..                 ...       ...\n",
       "302  CHNCXR_0304_0.png         0\n",
       "573  CHNCXR_0570_1.png         1\n",
       "29   CHNCXR_0030_0.png         0\n",
       "310  CHNCXR_0313_0.png         0\n",
       "529  CHNCXR_0546_1.png         1\n",
       "\n",
       "[397 rows x 2 columns]"
      ]
     },
     "execution_count": 11,
     "metadata": {},
     "output_type": "execute_result"
    }
   ],
   "source": [
    "dataset_test"
   ]
  }
 ],
 "metadata": {
  "kernelspec": {
   "display_name": "Python 3",
   "language": "python",
   "name": "python3"
  },
  "language_info": {
   "codemirror_mode": {
    "name": "ipython",
    "version": 3
   },
   "file_extension": ".py",
   "mimetype": "text/x-python",
   "name": "python",
   "nbconvert_exporter": "python",
   "pygments_lexer": "ipython3",
   "version": "3.8.8"
  }
 },
 "nbformat": 4,
 "nbformat_minor": 5
}
