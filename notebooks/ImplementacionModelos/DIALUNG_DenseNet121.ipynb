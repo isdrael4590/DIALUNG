{
 "cells": [
  {
   "cell_type": "code",
   "execution_count": 1,
   "id": "a97ed272-cac9-4252-9c0a-04d8a821d532",
   "metadata": {},
   "outputs": [],
   "source": [
    "import numpy as np\n",
    "import pandas as pd\n",
    "import os\n",
    "mapa_condiciones = {\n",
    "    0: \"normal\",\n",
    "    1: \"tuberculosis\",\n",
    "    2: \"neumonia\",\n",
    "    3: \"covid-19\"\n",
    "}"
   ]
  },
  {
   "cell_type": "code",
   "execution_count": null,
   "id": "ae0ecd0f-12a6-4adf-8406-44c208cfaac1",
   "metadata": {},
   "outputs": [],
   "source": [
    "!pip install torchxrayvision torchio tqdm torchinfo"
   ]
  },
  {
   "cell_type": "code",
   "execution_count": 3,
   "id": "cdd40cd6-f0c3-42d1-8b45-58eff3292c47",
   "metadata": {},
   "outputs": [
    {
     "ename": "ModuleNotFoundError",
     "evalue": "No module named 'google.colab'",
     "output_type": "error",
     "traceback": [
      "\u001b[0;31m---------------------------------------------------------------------------\u001b[0m",
      "\u001b[0;31mModuleNotFoundError\u001b[0m                       Traceback (most recent call last)",
      "\u001b[0;32m<ipython-input-3-d5df0069828e>\u001b[0m in \u001b[0;36m<module>\u001b[0;34m\u001b[0m\n\u001b[0;32m----> 1\u001b[0;31m \u001b[0;32mfrom\u001b[0m \u001b[0mgoogle\u001b[0m\u001b[0;34m.\u001b[0m\u001b[0mcolab\u001b[0m \u001b[0;32mimport\u001b[0m \u001b[0mdrive\u001b[0m\u001b[0;34m\u001b[0m\u001b[0;34m\u001b[0m\u001b[0m\n\u001b[0m\u001b[1;32m      2\u001b[0m \u001b[0mdrive\u001b[0m\u001b[0;34m.\u001b[0m\u001b[0mmount\u001b[0m\u001b[0;34m(\u001b[0m\u001b[0;34m'/content/drive'\u001b[0m\u001b[0;34m)\u001b[0m\u001b[0;34m\u001b[0m\u001b[0;34m\u001b[0m\u001b[0m\n",
      "\u001b[0;31mModuleNotFoundError\u001b[0m: No module named 'google.colab'"
     ]
    }
   ],
   "source": [
    "from google.colab import drive\n",
    "drive.mount('/content/drive')"
   ]
  },
  {
   "cell_type": "code",
   "execution_count": 2,
   "id": "f53473ff-c74d-4107-869e-f2d42ff8db0e",
   "metadata": {},
   "outputs": [
    {
     "name": "stdout",
     "output_type": "stream",
     "text": [
      "/media/josejacomeb/Datos1/DatasetsMédicos/ProyectoDIALUNG\n"
     ]
    }
   ],
   "source": [
    "#%cd /content/drive/My\\ Drive/ProyectoDIALUNG/\n",
    "#Archivo local \n",
    "%cd /media/josejacomeb/Datos1/DatasetsMédicos/ProyectoDIALUNG/"
   ]
  },
  {
   "cell_type": "code",
   "execution_count": 3,
   "id": "b1d672a2-e347-4880-88a9-07c2312fa36a",
   "metadata": {},
   "outputs": [],
   "source": [
    "direccion_dataset_imagenes = \"DIALUNG-Datasets/\"\n",
    "dataset_train_256 = os.path.join(direccion_dataset_imagenes, \"train_256.hdf5\") \n",
    "dataset_test_256 = os.path.join(direccion_dataset_imagenes, \"test_256.hdf5\")\n",
    "dataset_val_256 = os.path.join(direccion_dataset_imagenes, \"val_256.hdf5\")"
   ]
  },
  {
   "cell_type": "code",
   "execution_count": 4,
   "id": "049d2604-ded3-4a53-86dd-a7298fe33dc1",
   "metadata": {},
   "outputs": [],
   "source": [
    "#Tamaño deseado de la imagen\n",
    "ancho_imagen_deseado  = 224\n",
    "alto_imagen_deseado =  224\n",
    "#Variables de rotación\n",
    "probabilidad_rotacion = 0.15\n",
    "angulo_rotacion_grados = 25\n",
    "#Variables de Blur\n",
    "probabilidad_blur = 0.15\n",
    "std_filtro_gaussiano = (1, 1)\n",
    "#Variables de Ruido\n",
    "probabilidad_ruido = 0.15\n",
    "std_ruido_gaussiano = (0, 0.08)\n",
    "mean_ruido_gaussiano = 0\n",
    "# Variables de Desplazamiento\n",
    "probabilidad_desplazamiento = 0.15\n",
    "desplazamiento_x_y = (1, 1) #1 mm de desplazamiento en ambos ejes \n",
    "# Tamaño del batch\n",
    "batch_size = 8"
   ]
  },
  {
   "cell_type": "code",
   "execution_count": 5,
   "id": "8836a53c-5090-4ace-a894-a55a06c871a1",
   "metadata": {},
   "outputs": [],
   "source": [
    "from torchvision.transforms import Compose #Compose me sirve para apilar varias transformaciones en una sola\n",
    "from torchvision.transforms import Resize #Cargar herramienta para hacer Rescalado\n",
    "from torchvision.transforms import Lambda #Convertir tensor de salida a one-hot-encoded \n",
    "import torch \n",
    "#Librerias de TorchIO\n",
    "import torchio as tio\n",
    "#Librerias de DIALUNG\n",
    "from dialung.utils.creardatasetbinario import crearDatasetBinarioDIALUNG\n",
    "\n",
    "\n",
    "resize_transform = tio.Resize((alto_imagen_deseado, ancho_imagen_deseado, 1)) #Cambiar el tamaño al establecido en la celda de arriba\n",
    "normalizacion_dataset = tio.transforms.ZNormalization()\n",
    "rescalar_intensidad = tio.transforms.RescaleIntensity(out_min_max=(0, 1)) #Rescalar 0 o 1\n",
    "#Diccionario de transformaciones con su probabilidad de ser ejecutadas\n",
    "diccionario_transformaciones = {\n",
    "  tio.RandomAffine(degrees = angulo_rotacion_grados): probabilidad_rotacion, #transformacion de rotación  \n",
    "  tio.transforms.RandomBlur(std = std_filtro_gaussiano): probabilidad_blur, #transformacion de blur  \n",
    "  tio.transforms.RandomNoise(mean = mean_ruido_gaussiano, std = std_ruido_gaussiano): probabilidad_ruido, #transformaciones de ruido\n",
    "  #tio.RandomAffine(translation = desplazamiento_x_y): probabilidad_desplazamiento #transformacion de traslación \n",
    "}\n",
    "#Agrupar todas las transformaciones en una sola\n",
    "transformaciones_DIALUNG = tio.OneOf(diccionario_transformaciones)\n",
    "\n",
    "transformaciones_dataset = Compose([resize_transform, transformaciones_DIALUNG, rescalar_intensidad]) #Apila las transformaciones\n",
    "transformacion_salida = Lambda(lambda y: torch.zeros(4, dtype=torch.float).scatter_(0, torch.tensor(int(y)), value=1)) #Hago un\n",
    "\n",
    "#Creo objetos de tipo crearDatasetDIALUNG\n",
    "train_datasetDIALUNG = crearDatasetBinarioDIALUNG(dataset_train_256, transformaciones_dataset, rgb = False)\n",
    "test_datasetDIALUNG = crearDatasetBinarioDIALUNG(dataset_test_256, transformaciones_dataset, rgb = False)\n",
    "val_datasetDIALUNG = crearDatasetBinarioDIALUNG(dataset_val_256, transformaciones_dataset, rgb = False)"
   ]
  },
  {
   "cell_type": "code",
   "execution_count": 6,
   "id": "24b3af45-df66-4f3e-a438-d666a585e9c6",
   "metadata": {},
   "outputs": [],
   "source": [
    "\n",
    "\n",
    "from torch.utils.data import DataLoader #Clase dataloader para cargar en PyTorch los objetos de tipo Dataset\n",
    "\n",
    "#Creo objetos de tipo DataLoader en lotes de 64 imagenes y barajeados aleatoriamente\n",
    "train_dataloader = DataLoader(train_datasetDIALUNG, batch_size=batch_size, shuffle=True, num_workers = 2)\n",
    "test_dataloader = DataLoader(test_datasetDIALUNG, batch_size=batch_size, shuffle=False, num_workers = 2)\n",
    "val_dataloader = DataLoader(val_datasetDIALUNG, batch_size=batch_size, shuffle=False, num_workers = 2)\n",
    "\n"
   ]
  },
  {
   "cell_type": "code",
   "execution_count": 7,
   "id": "0392816f-5263-43b8-ab67-ee75d0fb7753",
   "metadata": {},
   "outputs": [],
   "source": [
    "from torch import nn\n",
    "from collections import OrderedDict\n",
    "from datetime import date\n",
    "from torch.utils.tensorboard import SummaryWriter\n",
    "\n",
    "#Configuracion de datos de cada experimento\n",
    "carpeta_experimentos = \"DIALUNG_Experimentos\"\n",
    "carpeta_metricas, carpeta_modelos, carpeta_logs = \"Métricas\", \"Modelos\", \"logs_dir\"\n",
    "nombre_modelo = \"DenseNet121\" #Poner el nombre cada uno de su modelo\n",
    "implementado_por= \"josejacomeb\" #Poner sus nombres \n",
    "nombre_experimento = os.path.join(implementado_por, nombre_modelo)\n",
    "ruta_guardar_metricas = os.path.join(carpeta_experimentos, carpeta_metricas, nombre_experimento)\n",
    "ruta_guardar_modelos = os.path.join(carpeta_experimentos, carpeta_modelos, nombre_experimento)\n",
    "ruta_guardar_logs = os.path.join(carpeta_experimentos, carpeta_logs, nombre_experimento)\n",
    "#Creo los directorios\n",
    "if not os.path.exists(ruta_guardar_metricas):\n",
    "    os.makedirs(ruta_guardar_metricas)\n",
    "if not os.path.exists(ruta_guardar_modelos):\n",
    "    os.makedirs(ruta_guardar_modelos)\n",
    "if not os.path.exists(ruta_guardar_logs):\n",
    "    os.makedirs(ruta_guardar_logs)\n",
    "#Inicializar TensorBoard para escribir los datos en el directorio de ruta_guardar_logs\n",
    "writer = SummaryWriter(ruta_guardar_logs)"
   ]
  },
  {
   "cell_type": "code",
   "execution_count": 8,
   "id": "e5208fe9-5628-466f-8621-4e469d96fd50",
   "metadata": {},
   "outputs": [
    {
     "name": "stdout",
     "output_type": "stream",
     "text": [
      "Using cuda device\n"
     ]
    }
   ],
   "source": [
    "dispositivo = 'cuda' if torch.cuda.is_available() else 'cpu'\n",
    "print('Using {} device'.format(dispositivo))"
   ]
  },
  {
   "cell_type": "code",
   "execution_count": 9,
   "id": "54be3ec3-a7ab-408c-bf86-f20462b5f993",
   "metadata": {},
   "outputs": [],
   "source": [
    "import torchxrayvision as xrv #Importar la librería TorchXRayVision"
   ]
  },
  {
   "cell_type": "code",
   "execution_count": 10,
   "id": "6e9695ac-faca-4b6a-ac60-54abdcd86eda",
   "metadata": {},
   "outputs": [
    {
     "data": {
      "text/plain": [
       "XRV-DenseNet121-densenet121-res224-all"
      ]
     },
     "execution_count": 10,
     "metadata": {},
     "output_type": "execute_result"
    }
   ],
   "source": [
    "modelo = xrv.models.DenseNet(weights=\"densenet121-res224-all\", num_classes=4)\n",
    "in_features = modelo.classifier.in_features\n",
    "modelo.classifier = nn.Linear(in_features=in_features, out_features=4) #Cambio la capa de salida para ajustar a los cuatro parámetros\n",
    "modelo.op_threshs = None\n",
    "modelo.to(dispositivo)"
   ]
  },
  {
   "cell_type": "code",
   "execution_count": 11,
   "id": "db6ea614-8a47-41d6-a9b1-0bbb18707341",
   "metadata": {},
   "outputs": [],
   "source": [
    "# Obtener algunas imagenes para mostrar en TensorBoard\n",
    "images, labels = next(iter(val_dataloader))\n",
    "images = images.to(dispositivo)\n",
    "#Añadir el modelo a tensorboard\n",
    "writer.add_graph(modelo, images)"
   ]
  },
  {
   "cell_type": "code",
   "execution_count": 12,
   "id": "0b0bbf01-82d3-4b65-bd38-6c9f2969948c",
   "metadata": {},
   "outputs": [
    {
     "name": "stdout",
     "output_type": "stream",
     "text": [
      "==========================================================================================\n",
      "Layer (type:depth-idx)                   Output Shape              Param #\n",
      "==========================================================================================\n",
      "DenseNet                                 --                        --\n",
      "├─Sequential: 1-1                        [8, 1024, 7, 7]           --\n",
      "│    └─Conv2d: 2-1                       [8, 64, 112, 112]         3,136\n",
      "│    └─BatchNorm2d: 2-2                  [8, 64, 112, 112]         128\n",
      "│    └─ReLU: 2-3                         [8, 64, 112, 112]         --\n",
      "│    └─MaxPool2d: 2-4                    [8, 64, 56, 56]           --\n",
      "│    └─_DenseBlock: 2-5                  [8, 256, 56, 56]          --\n",
      "│    │    └─_DenseLayer: 3-1             [8, 96, 56, 56]           45,440\n",
      "│    │    └─_DenseLayer: 3-2             [8, 128, 56, 56]          49,600\n",
      "│    │    └─_DenseLayer: 3-3             [8, 160, 56, 56]          53,760\n",
      "│    │    └─_DenseLayer: 3-4             [8, 192, 56, 56]          57,920\n",
      "│    │    └─_DenseLayer: 3-5             [8, 224, 56, 56]          62,080\n",
      "│    │    └─_DenseLayer: 3-6             [8, 256, 56, 56]          66,240\n",
      "│    └─_Transition: 2-6                  [8, 128, 28, 28]          --\n",
      "│    │    └─BatchNorm2d: 3-7             [8, 256, 56, 56]          512\n",
      "│    │    └─ReLU: 3-8                    [8, 256, 56, 56]          --\n",
      "│    │    └─Conv2d: 3-9                  [8, 128, 56, 56]          32,768\n",
      "│    │    └─AvgPool2d: 3-10              [8, 128, 28, 28]          --\n",
      "│    └─_DenseBlock: 2-7                  [8, 512, 28, 28]          --\n",
      "│    │    └─_DenseLayer: 3-11            [8, 160, 28, 28]          53,760\n",
      "│    │    └─_DenseLayer: 3-12            [8, 192, 28, 28]          57,920\n",
      "│    │    └─_DenseLayer: 3-13            [8, 224, 28, 28]          62,080\n",
      "│    │    └─_DenseLayer: 3-14            [8, 256, 28, 28]          66,240\n",
      "│    │    └─_DenseLayer: 3-15            [8, 288, 28, 28]          70,400\n",
      "│    │    └─_DenseLayer: 3-16            [8, 320, 28, 28]          74,560\n",
      "│    │    └─_DenseLayer: 3-17            [8, 352, 28, 28]          78,720\n",
      "│    │    └─_DenseLayer: 3-18            [8, 384, 28, 28]          82,880\n",
      "│    │    └─_DenseLayer: 3-19            [8, 416, 28, 28]          87,040\n",
      "│    │    └─_DenseLayer: 3-20            [8, 448, 28, 28]          91,200\n",
      "│    │    └─_DenseLayer: 3-21            [8, 480, 28, 28]          95,360\n",
      "│    │    └─_DenseLayer: 3-22            [8, 512, 28, 28]          99,520\n",
      "│    └─_Transition: 2-8                  [8, 256, 14, 14]          --\n",
      "│    │    └─BatchNorm2d: 3-23            [8, 512, 28, 28]          1,024\n",
      "│    │    └─ReLU: 3-24                   [8, 512, 28, 28]          --\n",
      "│    │    └─Conv2d: 3-25                 [8, 256, 28, 28]          131,072\n",
      "│    │    └─AvgPool2d: 3-26              [8, 256, 14, 14]          --\n",
      "│    └─_DenseBlock: 2-9                  [8, 1024, 14, 14]         --\n",
      "│    │    └─_DenseLayer: 3-27            [8, 288, 14, 14]          70,400\n",
      "│    │    └─_DenseLayer: 3-28            [8, 320, 14, 14]          74,560\n",
      "│    │    └─_DenseLayer: 3-29            [8, 352, 14, 14]          78,720\n",
      "│    │    └─_DenseLayer: 3-30            [8, 384, 14, 14]          82,880\n",
      "│    │    └─_DenseLayer: 3-31            [8, 416, 14, 14]          87,040\n",
      "│    │    └─_DenseLayer: 3-32            [8, 448, 14, 14]          91,200\n",
      "│    │    └─_DenseLayer: 3-33            [8, 480, 14, 14]          95,360\n",
      "│    │    └─_DenseLayer: 3-34            [8, 512, 14, 14]          99,520\n",
      "│    │    └─_DenseLayer: 3-35            [8, 544, 14, 14]          103,680\n",
      "│    │    └─_DenseLayer: 3-36            [8, 576, 14, 14]          107,840\n",
      "│    │    └─_DenseLayer: 3-37            [8, 608, 14, 14]          112,000\n",
      "│    │    └─_DenseLayer: 3-38            [8, 640, 14, 14]          116,160\n",
      "│    │    └─_DenseLayer: 3-39            [8, 672, 14, 14]          120,320\n",
      "│    │    └─_DenseLayer: 3-40            [8, 704, 14, 14]          124,480\n",
      "│    │    └─_DenseLayer: 3-41            [8, 736, 14, 14]          128,640\n",
      "│    │    └─_DenseLayer: 3-42            [8, 768, 14, 14]          132,800\n",
      "│    │    └─_DenseLayer: 3-43            [8, 800, 14, 14]          136,960\n",
      "│    │    └─_DenseLayer: 3-44            [8, 832, 14, 14]          141,120\n",
      "│    │    └─_DenseLayer: 3-45            [8, 864, 14, 14]          145,280\n",
      "│    │    └─_DenseLayer: 3-46            [8, 896, 14, 14]          149,440\n",
      "│    │    └─_DenseLayer: 3-47            [8, 928, 14, 14]          153,600\n",
      "│    │    └─_DenseLayer: 3-48            [8, 960, 14, 14]          157,760\n",
      "│    │    └─_DenseLayer: 3-49            [8, 992, 14, 14]          161,920\n",
      "│    │    └─_DenseLayer: 3-50            [8, 1024, 14, 14]         166,080\n",
      "│    └─_Transition: 2-10                 [8, 512, 7, 7]            --\n",
      "│    │    └─BatchNorm2d: 3-51            [8, 1024, 14, 14]         2,048\n",
      "│    │    └─ReLU: 3-52                   [8, 1024, 14, 14]         --\n",
      "│    │    └─Conv2d: 3-53                 [8, 512, 14, 14]          524,288\n",
      "│    │    └─AvgPool2d: 3-54              [8, 512, 7, 7]            --\n",
      "│    └─_DenseBlock: 2-11                 [8, 1024, 7, 7]           --\n",
      "│    │    └─_DenseLayer: 3-55            [8, 544, 7, 7]            103,680\n",
      "│    │    └─_DenseLayer: 3-56            [8, 576, 7, 7]            107,840\n",
      "│    │    └─_DenseLayer: 3-57            [8, 608, 7, 7]            112,000\n",
      "│    │    └─_DenseLayer: 3-58            [8, 640, 7, 7]            116,160\n",
      "│    │    └─_DenseLayer: 3-59            [8, 672, 7, 7]            120,320\n",
      "│    │    └─_DenseLayer: 3-60            [8, 704, 7, 7]            124,480\n",
      "│    │    └─_DenseLayer: 3-61            [8, 736, 7, 7]            128,640\n",
      "│    │    └─_DenseLayer: 3-62            [8, 768, 7, 7]            132,800\n",
      "│    │    └─_DenseLayer: 3-63            [8, 800, 7, 7]            136,960\n",
      "│    │    └─_DenseLayer: 3-64            [8, 832, 7, 7]            141,120\n",
      "│    │    └─_DenseLayer: 3-65            [8, 864, 7, 7]            145,280\n",
      "│    │    └─_DenseLayer: 3-66            [8, 896, 7, 7]            149,440\n",
      "│    │    └─_DenseLayer: 3-67            [8, 928, 7, 7]            153,600\n",
      "│    │    └─_DenseLayer: 3-68            [8, 960, 7, 7]            157,760\n",
      "│    │    └─_DenseLayer: 3-69            [8, 992, 7, 7]            161,920\n",
      "│    │    └─_DenseLayer: 3-70            [8, 1024, 7, 7]           166,080\n",
      "│    └─BatchNorm2d: 2-12                 [8, 1024, 7, 7]           2,048\n",
      "├─Linear: 1-2                            [8, 4]                    4,100\n",
      "==========================================================================================\n",
      "Total params: 6,951,684\n",
      "Trainable params: 6,951,684\n",
      "Non-trainable params: 0\n",
      "Total mult-adds (G): 22.04\n",
      "==========================================================================================\n",
      "Input size (MB): 1.61\n",
      "Forward/backward pass size (MB): 1444.27\n",
      "Params size (MB): 27.81\n",
      "Estimated Total Size (MB): 1473.68\n",
      "==========================================================================================\n"
     ]
    }
   ],
   "source": [
    "from torchinfo import summary \n",
    "print(summary(modelo, input_size = tuple(images.shape)))"
   ]
  },
  {
   "cell_type": "code",
   "execution_count": 13,
   "id": "c4a37c32-5c26-47e1-8abd-262b9cdd6416",
   "metadata": {},
   "outputs": [],
   "source": [
    "learning_rate = 1e-3\n",
    "epochs = 50\n",
    "momentum = 0 #Momento del algoritmo SGD"
   ]
  },
  {
   "cell_type": "code",
   "execution_count": 14,
   "id": "63ff8560-bc7a-4d18-8438-c2902fe21d4e",
   "metadata": {},
   "outputs": [],
   "source": [
    "from torch.optim.lr_scheduler import ReduceLROnPlateau\n",
    "funcion_perdida = nn.CrossEntropyLoss() #Uso de CrossEntropy\n",
    "optimizador = torch.optim.SGD(modelo.parameters(), lr=learning_rate, momentum=momentum) #Optimizador SGD\n",
    "scheduler = ReduceLROnPlateau(optimizador, \"min\", patience = 5, factor = 0.60, min_lr = 1e-5)"
   ]
  },
  {
   "cell_type": "code",
   "execution_count": 18,
   "id": "a1c13d65-8445-40fc-9776-cb6e0f9de611",
   "metadata": {},
   "outputs": [
    {
     "name": "stdout",
     "output_type": "stream",
     "text": [
      "The tensorboard extension is already loaded. To reload it, use:\n",
      "  %reload_ext tensorboard\n"
     ]
    },
    {
     "data": {
      "text/html": [
       "\n",
       "      <iframe id=\"tensorboard-frame-5378f4588a070020\" width=\"100%\" height=\"800\" frameborder=\"0\">\n",
       "      </iframe>\n",
       "      <script>\n",
       "        (function() {\n",
       "          const frame = document.getElementById(\"tensorboard-frame-5378f4588a070020\");\n",
       "          const url = new URL(\"/\", window.location);\n",
       "          const port = 6006;\n",
       "          if (port) {\n",
       "            url.port = port;\n",
       "          }\n",
       "          frame.src = url;\n",
       "        })();\n",
       "      </script>\n",
       "    "
      ],
      "text/plain": [
       "<IPython.core.display.HTML object>"
      ]
     },
     "metadata": {},
     "output_type": "display_data"
    }
   ],
   "source": [
    "# Load the TensorBoard notebook extension\n",
    "%load_ext tensorboard\n",
    "%tensorboard --logdir $ruta_guardar_logs"
   ]
  },
  {
   "cell_type": "code",
   "execution_count": 17,
   "id": "3faa75ec-32dc-40d9-b167-c7d4f51258f3",
   "metadata": {},
   "outputs": [
    {
     "name": "stdout",
     "output_type": "stream",
     "text": [
      "Resumiendo el entrenamiento desde la época: 0\n",
      "Época 1\n",
      "-------------------------------\n",
      "## Entrenamiento ##\n"
     ]
    },
    {
     "data": {
      "application/vnd.jupyter.widget-view+json": {
       "model_id": "b2f1ccc6dd934755bc9e108226c8f0df",
       "version_major": 2,
       "version_minor": 0
      },
      "text/plain": [
       "Progreso dataset entrenamiento(batches):   0%|          | 0/50 [00:00<?, ?it/s]"
      ]
     },
     "metadata": {},
     "output_type": "display_data"
    },
    {
     "name": "stdout",
     "output_type": "stream",
     "text": [
      "Valor Función pérdida: 1.392 Precisión: 38%  Tasa de aprendizaje: 0.001\n",
      "Tiempo de iteración: 0:00:26.385391\n",
      "## Validación ##\n"
     ]
    },
    {
     "data": {
      "application/vnd.jupyter.widget-view+json": {
       "model_id": "1b0b461b298a47a9a05359a02af032d5",
       "version_major": 2,
       "version_minor": 0
      },
      "text/plain": [
       "Progreso dataset evaluacion (Batches):   0%|          | 0/10 [00:00<?, ?it/s]"
      ]
     },
     "metadata": {},
     "output_type": "display_data"
    },
    {
     "name": "stdout",
     "output_type": "stream",
     "text": [
      "              precision    recall  f1-score   support\n",
      "\n",
      "      normal       0.36      0.92      0.52        26\n",
      "tuberculosis       0.30      0.20      0.24        15\n",
      "    neumonia       0.00      0.00      0.00        22\n",
      "    covid-19       0.00      0.00      0.00        14\n",
      "\n",
      "    accuracy                           0.35        77\n",
      "   macro avg       0.16      0.28      0.19        77\n",
      "weighted avg       0.18      0.35      0.22        77\n",
      "\n",
      "Valor Función pérdida: 1.384 Precisión: 35 %\n",
      "Tiempo de iteración: 0:00:01.800869\n",
      "Época 2\n",
      "-------------------------------\n",
      "## Entrenamiento ##\n"
     ]
    },
    {
     "data": {
      "application/vnd.jupyter.widget-view+json": {
       "model_id": "6ff0af15190a457fa70daecfa248fbb1",
       "version_major": 2,
       "version_minor": 0
      },
      "text/plain": [
       "Progreso dataset entrenamiento(batches):   0%|          | 0/50 [00:00<?, ?it/s]"
      ]
     },
     "metadata": {},
     "output_type": "display_data"
    },
    {
     "name": "stdout",
     "output_type": "stream",
     "text": [
      "Valor Función pérdida: 1.364 Precisión: 40%  Tasa de aprendizaje: 0.001\n",
      "Tiempo de iteración: 0:00:26.355557\n",
      "## Validación ##\n"
     ]
    },
    {
     "data": {
      "application/vnd.jupyter.widget-view+json": {
       "model_id": "f2030aa77d1445f0b0a165c6ec4a31be",
       "version_major": 2,
       "version_minor": 0
      },
      "text/plain": [
       "Progreso dataset evaluacion (Batches):   0%|          | 0/10 [00:00<?, ?it/s]"
      ]
     },
     "metadata": {},
     "output_type": "display_data"
    },
    {
     "name": "stdout",
     "output_type": "stream",
     "text": [
      "              precision    recall  f1-score   support\n",
      "\n",
      "      normal       0.35      1.00      0.51        26\n",
      "tuberculosis       0.00      0.00      0.00        15\n",
      "    neumonia       0.00      0.00      0.00        22\n",
      "    covid-19       0.00      0.00      0.00        14\n",
      "\n",
      "    accuracy                           0.34        77\n",
      "   macro avg       0.09      0.25      0.13        77\n",
      "weighted avg       0.12      0.34      0.17        77\n",
      "\n",
      "Valor Función pérdida: 1.361 Precisión: 34 %\n",
      "Tiempo de iteración: 0:00:01.739257\n",
      "Época 3\n",
      "-------------------------------\n",
      "## Entrenamiento ##\n"
     ]
    },
    {
     "data": {
      "application/vnd.jupyter.widget-view+json": {
       "model_id": "06c02953def7427499d521256d98ea04",
       "version_major": 2,
       "version_minor": 0
      },
      "text/plain": [
       "Progreso dataset entrenamiento(batches):   0%|          | 0/50 [00:00<?, ?it/s]"
      ]
     },
     "metadata": {},
     "output_type": "display_data"
    },
    {
     "name": "stdout",
     "output_type": "stream",
     "text": [
      "Valor Función pérdida: 1.348 Precisión: 40%  Tasa de aprendizaje: 0.001\n",
      "Tiempo de iteración: 0:00:26.371196\n",
      "## Validación ##\n"
     ]
    },
    {
     "data": {
      "application/vnd.jupyter.widget-view+json": {
       "model_id": "7fba04f2f2e44314927d0b8a4fa37311",
       "version_major": 2,
       "version_minor": 0
      },
      "text/plain": [
       "Progreso dataset evaluacion (Batches):   0%|          | 0/10 [00:00<?, ?it/s]"
      ]
     },
     "metadata": {},
     "output_type": "display_data"
    },
    {
     "name": "stdout",
     "output_type": "stream",
     "text": [
      "              precision    recall  f1-score   support\n",
      "\n",
      "      normal       0.34      1.00      0.50        26\n",
      "tuberculosis       0.00      0.00      0.00        15\n",
      "    neumonia       0.00      0.00      0.00        22\n",
      "    covid-19       0.00      0.00      0.00        14\n",
      "\n",
      "    accuracy                           0.34        77\n",
      "   macro avg       0.08      0.25      0.13        77\n",
      "weighted avg       0.11      0.34      0.17        77\n",
      "\n",
      "Valor Función pérdida: 1.335 Precisión: 34 %\n",
      "Tiempo de iteración: 0:00:01.813416\n",
      "Época 4\n",
      "-------------------------------\n",
      "## Entrenamiento ##\n"
     ]
    },
    {
     "data": {
      "application/vnd.jupyter.widget-view+json": {
       "model_id": "327e19eea9074a85ac0bd6607dffc0cf",
       "version_major": 2,
       "version_minor": 0
      },
      "text/plain": [
       "Progreso dataset entrenamiento(batches):   0%|          | 0/50 [00:00<?, ?it/s]"
      ]
     },
     "metadata": {},
     "output_type": "display_data"
    },
    {
     "name": "stdout",
     "output_type": "stream",
     "text": [
      "Valor Función pérdida: 1.324 Precisión: 40%  Tasa de aprendizaje: 0.001\n",
      "Tiempo de iteración: 0:00:26.312156\n",
      "## Validación ##\n"
     ]
    },
    {
     "data": {
      "application/vnd.jupyter.widget-view+json": {
       "model_id": "c0c3ff8acf684bf3b1461a6760560ef2",
       "version_major": 2,
       "version_minor": 0
      },
      "text/plain": [
       "Progreso dataset evaluacion (Batches):   0%|          | 0/10 [00:00<?, ?it/s]"
      ]
     },
     "metadata": {},
     "output_type": "display_data"
    },
    {
     "name": "stdout",
     "output_type": "stream",
     "text": [
      "              precision    recall  f1-score   support\n",
      "\n",
      "      normal       0.34      1.00      0.50        26\n",
      "tuberculosis       0.00      0.00      0.00        15\n",
      "    neumonia       0.00      0.00      0.00        22\n",
      "    covid-19       0.00      0.00      0.00        14\n",
      "\n",
      "    accuracy                           0.34        77\n",
      "   macro avg       0.08      0.25      0.13        77\n",
      "weighted avg       0.11      0.34      0.17        77\n",
      "\n",
      "Valor Función pérdida: 1.314 Precisión: 34 %\n",
      "Tiempo de iteración: 0:00:01.790061\n",
      "Época 5\n",
      "-------------------------------\n",
      "## Entrenamiento ##\n"
     ]
    },
    {
     "data": {
      "application/vnd.jupyter.widget-view+json": {
       "model_id": "c3621fbe79404969bf5a1318278fb5d7",
       "version_major": 2,
       "version_minor": 0
      },
      "text/plain": [
       "Progreso dataset entrenamiento(batches):   0%|          | 0/50 [00:00<?, ?it/s]"
      ]
     },
     "metadata": {},
     "output_type": "display_data"
    },
    {
     "name": "stdout",
     "output_type": "stream",
     "text": [
      "Valor Función pérdida: 1.310 Precisión: 40%  Tasa de aprendizaje: 0.001\n",
      "Tiempo de iteración: 0:00:26.248042\n",
      "## Validación ##\n"
     ]
    },
    {
     "data": {
      "application/vnd.jupyter.widget-view+json": {
       "model_id": "e03430e7c8ef43fdb3a9ee5f7c70ca47",
       "version_major": 2,
       "version_minor": 0
      },
      "text/plain": [
       "Progreso dataset evaluacion (Batches):   0%|          | 0/10 [00:00<?, ?it/s]"
      ]
     },
     "metadata": {},
     "output_type": "display_data"
    },
    {
     "name": "stdout",
     "output_type": "stream",
     "text": [
      "              precision    recall  f1-score   support\n",
      "\n",
      "      normal       0.34      1.00      0.50        26\n",
      "tuberculosis       0.00      0.00      0.00        15\n",
      "    neumonia       0.00      0.00      0.00        22\n",
      "    covid-19       0.00      0.00      0.00        14\n",
      "\n",
      "    accuracy                           0.34        77\n",
      "   macro avg       0.08      0.25      0.13        77\n",
      "weighted avg       0.11      0.34      0.17        77\n",
      "\n",
      "Valor Función pérdida: 1.303 Precisión: 34 %\n",
      "Tiempo de iteración: 0:00:01.749500\n",
      "Época 6\n",
      "-------------------------------\n",
      "## Entrenamiento ##\n"
     ]
    },
    {
     "data": {
      "application/vnd.jupyter.widget-view+json": {
       "model_id": "413e1aed057c409ba663d757c0ff1a32",
       "version_major": 2,
       "version_minor": 0
      },
      "text/plain": [
       "Progreso dataset entrenamiento(batches):   0%|          | 0/50 [00:00<?, ?it/s]"
      ]
     },
     "metadata": {},
     "output_type": "display_data"
    },
    {
     "name": "stdout",
     "output_type": "stream",
     "text": [
      "Valor Función pérdida: 1.295 Precisión: 40%  Tasa de aprendizaje: 0.001\n",
      "Tiempo de iteración: 0:00:26.233041\n",
      "## Validación ##\n"
     ]
    },
    {
     "data": {
      "application/vnd.jupyter.widget-view+json": {
       "model_id": "f2444d2886e94bfaba73083394ccd745",
       "version_major": 2,
       "version_minor": 0
      },
      "text/plain": [
       "Progreso dataset evaluacion (Batches):   0%|          | 0/10 [00:00<?, ?it/s]"
      ]
     },
     "metadata": {},
     "output_type": "display_data"
    },
    {
     "name": "stdout",
     "output_type": "stream",
     "text": [
      "              precision    recall  f1-score   support\n",
      "\n",
      "      normal       0.34      1.00      0.50        26\n",
      "tuberculosis       0.00      0.00      0.00        15\n",
      "    neumonia       0.00      0.00      0.00        22\n",
      "    covid-19       0.00      0.00      0.00        14\n",
      "\n",
      "    accuracy                           0.34        77\n",
      "   macro avg       0.08      0.25      0.13        77\n",
      "weighted avg       0.11      0.34      0.17        77\n",
      "\n",
      "Valor Función pérdida: 1.300 Precisión: 34 %\n",
      "Tiempo de iteración: 0:00:01.856893\n",
      "Época 7\n",
      "-------------------------------\n",
      "## Entrenamiento ##\n"
     ]
    },
    {
     "data": {
      "application/vnd.jupyter.widget-view+json": {
       "model_id": "9dd47759a30e4d399b8a981c8f7ec3ec",
       "version_major": 2,
       "version_minor": 0
      },
      "text/plain": [
       "Progreso dataset entrenamiento(batches):   0%|          | 0/50 [00:00<?, ?it/s]"
      ]
     },
     "metadata": {},
     "output_type": "display_data"
    },
    {
     "name": "stdout",
     "output_type": "stream",
     "text": [
      "Valor Función pérdida: 1.284 Precisión: 40%  Tasa de aprendizaje: 0.001\n",
      "Tiempo de iteración: 0:00:26.275074\n",
      "## Validación ##\n"
     ]
    },
    {
     "data": {
      "application/vnd.jupyter.widget-view+json": {
       "model_id": "20cfabedfe98488f92907b48c9df8d85",
       "version_major": 2,
       "version_minor": 0
      },
      "text/plain": [
       "Progreso dataset evaluacion (Batches):   0%|          | 0/10 [00:00<?, ?it/s]"
      ]
     },
     "metadata": {},
     "output_type": "display_data"
    },
    {
     "name": "stdout",
     "output_type": "stream",
     "text": [
      "              precision    recall  f1-score   support\n",
      "\n",
      "      normal       0.34      1.00      0.50        26\n",
      "tuberculosis       0.00      0.00      0.00        15\n",
      "    neumonia       0.00      0.00      0.00        22\n",
      "    covid-19       0.00      0.00      0.00        14\n",
      "\n",
      "    accuracy                           0.34        77\n",
      "   macro avg       0.08      0.25      0.13        77\n",
      "weighted avg       0.11      0.34      0.17        77\n",
      "\n",
      "Valor Función pérdida: 1.292 Precisión: 34 %\n",
      "Tiempo de iteración: 0:00:01.779991\n",
      "Época 8\n",
      "-------------------------------\n",
      "## Entrenamiento ##\n"
     ]
    },
    {
     "data": {
      "application/vnd.jupyter.widget-view+json": {
       "model_id": "e1f0159001a2430fa365a184374203d8",
       "version_major": 2,
       "version_minor": 0
      },
      "text/plain": [
       "Progreso dataset entrenamiento(batches):   0%|          | 0/50 [00:00<?, ?it/s]"
      ]
     },
     "metadata": {},
     "output_type": "display_data"
    },
    {
     "name": "stdout",
     "output_type": "stream",
     "text": [
      "Valor Función pérdida: 1.271 Precisión: 40%  Tasa de aprendizaje: 0.001\n",
      "Tiempo de iteración: 0:00:26.172076\n",
      "## Validación ##\n"
     ]
    },
    {
     "data": {
      "application/vnd.jupyter.widget-view+json": {
       "model_id": "85c28705347147508227323eb6497f28",
       "version_major": 2,
       "version_minor": 0
      },
      "text/plain": [
       "Progreso dataset evaluacion (Batches):   0%|          | 0/10 [00:00<?, ?it/s]"
      ]
     },
     "metadata": {},
     "output_type": "display_data"
    },
    {
     "name": "stdout",
     "output_type": "stream",
     "text": [
      "              precision    recall  f1-score   support\n",
      "\n",
      "      normal       0.34      1.00      0.50        26\n",
      "tuberculosis       0.00      0.00      0.00        15\n",
      "    neumonia       0.00      0.00      0.00        22\n",
      "    covid-19       0.00      0.00      0.00        14\n",
      "\n",
      "    accuracy                           0.34        77\n",
      "   macro avg       0.08      0.25      0.13        77\n",
      "weighted avg       0.11      0.34      0.17        77\n",
      "\n",
      "Valor Función pérdida: 1.280 Precisión: 34 %\n",
      "Tiempo de iteración: 0:00:01.739959\n",
      "Época 9\n",
      "-------------------------------\n",
      "## Entrenamiento ##\n"
     ]
    },
    {
     "data": {
      "application/vnd.jupyter.widget-view+json": {
       "model_id": "44e4e6fb0ebb48c6ad9a82f0af084012",
       "version_major": 2,
       "version_minor": 0
      },
      "text/plain": [
       "Progreso dataset entrenamiento(batches):   0%|          | 0/50 [00:00<?, ?it/s]"
      ]
     },
     "metadata": {},
     "output_type": "display_data"
    },
    {
     "name": "stdout",
     "output_type": "stream",
     "text": [
      "Valor Función pérdida: 1.261 Precisión: 40%  Tasa de aprendizaje: 0.001\n",
      "Tiempo de iteración: 0:00:26.171490\n",
      "## Validación ##\n"
     ]
    },
    {
     "data": {
      "application/vnd.jupyter.widget-view+json": {
       "model_id": "8e659083b62e406ca9e6c7a87f355159",
       "version_major": 2,
       "version_minor": 0
      },
      "text/plain": [
       "Progreso dataset evaluacion (Batches):   0%|          | 0/10 [00:00<?, ?it/s]"
      ]
     },
     "metadata": {},
     "output_type": "display_data"
    },
    {
     "name": "stdout",
     "output_type": "stream",
     "text": [
      "              precision    recall  f1-score   support\n",
      "\n",
      "      normal       0.34      1.00      0.50        26\n",
      "tuberculosis       0.00      0.00      0.00        15\n",
      "    neumonia       0.00      0.00      0.00        22\n",
      "    covid-19       0.00      0.00      0.00        14\n",
      "\n",
      "    accuracy                           0.34        77\n",
      "   macro avg       0.08      0.25      0.13        77\n",
      "weighted avg       0.11      0.34      0.17        77\n",
      "\n",
      "Valor Función pérdida: 1.278 Precisión: 34 %\n",
      "Tiempo de iteración: 0:00:01.766464\n",
      "Época 10\n",
      "-------------------------------\n",
      "## Entrenamiento ##\n"
     ]
    },
    {
     "data": {
      "application/vnd.jupyter.widget-view+json": {
       "model_id": "d2de2577612d42959daddc0d653bdb05",
       "version_major": 2,
       "version_minor": 0
      },
      "text/plain": [
       "Progreso dataset entrenamiento(batches):   0%|          | 0/50 [00:00<?, ?it/s]"
      ]
     },
     "metadata": {},
     "output_type": "display_data"
    },
    {
     "name": "stdout",
     "output_type": "stream",
     "text": [
      "Valor Función pérdida: 1.250 Precisión: 40%  Tasa de aprendizaje: 0.001\n",
      "Tiempo de iteración: 0:00:26.143279\n",
      "## Validación ##\n"
     ]
    },
    {
     "data": {
      "application/vnd.jupyter.widget-view+json": {
       "model_id": "a1a94a4d110c437198a56b8952d519f8",
       "version_major": 2,
       "version_minor": 0
      },
      "text/plain": [
       "Progreso dataset evaluacion (Batches):   0%|          | 0/10 [00:00<?, ?it/s]"
      ]
     },
     "metadata": {},
     "output_type": "display_data"
    },
    {
     "name": "stdout",
     "output_type": "stream",
     "text": [
      "              precision    recall  f1-score   support\n",
      "\n",
      "      normal       0.34      1.00      0.50        26\n",
      "tuberculosis       0.00      0.00      0.00        15\n",
      "    neumonia       0.00      0.00      0.00        22\n",
      "    covid-19       0.00      0.00      0.00        14\n",
      "\n",
      "    accuracy                           0.34        77\n",
      "   macro avg       0.08      0.25      0.13        77\n",
      "weighted avg       0.11      0.34      0.17        77\n",
      "\n",
      "Valor Función pérdida: 1.271 Precisión: 34 %\n",
      "Tiempo de iteración: 0:00:01.720857\n",
      "Época 11\n",
      "-------------------------------\n",
      "## Entrenamiento ##\n"
     ]
    },
    {
     "data": {
      "application/vnd.jupyter.widget-view+json": {
       "model_id": "cd46640fcdff434789b1f93ce84debf6",
       "version_major": 2,
       "version_minor": 0
      },
      "text/plain": [
       "Progreso dataset entrenamiento(batches):   0%|          | 0/50 [00:00<?, ?it/s]"
      ]
     },
     "metadata": {},
     "output_type": "display_data"
    },
    {
     "name": "stdout",
     "output_type": "stream",
     "text": [
      "Valor Función pérdida: 1.246 Precisión: 40%  Tasa de aprendizaje: 0.001\n",
      "Tiempo de iteración: 0:00:26.175213\n",
      "## Validación ##\n"
     ]
    },
    {
     "data": {
      "application/vnd.jupyter.widget-view+json": {
       "model_id": "fac924bfc70b4e60b67cc414e39c050d",
       "version_major": 2,
       "version_minor": 0
      },
      "text/plain": [
       "Progreso dataset evaluacion (Batches):   0%|          | 0/10 [00:00<?, ?it/s]"
      ]
     },
     "metadata": {},
     "output_type": "display_data"
    },
    {
     "name": "stdout",
     "output_type": "stream",
     "text": [
      "              precision    recall  f1-score   support\n",
      "\n",
      "      normal       0.34      1.00      0.50        26\n",
      "tuberculosis       0.00      0.00      0.00        15\n",
      "    neumonia       0.00      0.00      0.00        22\n",
      "    covid-19       0.00      0.00      0.00        14\n",
      "\n",
      "    accuracy                           0.34        77\n",
      "   macro avg       0.08      0.25      0.13        77\n",
      "weighted avg       0.11      0.34      0.17        77\n",
      "\n",
      "Valor Función pérdida: 1.251 Precisión: 34 %\n",
      "Tiempo de iteración: 0:00:01.787139\n",
      "Época 12\n",
      "-------------------------------\n",
      "## Entrenamiento ##\n"
     ]
    },
    {
     "data": {
      "application/vnd.jupyter.widget-view+json": {
       "model_id": "256c79f5fbdf4b0887f2f9e2535ea9f6",
       "version_major": 2,
       "version_minor": 0
      },
      "text/plain": [
       "Progreso dataset entrenamiento(batches):   0%|          | 0/50 [00:00<?, ?it/s]"
      ]
     },
     "metadata": {},
     "output_type": "display_data"
    },
    {
     "name": "stdout",
     "output_type": "stream",
     "text": [
      "Valor Función pérdida: 1.233 Precisión: 40%  Tasa de aprendizaje: 0.001\n",
      "Tiempo de iteración: 0:00:26.129247\n",
      "## Validación ##\n"
     ]
    },
    {
     "data": {
      "application/vnd.jupyter.widget-view+json": {
       "model_id": "c10e8cf665a5471e9455fff1b290740f",
       "version_major": 2,
       "version_minor": 0
      },
      "text/plain": [
       "Progreso dataset evaluacion (Batches):   0%|          | 0/10 [00:00<?, ?it/s]"
      ]
     },
     "metadata": {},
     "output_type": "display_data"
    },
    {
     "name": "stdout",
     "output_type": "stream",
     "text": [
      "              precision    recall  f1-score   support\n",
      "\n",
      "      normal       0.34      1.00      0.50        26\n",
      "tuberculosis       0.00      0.00      0.00        15\n",
      "    neumonia       0.00      0.00      0.00        22\n",
      "    covid-19       0.00      0.00      0.00        14\n",
      "\n",
      "    accuracy                           0.34        77\n",
      "   macro avg       0.08      0.25      0.13        77\n",
      "weighted avg       0.11      0.34      0.17        77\n",
      "\n",
      "Valor Función pérdida: 1.258 Precisión: 34 %\n",
      "Tiempo de iteración: 0:00:01.735453\n",
      "Época 13\n",
      "-------------------------------\n",
      "## Entrenamiento ##\n"
     ]
    },
    {
     "data": {
      "application/vnd.jupyter.widget-view+json": {
       "model_id": "1317cb96c71f4dddb8f1d30d669f4855",
       "version_major": 2,
       "version_minor": 0
      },
      "text/plain": [
       "Progreso dataset entrenamiento(batches):   0%|          | 0/50 [00:00<?, ?it/s]"
      ]
     },
     "metadata": {},
     "output_type": "display_data"
    },
    {
     "name": "stdout",
     "output_type": "stream",
     "text": [
      "Valor Función pérdida: 1.223 Precisión: 40%  Tasa de aprendizaje: 0.001\n",
      "Tiempo de iteración: 0:00:26.097921\n",
      "## Validación ##\n"
     ]
    },
    {
     "data": {
      "application/vnd.jupyter.widget-view+json": {
       "model_id": "1bb37db109a24192895fe376aae0b84b",
       "version_major": 2,
       "version_minor": 0
      },
      "text/plain": [
       "Progreso dataset evaluacion (Batches):   0%|          | 0/10 [00:00<?, ?it/s]"
      ]
     },
     "metadata": {},
     "output_type": "display_data"
    },
    {
     "name": "stdout",
     "output_type": "stream",
     "text": [
      "              precision    recall  f1-score   support\n",
      "\n",
      "      normal       0.35      1.00      0.51        26\n",
      "tuberculosis       0.00      0.00      0.00        15\n",
      "    neumonia       1.00      0.09      0.17        22\n",
      "    covid-19       0.00      0.00      0.00        14\n",
      "\n",
      "    accuracy                           0.36        77\n",
      "   macro avg       0.34      0.27      0.17        77\n",
      "weighted avg       0.40      0.36      0.22        77\n",
      "\n",
      "Valor Función pérdida: 1.256 Precisión: 36 %\n",
      "Tiempo de iteración: 0:00:01.742838\n",
      "Época 14\n",
      "-------------------------------\n",
      "## Entrenamiento ##\n"
     ]
    },
    {
     "data": {
      "application/vnd.jupyter.widget-view+json": {
       "model_id": "9946a8086aae4512860468dfc4b1d99d",
       "version_major": 2,
       "version_minor": 0
      },
      "text/plain": [
       "Progreso dataset entrenamiento(batches):   0%|          | 0/50 [00:00<?, ?it/s]"
      ]
     },
     "metadata": {},
     "output_type": "display_data"
    },
    {
     "name": "stdout",
     "output_type": "stream",
     "text": [
      "Valor Función pérdida: 1.236 Precisión: 41%  Tasa de aprendizaje: 0.001\n",
      "Tiempo de iteración: 0:00:26.132746\n",
      "## Validación ##\n"
     ]
    },
    {
     "data": {
      "application/vnd.jupyter.widget-view+json": {
       "model_id": "480062ce2ad347558f8f5dfc890e1e62",
       "version_major": 2,
       "version_minor": 0
      },
      "text/plain": [
       "Progreso dataset evaluacion (Batches):   0%|          | 0/10 [00:00<?, ?it/s]"
      ]
     },
     "metadata": {},
     "output_type": "display_data"
    },
    {
     "name": "stdout",
     "output_type": "stream",
     "text": [
      "              precision    recall  f1-score   support\n",
      "\n",
      "      normal       0.34      1.00      0.51        26\n",
      "tuberculosis       0.00      0.00      0.00        15\n",
      "    neumonia       1.00      0.05      0.09        22\n",
      "    covid-19       0.00      0.00      0.00        14\n",
      "\n",
      "    accuracy                           0.35        77\n",
      "   macro avg       0.34      0.26      0.15        77\n",
      "weighted avg       0.40      0.35      0.20        77\n",
      "\n",
      "Valor Función pérdida: 1.248 Precisión: 35 %\n",
      "Tiempo de iteración: 0:00:01.727530\n",
      "Época 15\n",
      "-------------------------------\n",
      "## Entrenamiento ##\n"
     ]
    },
    {
     "data": {
      "application/vnd.jupyter.widget-view+json": {
       "model_id": "68c098413d254f5caca44f6042860f86",
       "version_major": 2,
       "version_minor": 0
      },
      "text/plain": [
       "Progreso dataset entrenamiento(batches):   0%|          | 0/50 [00:00<?, ?it/s]"
      ]
     },
     "metadata": {},
     "output_type": "display_data"
    },
    {
     "name": "stdout",
     "output_type": "stream",
     "text": [
      "Valor Función pérdida: 1.216 Precisión: 41%  Tasa de aprendizaje: 0.001\n",
      "Tiempo de iteración: 0:00:26.117581\n",
      "## Validación ##\n"
     ]
    },
    {
     "data": {
      "application/vnd.jupyter.widget-view+json": {
       "model_id": "adc5463c183343a9bb793d6fa1abcfcd",
       "version_major": 2,
       "version_minor": 0
      },
      "text/plain": [
       "Progreso dataset evaluacion (Batches):   0%|          | 0/10 [00:00<?, ?it/s]"
      ]
     },
     "metadata": {},
     "output_type": "display_data"
    },
    {
     "name": "stdout",
     "output_type": "stream",
     "text": [
      "              precision    recall  f1-score   support\n",
      "\n",
      "      normal       0.35      1.00      0.51        26\n",
      "tuberculosis       0.00      0.00      0.00        15\n",
      "    neumonia       1.00      0.09      0.17        22\n",
      "    covid-19       0.00      0.00      0.00        14\n",
      "\n",
      "    accuracy                           0.36        77\n",
      "   macro avg       0.34      0.27      0.17        77\n",
      "weighted avg       0.40      0.36      0.22        77\n",
      "\n",
      "Valor Función pérdida: 1.237 Precisión: 36 %\n",
      "Tiempo de iteración: 0:00:01.714155\n",
      "Época 16\n",
      "-------------------------------\n",
      "## Entrenamiento ##\n"
     ]
    },
    {
     "data": {
      "application/vnd.jupyter.widget-view+json": {
       "model_id": "e87710a44d544e3da627dceea7332ce9",
       "version_major": 2,
       "version_minor": 0
      },
      "text/plain": [
       "Progreso dataset entrenamiento(batches):   0%|          | 0/50 [00:00<?, ?it/s]"
      ]
     },
     "metadata": {},
     "output_type": "display_data"
    },
    {
     "name": "stdout",
     "output_type": "stream",
     "text": [
      "Valor Función pérdida: 1.208 Precisión: 42%  Tasa de aprendizaje: 0.001\n",
      "Tiempo de iteración: 0:00:26.197811\n",
      "## Validación ##\n"
     ]
    },
    {
     "data": {
      "application/vnd.jupyter.widget-view+json": {
       "model_id": "ef49e64e21e343d98cdd61eba8b26874",
       "version_major": 2,
       "version_minor": 0
      },
      "text/plain": [
       "Progreso dataset evaluacion (Batches):   0%|          | 0/10 [00:00<?, ?it/s]"
      ]
     },
     "metadata": {},
     "output_type": "display_data"
    },
    {
     "name": "stdout",
     "output_type": "stream",
     "text": [
      "              precision    recall  f1-score   support\n",
      "\n",
      "      normal       0.35      1.00      0.52        26\n",
      "tuberculosis       0.00      0.00      0.00        15\n",
      "    neumonia       1.00      0.14      0.24        22\n",
      "    covid-19       0.00      0.00      0.00        14\n",
      "\n",
      "    accuracy                           0.38        77\n",
      "   macro avg       0.34      0.28      0.19        77\n",
      "weighted avg       0.40      0.38      0.24        77\n",
      "\n",
      "Valor Función pérdida: 1.235 Precisión: 38 %\n",
      "Tiempo de iteración: 0:00:01.780665\n",
      "Época 17\n",
      "-------------------------------\n",
      "## Entrenamiento ##\n"
     ]
    },
    {
     "data": {
      "application/vnd.jupyter.widget-view+json": {
       "model_id": "4aa2037157bd435d88f4340d1b9270e9",
       "version_major": 2,
       "version_minor": 0
      },
      "text/plain": [
       "Progreso dataset entrenamiento(batches):   0%|          | 0/50 [00:00<?, ?it/s]"
      ]
     },
     "metadata": {},
     "output_type": "display_data"
    },
    {
     "name": "stdout",
     "output_type": "stream",
     "text": [
      "Valor Función pérdida: 1.199 Precisión: 42%  Tasa de aprendizaje: 0.001\n",
      "Tiempo de iteración: 0:00:26.189034\n",
      "## Validación ##\n"
     ]
    },
    {
     "data": {
      "application/vnd.jupyter.widget-view+json": {
       "model_id": "955c121fdbcf46e0aacb5b7fec4d235b",
       "version_major": 2,
       "version_minor": 0
      },
      "text/plain": [
       "Progreso dataset evaluacion (Batches):   0%|          | 0/10 [00:00<?, ?it/s]"
      ]
     },
     "metadata": {},
     "output_type": "display_data"
    },
    {
     "name": "stdout",
     "output_type": "stream",
     "text": [
      "              precision    recall  f1-score   support\n",
      "\n",
      "      normal       0.36      1.00      0.53        26\n",
      "tuberculosis       0.00      0.00      0.00        15\n",
      "    neumonia       1.00      0.18      0.31        22\n",
      "    covid-19       1.00      0.07      0.13        14\n",
      "\n",
      "    accuracy                           0.40        77\n",
      "   macro avg       0.59      0.31      0.24        77\n",
      "weighted avg       0.59      0.40      0.29        77\n",
      "\n",
      "Valor Función pérdida: 1.226 Precisión: 40 %\n",
      "Tiempo de iteración: 0:00:01.829292\n",
      "Época 18\n",
      "-------------------------------\n",
      "## Entrenamiento ##\n"
     ]
    },
    {
     "data": {
      "application/vnd.jupyter.widget-view+json": {
       "model_id": "4eeca37d9bd7496489a2cd2a3e795301",
       "version_major": 2,
       "version_minor": 0
      },
      "text/plain": [
       "Progreso dataset entrenamiento(batches):   0%|          | 0/50 [00:00<?, ?it/s]"
      ]
     },
     "metadata": {},
     "output_type": "display_data"
    },
    {
     "name": "stdout",
     "output_type": "stream",
     "text": [
      "Valor Función pérdida: 1.189 Precisión: 43%  Tasa de aprendizaje: 0.001\n",
      "Tiempo de iteración: 0:00:26.185338\n",
      "## Validación ##\n"
     ]
    },
    {
     "data": {
      "application/vnd.jupyter.widget-view+json": {
       "model_id": "7b1a3ebdd4304275b36ac8931ba47f0b",
       "version_major": 2,
       "version_minor": 0
      },
      "text/plain": [
       "Progreso dataset evaluacion (Batches):   0%|          | 0/10 [00:00<?, ?it/s]"
      ]
     },
     "metadata": {},
     "output_type": "display_data"
    },
    {
     "name": "stdout",
     "output_type": "stream",
     "text": [
      "              precision    recall  f1-score   support\n",
      "\n",
      "      normal       0.38      1.00      0.55        26\n",
      "tuberculosis       0.00      0.00      0.00        15\n",
      "    neumonia       0.78      0.32      0.45        22\n",
      "    covid-19       0.00      0.00      0.00        14\n",
      "\n",
      "    accuracy                           0.43        77\n",
      "   macro avg       0.29      0.33      0.25        77\n",
      "weighted avg       0.35      0.43      0.32        77\n",
      "\n",
      "Valor Función pérdida: 1.213 Precisión: 43 %\n",
      "Tiempo de iteración: 0:00:01.758835\n",
      "Época 19\n",
      "-------------------------------\n",
      "## Entrenamiento ##\n"
     ]
    },
    {
     "data": {
      "application/vnd.jupyter.widget-view+json": {
       "model_id": "2de42db773524af7972111be05bdee96",
       "version_major": 2,
       "version_minor": 0
      },
      "text/plain": [
       "Progreso dataset entrenamiento(batches):   0%|          | 0/50 [00:00<?, ?it/s]"
      ]
     },
     "metadata": {},
     "output_type": "display_data"
    },
    {
     "name": "stdout",
     "output_type": "stream",
     "text": [
      "Valor Función pérdida: 1.189 Precisión: 44%  Tasa de aprendizaje: 0.001\n",
      "Tiempo de iteración: 0:00:26.180972\n",
      "## Validación ##\n"
     ]
    },
    {
     "data": {
      "application/vnd.jupyter.widget-view+json": {
       "model_id": "b157ba10e8cc4118a14eb4eedacddd30",
       "version_major": 2,
       "version_minor": 0
      },
      "text/plain": [
       "Progreso dataset evaluacion (Batches):   0%|          | 0/10 [00:00<?, ?it/s]"
      ]
     },
     "metadata": {},
     "output_type": "display_data"
    },
    {
     "name": "stdout",
     "output_type": "stream",
     "text": [
      "              precision    recall  f1-score   support\n",
      "\n",
      "      normal       0.39      1.00      0.56        26\n",
      "tuberculosis       0.00      0.00      0.00        15\n",
      "    neumonia       1.00      0.41      0.58        22\n",
      "    covid-19       1.00      0.07      0.13        14\n",
      "\n",
      "    accuracy                           0.47        77\n",
      "   macro avg       0.60      0.37      0.32        77\n",
      "weighted avg       0.60      0.47      0.38        77\n",
      "\n",
      "Valor Función pérdida: 1.213 Precisión: 47 %\n",
      "Tiempo de iteración: 0:00:01.723972\n",
      "Época 20\n",
      "-------------------------------\n",
      "## Entrenamiento ##\n"
     ]
    },
    {
     "data": {
      "application/vnd.jupyter.widget-view+json": {
       "model_id": "6cfc798b6ead4f99b31a928145575c15",
       "version_major": 2,
       "version_minor": 0
      },
      "text/plain": [
       "Progreso dataset entrenamiento(batches):   0%|          | 0/50 [00:00<?, ?it/s]"
      ]
     },
     "metadata": {},
     "output_type": "display_data"
    },
    {
     "name": "stdout",
     "output_type": "stream",
     "text": [
      "Valor Función pérdida: 1.180 Precisión: 45%  Tasa de aprendizaje: 0.001\n",
      "Tiempo de iteración: 0:00:26.117475\n",
      "## Validación ##\n"
     ]
    },
    {
     "data": {
      "application/vnd.jupyter.widget-view+json": {
       "model_id": "936450c3f3b24c1ab25f982bb21f59ae",
       "version_major": 2,
       "version_minor": 0
      },
      "text/plain": [
       "Progreso dataset evaluacion (Batches):   0%|          | 0/10 [00:00<?, ?it/s]"
      ]
     },
     "metadata": {},
     "output_type": "display_data"
    },
    {
     "name": "stdout",
     "output_type": "stream",
     "text": [
      "              precision    recall  f1-score   support\n",
      "\n",
      "      normal       0.38      1.00      0.55        26\n",
      "tuberculosis       0.00      0.00      0.00        15\n",
      "    neumonia       0.88      0.32      0.47        22\n",
      "    covid-19       1.00      0.07      0.13        14\n",
      "\n",
      "    accuracy                           0.44        77\n",
      "   macro avg       0.56      0.35      0.29        77\n",
      "weighted avg       0.56      0.44      0.34        77\n",
      "\n",
      "Valor Función pérdida: 1.215 Precisión: 44 %\n",
      "Tiempo de iteración: 0:00:01.804825\n",
      "Época 21\n",
      "-------------------------------\n",
      "## Entrenamiento ##\n"
     ]
    },
    {
     "data": {
      "application/vnd.jupyter.widget-view+json": {
       "model_id": "268e0657be414987b70231713fd265fe",
       "version_major": 2,
       "version_minor": 0
      },
      "text/plain": [
       "Progreso dataset entrenamiento(batches):   0%|          | 0/50 [00:00<?, ?it/s]"
      ]
     },
     "metadata": {},
     "output_type": "display_data"
    },
    {
     "name": "stdout",
     "output_type": "stream",
     "text": [
      "Valor Función pérdida: 1.187 Precisión: 46%  Tasa de aprendizaje: 0.001\n",
      "Tiempo de iteración: 0:00:26.172361\n",
      "## Validación ##\n"
     ]
    },
    {
     "data": {
      "application/vnd.jupyter.widget-view+json": {
       "model_id": "70097a3bffb04d759e2e47600375dd06",
       "version_major": 2,
       "version_minor": 0
      },
      "text/plain": [
       "Progreso dataset evaluacion (Batches):   0%|          | 0/10 [00:00<?, ?it/s]"
      ]
     },
     "metadata": {},
     "output_type": "display_data"
    },
    {
     "name": "stdout",
     "output_type": "stream",
     "text": [
      "              precision    recall  f1-score   support\n",
      "\n",
      "      normal       0.41      1.00      0.58        26\n",
      "tuberculosis       0.00      0.00      0.00        15\n",
      "    neumonia       0.92      0.50      0.65        22\n",
      "    covid-19       1.00      0.07      0.13        14\n",
      "\n",
      "    accuracy                           0.49        77\n",
      "   macro avg       0.58      0.39      0.34        77\n",
      "weighted avg       0.58      0.49      0.40        77\n",
      "\n",
      "Valor Función pérdida: 1.200 Precisión: 49 %\n",
      "Tiempo de iteración: 0:00:01.809629\n",
      "Época 22\n",
      "-------------------------------\n",
      "## Entrenamiento ##\n"
     ]
    },
    {
     "data": {
      "application/vnd.jupyter.widget-view+json": {
       "model_id": "c3387f15f358458581ffede7fb6dc69a",
       "version_major": 2,
       "version_minor": 0
      },
      "text/plain": [
       "Progreso dataset entrenamiento(batches):   0%|          | 0/50 [00:00<?, ?it/s]"
      ]
     },
     "metadata": {},
     "output_type": "display_data"
    },
    {
     "name": "stdout",
     "output_type": "stream",
     "text": [
      "Valor Función pérdida: 1.191 Precisión: 47%  Tasa de aprendizaje: 0.001\n",
      "Tiempo de iteración: 0:00:26.146856\n",
      "## Validación ##\n"
     ]
    },
    {
     "data": {
      "application/vnd.jupyter.widget-view+json": {
       "model_id": "35f81dcce338454ebfb8930f34da58a6",
       "version_major": 2,
       "version_minor": 0
      },
      "text/plain": [
       "Progreso dataset evaluacion (Batches):   0%|          | 0/10 [00:00<?, ?it/s]"
      ]
     },
     "metadata": {},
     "output_type": "display_data"
    },
    {
     "name": "stdout",
     "output_type": "stream",
     "text": [
      "              precision    recall  f1-score   support\n",
      "\n",
      "      normal       0.39      1.00      0.57        26\n",
      "tuberculosis       0.00      0.00      0.00        15\n",
      "    neumonia       1.00      0.45      0.62        22\n",
      "    covid-19       1.00      0.07      0.13        14\n",
      "\n",
      "    accuracy                           0.48        77\n",
      "   macro avg       0.60      0.38      0.33        77\n",
      "weighted avg       0.60      0.48      0.39        77\n",
      "\n",
      "Valor Función pérdida: 1.187 Precisión: 48 %\n",
      "Tiempo de iteración: 0:00:01.836709\n",
      "Época 23\n",
      "-------------------------------\n",
      "## Entrenamiento ##\n"
     ]
    },
    {
     "data": {
      "application/vnd.jupyter.widget-view+json": {
       "model_id": "d3a6cd1bce9a476e9ff7761552460e1d",
       "version_major": 2,
       "version_minor": 0
      },
      "text/plain": [
       "Progreso dataset entrenamiento(batches):   0%|          | 0/50 [00:00<?, ?it/s]"
      ]
     },
     "metadata": {},
     "output_type": "display_data"
    },
    {
     "name": "stdout",
     "output_type": "stream",
     "text": [
      "Valor Función pérdida: 1.170 Precisión: 49%  Tasa de aprendizaje: 0.001\n",
      "Tiempo de iteración: 0:00:26.114759\n",
      "## Validación ##\n"
     ]
    },
    {
     "data": {
      "application/vnd.jupyter.widget-view+json": {
       "model_id": "eb11ca00ef5c4cf1a547ff1453f9e678",
       "version_major": 2,
       "version_minor": 0
      },
      "text/plain": [
       "Progreso dataset evaluacion (Batches):   0%|          | 0/10 [00:00<?, ?it/s]"
      ]
     },
     "metadata": {},
     "output_type": "display_data"
    },
    {
     "name": "stdout",
     "output_type": "stream",
     "text": [
      "              precision    recall  f1-score   support\n",
      "\n",
      "      normal       0.39      1.00      0.56        26\n",
      "tuberculosis       0.00      0.00      0.00        15\n",
      "    neumonia       0.90      0.41      0.56        22\n",
      "    covid-19       0.00      0.00      0.00        14\n",
      "\n",
      "    accuracy                           0.45        77\n",
      "   macro avg       0.32      0.35      0.28        77\n",
      "weighted avg       0.39      0.45      0.35        77\n",
      "\n",
      "Valor Función pérdida: 1.196 Precisión: 45 %\n",
      "Tiempo de iteración: 0:00:01.735891\n",
      "Época 24\n",
      "-------------------------------\n",
      "## Entrenamiento ##\n"
     ]
    },
    {
     "data": {
      "application/vnd.jupyter.widget-view+json": {
       "model_id": "78b1bec3032d4a2c9e9607ac2e2478ab",
       "version_major": 2,
       "version_minor": 0
      },
      "text/plain": [
       "Progreso dataset entrenamiento(batches):   0%|          | 0/50 [00:00<?, ?it/s]"
      ]
     },
     "metadata": {},
     "output_type": "display_data"
    },
    {
     "name": "stdout",
     "output_type": "stream",
     "text": [
      "Valor Función pérdida: 1.166 Precisión: 47%  Tasa de aprendizaje: 0.001\n",
      "Tiempo de iteración: 0:00:26.132053\n",
      "## Validación ##\n"
     ]
    },
    {
     "data": {
      "application/vnd.jupyter.widget-view+json": {
       "model_id": "594e4379929747268ee084cb55b8db49",
       "version_major": 2,
       "version_minor": 0
      },
      "text/plain": [
       "Progreso dataset evaluacion (Batches):   0%|          | 0/10 [00:00<?, ?it/s]"
      ]
     },
     "metadata": {},
     "output_type": "display_data"
    },
    {
     "name": "stdout",
     "output_type": "stream",
     "text": [
      "              precision    recall  f1-score   support\n",
      "\n",
      "      normal       0.42      1.00      0.59        26\n",
      "tuberculosis       0.00      0.00      0.00        15\n",
      "    neumonia       0.92      0.50      0.65        22\n",
      "    covid-19       0.67      0.14      0.24        14\n",
      "\n",
      "    accuracy                           0.51        77\n",
      "   macro avg       0.50      0.41      0.37        77\n",
      "weighted avg       0.52      0.51      0.43        77\n",
      "\n",
      "Valor Función pérdida: 1.184 Precisión: 51 %\n",
      "Tiempo de iteración: 0:00:01.789018\n",
      "Época 25\n",
      "-------------------------------\n",
      "## Entrenamiento ##\n"
     ]
    },
    {
     "data": {
      "application/vnd.jupyter.widget-view+json": {
       "model_id": "891c24114f0e492cba32b4a30aad400f",
       "version_major": 2,
       "version_minor": 0
      },
      "text/plain": [
       "Progreso dataset entrenamiento(batches):   0%|          | 0/50 [00:00<?, ?it/s]"
      ]
     },
     "metadata": {},
     "output_type": "display_data"
    },
    {
     "name": "stdout",
     "output_type": "stream",
     "text": [
      "Valor Función pérdida: 1.168 Precisión: 51%  Tasa de aprendizaje: 0.001\n",
      "Tiempo de iteración: 0:00:26.134440\n",
      "## Validación ##\n"
     ]
    },
    {
     "data": {
      "application/vnd.jupyter.widget-view+json": {
       "model_id": "b9f764df6935479eb888f585d9aefaaa",
       "version_major": 2,
       "version_minor": 0
      },
      "text/plain": [
       "Progreso dataset evaluacion (Batches):   0%|          | 0/10 [00:00<?, ?it/s]"
      ]
     },
     "metadata": {},
     "output_type": "display_data"
    },
    {
     "name": "stdout",
     "output_type": "stream",
     "text": [
      "              precision    recall  f1-score   support\n",
      "\n",
      "      normal       0.42      1.00      0.59        26\n",
      "tuberculosis       0.00      0.00      0.00        15\n",
      "    neumonia       0.86      0.55      0.67        22\n",
      "    covid-19       0.00      0.00      0.00        14\n",
      "\n",
      "    accuracy                           0.49        77\n",
      "   macro avg       0.32      0.39      0.31        77\n",
      "weighted avg       0.39      0.49      0.39        77\n",
      "\n",
      "Valor Función pérdida: 1.182 Precisión: 49 %\n",
      "Tiempo de iteración: 0:00:01.804111\n",
      "Época 26\n",
      "-------------------------------\n",
      "## Entrenamiento ##\n"
     ]
    },
    {
     "data": {
      "application/vnd.jupyter.widget-view+json": {
       "model_id": "109a7ffa78d2497789e397118c3f245f",
       "version_major": 2,
       "version_minor": 0
      },
      "text/plain": [
       "Progreso dataset entrenamiento(batches):   0%|          | 0/50 [00:00<?, ?it/s]"
      ]
     },
     "metadata": {},
     "output_type": "display_data"
    },
    {
     "name": "stdout",
     "output_type": "stream",
     "text": [
      "Valor Función pérdida: 1.163 Precisión: 50%  Tasa de aprendizaje: 0.001\n",
      "Tiempo de iteración: 0:00:26.185240\n",
      "## Validación ##\n"
     ]
    },
    {
     "data": {
      "application/vnd.jupyter.widget-view+json": {
       "model_id": "e8cfddb129ae40f1a7f33433675e8d43",
       "version_major": 2,
       "version_minor": 0
      },
      "text/plain": [
       "Progreso dataset evaluacion (Batches):   0%|          | 0/10 [00:00<?, ?it/s]"
      ]
     },
     "metadata": {},
     "output_type": "display_data"
    },
    {
     "name": "stdout",
     "output_type": "stream",
     "text": [
      "              precision    recall  f1-score   support\n",
      "\n",
      "      normal       0.46      1.00      0.63        26\n",
      "tuberculosis       0.00      0.00      0.00        15\n",
      "    neumonia       0.89      0.73      0.80        22\n",
      "    covid-19       0.50      0.07      0.12        14\n",
      "\n",
      "    accuracy                           0.56        77\n",
      "   macro avg       0.46      0.45      0.39        77\n",
      "weighted avg       0.50      0.56      0.46        77\n",
      "\n",
      "Valor Función pérdida: 1.155 Precisión: 56 %\n",
      "Tiempo de iteración: 0:00:01.725655\n",
      "Época 27\n",
      "-------------------------------\n",
      "## Entrenamiento ##\n"
     ]
    },
    {
     "data": {
      "application/vnd.jupyter.widget-view+json": {
       "model_id": "667bb3c6861644babe6bf702ba49e75d",
       "version_major": 2,
       "version_minor": 0
      },
      "text/plain": [
       "Progreso dataset entrenamiento(batches):   0%|          | 0/50 [00:00<?, ?it/s]"
      ]
     },
     "metadata": {},
     "output_type": "display_data"
    },
    {
     "name": "stdout",
     "output_type": "stream",
     "text": [
      "Valor Función pérdida: 1.146 Precisión: 52%  Tasa de aprendizaje: 0.001\n",
      "Tiempo de iteración: 0:00:26.159081\n",
      "## Validación ##\n"
     ]
    },
    {
     "data": {
      "application/vnd.jupyter.widget-view+json": {
       "model_id": "9b773fea16334c27bd8ffe20077efa8d",
       "version_major": 2,
       "version_minor": 0
      },
      "text/plain": [
       "Progreso dataset evaluacion (Batches):   0%|          | 0/10 [00:00<?, ?it/s]"
      ]
     },
     "metadata": {},
     "output_type": "display_data"
    },
    {
     "name": "stdout",
     "output_type": "stream",
     "text": [
      "              precision    recall  f1-score   support\n",
      "\n",
      "      normal       0.43      1.00      0.60        26\n",
      "tuberculosis       0.00      0.00      0.00        15\n",
      "    neumonia       0.87      0.59      0.70        22\n",
      "    covid-19       1.00      0.14      0.25        14\n",
      "\n",
      "    accuracy                           0.53        77\n",
      "   macro avg       0.57      0.43      0.39        77\n",
      "weighted avg       0.58      0.53      0.45        77\n",
      "\n",
      "Valor Función pérdida: 1.153 Precisión: 53 %\n",
      "Tiempo de iteración: 0:00:01.750443\n",
      "Época 28\n",
      "-------------------------------\n",
      "## Entrenamiento ##\n"
     ]
    },
    {
     "data": {
      "application/vnd.jupyter.widget-view+json": {
       "model_id": "7aa8c4d530f44042b55bcf0138b09e50",
       "version_major": 2,
       "version_minor": 0
      },
      "text/plain": [
       "Progreso dataset entrenamiento(batches):   0%|          | 0/50 [00:00<?, ?it/s]"
      ]
     },
     "metadata": {},
     "output_type": "display_data"
    },
    {
     "name": "stdout",
     "output_type": "stream",
     "text": [
      "Valor Función pérdida: 1.142 Precisión: 52%  Tasa de aprendizaje: 0.001\n",
      "Tiempo de iteración: 0:00:26.257035\n",
      "## Validación ##\n"
     ]
    },
    {
     "data": {
      "application/vnd.jupyter.widget-view+json": {
       "model_id": "1d8db715b5d04782a384767fabf0291f",
       "version_major": 2,
       "version_minor": 0
      },
      "text/plain": [
       "Progreso dataset evaluacion (Batches):   0%|          | 0/10 [00:00<?, ?it/s]"
      ]
     },
     "metadata": {},
     "output_type": "display_data"
    },
    {
     "name": "stdout",
     "output_type": "stream",
     "text": [
      "              precision    recall  f1-score   support\n",
      "\n",
      "      normal       0.43      1.00      0.60        26\n",
      "tuberculosis       0.00      0.00      0.00        15\n",
      "    neumonia       0.85      0.50      0.63        22\n",
      "    covid-19       0.25      0.07      0.11        14\n",
      "\n",
      "    accuracy                           0.49        77\n",
      "   macro avg       0.38      0.39      0.34        77\n",
      "weighted avg       0.43      0.49      0.40        77\n",
      "\n",
      "Valor Función pérdida: 1.158 Precisión: 49 %\n",
      "Tiempo de iteración: 0:00:01.759607\n",
      "Época 29\n",
      "-------------------------------\n",
      "## Entrenamiento ##\n"
     ]
    },
    {
     "data": {
      "application/vnd.jupyter.widget-view+json": {
       "model_id": "31a72603cca949e3a55e58a4f1fefbf6",
       "version_major": 2,
       "version_minor": 0
      },
      "text/plain": [
       "Progreso dataset entrenamiento(batches):   0%|          | 0/50 [00:00<?, ?it/s]"
      ]
     },
     "metadata": {},
     "output_type": "display_data"
    },
    {
     "name": "stdout",
     "output_type": "stream",
     "text": [
      "Valor Función pérdida: 1.133 Precisión: 53%  Tasa de aprendizaje: 0.001\n",
      "Tiempo de iteración: 0:00:26.202717\n",
      "## Validación ##\n"
     ]
    },
    {
     "data": {
      "application/vnd.jupyter.widget-view+json": {
       "model_id": "acddd3360bae40508b9a3ff0d94d1eab",
       "version_major": 2,
       "version_minor": 0
      },
      "text/plain": [
       "Progreso dataset evaluacion (Batches):   0%|          | 0/10 [00:00<?, ?it/s]"
      ]
     },
     "metadata": {},
     "output_type": "display_data"
    },
    {
     "name": "stdout",
     "output_type": "stream",
     "text": [
      "              precision    recall  f1-score   support\n",
      "\n",
      "      normal       0.43      1.00      0.60        26\n",
      "tuberculosis       0.00      0.00      0.00        15\n",
      "    neumonia       0.85      0.50      0.63        22\n",
      "    covid-19       0.33      0.07      0.12        14\n",
      "\n",
      "    accuracy                           0.49        77\n",
      "   macro avg       0.40      0.39      0.34        77\n",
      "weighted avg       0.45      0.49      0.40        77\n",
      "\n",
      "Valor Función pérdida: 1.162 Precisión: 49 %\n",
      "Tiempo de iteración: 0:00:01.891874\n",
      "Época 30\n",
      "-------------------------------\n",
      "## Entrenamiento ##\n"
     ]
    },
    {
     "data": {
      "application/vnd.jupyter.widget-view+json": {
       "model_id": "047dd49ec10b4959b2755ef2dada5263",
       "version_major": 2,
       "version_minor": 0
      },
      "text/plain": [
       "Progreso dataset entrenamiento(batches):   0%|          | 0/50 [00:00<?, ?it/s]"
      ]
     },
     "metadata": {},
     "output_type": "display_data"
    },
    {
     "name": "stdout",
     "output_type": "stream",
     "text": [
      "Valor Función pérdida: 1.143 Precisión: 55%  Tasa de aprendizaje: 0.001\n",
      "Tiempo de iteración: 0:00:26.402435\n",
      "## Validación ##\n"
     ]
    },
    {
     "data": {
      "application/vnd.jupyter.widget-view+json": {
       "model_id": "8e68073b65f0436183afc63c9efdd5ed",
       "version_major": 2,
       "version_minor": 0
      },
      "text/plain": [
       "Progreso dataset evaluacion (Batches):   0%|          | 0/10 [00:00<?, ?it/s]"
      ]
     },
     "metadata": {},
     "output_type": "display_data"
    },
    {
     "name": "stdout",
     "output_type": "stream",
     "text": [
      "              precision    recall  f1-score   support\n",
      "\n",
      "      normal       0.46      1.00      0.63        26\n",
      "tuberculosis       0.00      0.00      0.00        15\n",
      "    neumonia       0.88      0.68      0.77        22\n",
      "    covid-19       0.50      0.14      0.22        14\n",
      "\n",
      "    accuracy                           0.56        77\n",
      "   macro avg       0.46      0.46      0.41        77\n",
      "weighted avg       0.50      0.56      0.47        77\n",
      "\n",
      "Valor Función pérdida: 1.143 Precisión: 56 %\n",
      "Tiempo de iteración: 0:00:01.954744\n",
      "Época 31\n",
      "-------------------------------\n",
      "## Entrenamiento ##\n"
     ]
    },
    {
     "data": {
      "application/vnd.jupyter.widget-view+json": {
       "model_id": "c2126c6fd6124079bbea360e29193192",
       "version_major": 2,
       "version_minor": 0
      },
      "text/plain": [
       "Progreso dataset entrenamiento(batches):   0%|          | 0/50 [00:00<?, ?it/s]"
      ]
     },
     "metadata": {},
     "output_type": "display_data"
    },
    {
     "name": "stdout",
     "output_type": "stream",
     "text": [
      "Valor Función pérdida: 1.131 Precisión: 54%  Tasa de aprendizaje: 0.001\n",
      "Tiempo de iteración: 0:00:26.206902\n",
      "## Validación ##\n"
     ]
    },
    {
     "data": {
      "application/vnd.jupyter.widget-view+json": {
       "model_id": "e97b178916024671af282591b1bedae8",
       "version_major": 2,
       "version_minor": 0
      },
      "text/plain": [
       "Progreso dataset evaluacion (Batches):   0%|          | 0/10 [00:00<?, ?it/s]"
      ]
     },
     "metadata": {},
     "output_type": "display_data"
    },
    {
     "name": "stdout",
     "output_type": "stream",
     "text": [
      "              precision    recall  f1-score   support\n",
      "\n",
      "      normal       0.46      1.00      0.63        26\n",
      "tuberculosis       0.00      0.00      0.00        15\n",
      "    neumonia       0.93      0.59      0.72        22\n",
      "    covid-19       0.50      0.21      0.30        14\n",
      "\n",
      "    accuracy                           0.55        77\n",
      "   macro avg       0.47      0.45      0.41        77\n",
      "weighted avg       0.51      0.55      0.47        77\n",
      "\n",
      "Valor Función pérdida: 1.143 Precisión: 55 %\n",
      "Tiempo de iteración: 0:00:01.788215\n",
      "Época 32\n",
      "-------------------------------\n",
      "## Entrenamiento ##\n"
     ]
    },
    {
     "data": {
      "application/vnd.jupyter.widget-view+json": {
       "model_id": "2183e1a6b0424de2bcad002c0ad2e8bf",
       "version_major": 2,
       "version_minor": 0
      },
      "text/plain": [
       "Progreso dataset entrenamiento(batches):   0%|          | 0/50 [00:00<?, ?it/s]"
      ]
     },
     "metadata": {},
     "output_type": "display_data"
    },
    {
     "name": "stdout",
     "output_type": "stream",
     "text": [
      "Valor Función pérdida: 1.123 Precisión: 55%  Tasa de aprendizaje: 0.001\n",
      "Tiempo de iteración: 0:00:26.209246\n",
      "## Validación ##\n"
     ]
    },
    {
     "data": {
      "application/vnd.jupyter.widget-view+json": {
       "model_id": "25716780576f4bb382a348b3bdc2912b",
       "version_major": 2,
       "version_minor": 0
      },
      "text/plain": [
       "Progreso dataset evaluacion (Batches):   0%|          | 0/10 [00:00<?, ?it/s]"
      ]
     },
     "metadata": {},
     "output_type": "display_data"
    },
    {
     "name": "stdout",
     "output_type": "stream",
     "text": [
      "              precision    recall  f1-score   support\n",
      "\n",
      "      normal       0.49      1.00      0.66        26\n",
      "tuberculosis       0.00      0.00      0.00        15\n",
      "    neumonia       0.85      0.77      0.81        22\n",
      "    covid-19       0.50      0.14      0.22        14\n",
      "\n",
      "    accuracy                           0.58        77\n",
      "   macro avg       0.46      0.48      0.42        77\n",
      "weighted avg       0.50      0.58      0.49        77\n",
      "\n",
      "Valor Función pérdida: 1.122 Precisión: 58 %\n",
      "Tiempo de iteración: 0:00:01.767707\n",
      "Época 33\n",
      "-------------------------------\n",
      "## Entrenamiento ##\n"
     ]
    },
    {
     "data": {
      "application/vnd.jupyter.widget-view+json": {
       "model_id": "d16f0d79ebfa46f1bce209c602073280",
       "version_major": 2,
       "version_minor": 0
      },
      "text/plain": [
       "Progreso dataset entrenamiento(batches):   0%|          | 0/50 [00:00<?, ?it/s]"
      ]
     },
     "metadata": {},
     "output_type": "display_data"
    },
    {
     "name": "stdout",
     "output_type": "stream",
     "text": [
      "Valor Función pérdida: 1.126 Precisión: 57%  Tasa de aprendizaje: 0.001\n",
      "Tiempo de iteración: 0:00:26.244580\n",
      "## Validación ##\n"
     ]
    },
    {
     "data": {
      "application/vnd.jupyter.widget-view+json": {
       "model_id": "44f8603f436443f2a708cd2afaabf096",
       "version_major": 2,
       "version_minor": 0
      },
      "text/plain": [
       "Progreso dataset evaluacion (Batches):   0%|          | 0/10 [00:00<?, ?it/s]"
      ]
     },
     "metadata": {},
     "output_type": "display_data"
    },
    {
     "name": "stdout",
     "output_type": "stream",
     "text": [
      "              precision    recall  f1-score   support\n",
      "\n",
      "      normal       0.48      1.00      0.65        26\n",
      "tuberculosis       0.00      0.00      0.00        15\n",
      "    neumonia       0.94      0.73      0.82        22\n",
      "    covid-19       0.67      0.29      0.40        14\n",
      "\n",
      "    accuracy                           0.60        77\n",
      "   macro avg       0.52      0.50      0.47        77\n",
      "weighted avg       0.55      0.60      0.53        77\n",
      "\n",
      "Valor Función pérdida: 1.125 Precisión: 60 %\n",
      "Tiempo de iteración: 0:00:01.810458\n",
      "Época 34\n",
      "-------------------------------\n",
      "## Entrenamiento ##\n"
     ]
    },
    {
     "data": {
      "application/vnd.jupyter.widget-view+json": {
       "model_id": "ebbe52fcd4954734988a5d754cadf1eb",
       "version_major": 2,
       "version_minor": 0
      },
      "text/plain": [
       "Progreso dataset entrenamiento(batches):   0%|          | 0/50 [00:00<?, ?it/s]"
      ]
     },
     "metadata": {},
     "output_type": "display_data"
    },
    {
     "name": "stdout",
     "output_type": "stream",
     "text": [
      "Valor Función pérdida: 1.135 Precisión: 54%  Tasa de aprendizaje: 0.001\n",
      "Tiempo de iteración: 0:00:26.180374\n",
      "## Validación ##\n"
     ]
    },
    {
     "data": {
      "application/vnd.jupyter.widget-view+json": {
       "model_id": "dcef3a78a1de43ffb1881b3a975ad70a",
       "version_major": 2,
       "version_minor": 0
      },
      "text/plain": [
       "Progreso dataset evaluacion (Batches):   0%|          | 0/10 [00:00<?, ?it/s]"
      ]
     },
     "metadata": {},
     "output_type": "display_data"
    },
    {
     "name": "stdout",
     "output_type": "stream",
     "text": [
      "              precision    recall  f1-score   support\n",
      "\n",
      "      normal       0.47      1.00      0.64        26\n",
      "tuberculosis       0.00      0.00      0.00        15\n",
      "    neumonia       0.83      0.68      0.75        22\n",
      "    covid-19       0.50      0.14      0.22        14\n",
      "\n",
      "    accuracy                           0.56        77\n",
      "   macro avg       0.45      0.46      0.40        77\n",
      "weighted avg       0.49      0.56      0.47        77\n",
      "\n",
      "Valor Función pérdida: 1.130 Precisión: 56 %\n",
      "Tiempo de iteración: 0:00:01.731415\n",
      "Época 35\n",
      "-------------------------------\n",
      "## Entrenamiento ##\n"
     ]
    },
    {
     "data": {
      "application/vnd.jupyter.widget-view+json": {
       "model_id": "41d3ba8d82fb4bd98de657de8e4d010b",
       "version_major": 2,
       "version_minor": 0
      },
      "text/plain": [
       "Progreso dataset entrenamiento(batches):   0%|          | 0/50 [00:00<?, ?it/s]"
      ]
     },
     "metadata": {},
     "output_type": "display_data"
    },
    {
     "name": "stdout",
     "output_type": "stream",
     "text": [
      "Valor Función pérdida: 1.112 Precisión: 60%  Tasa de aprendizaje: 0.001\n",
      "Tiempo de iteración: 0:00:26.186775\n",
      "## Validación ##\n"
     ]
    },
    {
     "data": {
      "application/vnd.jupyter.widget-view+json": {
       "model_id": "f24d4bf874264132a00f99682ec5d67b",
       "version_major": 2,
       "version_minor": 0
      },
      "text/plain": [
       "Progreso dataset evaluacion (Batches):   0%|          | 0/10 [00:00<?, ?it/s]"
      ]
     },
     "metadata": {},
     "output_type": "display_data"
    },
    {
     "name": "stdout",
     "output_type": "stream",
     "text": [
      "              precision    recall  f1-score   support\n",
      "\n",
      "      normal       0.52      1.00      0.68        26\n",
      "tuberculosis       1.00      0.07      0.12        15\n",
      "    neumonia       0.90      0.86      0.88        22\n",
      "    covid-19       0.60      0.21      0.32        14\n",
      "\n",
      "    accuracy                           0.64        77\n",
      "   macro avg       0.76      0.54      0.50        77\n",
      "weighted avg       0.74      0.64      0.57        77\n",
      "\n",
      "Valor Función pérdida: 1.110 Precisión: 64 %\n",
      "Tiempo de iteración: 0:00:01.771438\n",
      "Época 36\n",
      "-------------------------------\n",
      "## Entrenamiento ##\n"
     ]
    },
    {
     "data": {
      "application/vnd.jupyter.widget-view+json": {
       "model_id": "730b09cce554404a9cd0bfbe462ae48b",
       "version_major": 2,
       "version_minor": 0
      },
      "text/plain": [
       "Progreso dataset entrenamiento(batches):   0%|          | 0/50 [00:00<?, ?it/s]"
      ]
     },
     "metadata": {},
     "output_type": "display_data"
    },
    {
     "name": "stdout",
     "output_type": "stream",
     "text": [
      "Valor Función pérdida: 1.116 Precisión: 58%  Tasa de aprendizaje: 0.001\n",
      "Tiempo de iteración: 0:00:26.230753\n",
      "## Validación ##\n"
     ]
    },
    {
     "data": {
      "application/vnd.jupyter.widget-view+json": {
       "model_id": "ce1c37edd9914049ba8606480f50ba1b",
       "version_major": 2,
       "version_minor": 0
      },
      "text/plain": [
       "Progreso dataset evaluacion (Batches):   0%|          | 0/10 [00:00<?, ?it/s]"
      ]
     },
     "metadata": {},
     "output_type": "display_data"
    },
    {
     "name": "stdout",
     "output_type": "stream",
     "text": [
      "              precision    recall  f1-score   support\n",
      "\n",
      "      normal       0.49      1.00      0.66        26\n",
      "tuberculosis       0.00      0.00      0.00        15\n",
      "    neumonia       0.89      0.77      0.83        22\n",
      "    covid-19       0.60      0.21      0.32        14\n",
      "\n",
      "    accuracy                           0.60        77\n",
      "   macro avg       0.50      0.50      0.45        77\n",
      "weighted avg       0.53      0.60      0.52        77\n",
      "\n",
      "Valor Función pérdida: 1.124 Precisión: 60 %\n",
      "Tiempo de iteración: 0:00:01.923739\n",
      "Época 37\n",
      "-------------------------------\n",
      "## Entrenamiento ##\n"
     ]
    },
    {
     "data": {
      "application/vnd.jupyter.widget-view+json": {
       "model_id": "09a623e0a2cc41b19b8a190aa1590d0b",
       "version_major": 2,
       "version_minor": 0
      },
      "text/plain": [
       "Progreso dataset entrenamiento(batches):   0%|          | 0/50 [00:00<?, ?it/s]"
      ]
     },
     "metadata": {},
     "output_type": "display_data"
    },
    {
     "name": "stdout",
     "output_type": "stream",
     "text": [
      "Valor Función pérdida: 1.105 Precisión: 58%  Tasa de aprendizaje: 0.001\n",
      "Tiempo de iteración: 0:00:26.252776\n",
      "## Validación ##\n"
     ]
    },
    {
     "data": {
      "application/vnd.jupyter.widget-view+json": {
       "model_id": "0923d8116e5b4badb949c0c35c728873",
       "version_major": 2,
       "version_minor": 0
      },
      "text/plain": [
       "Progreso dataset evaluacion (Batches):   0%|          | 0/10 [00:00<?, ?it/s]"
      ]
     },
     "metadata": {},
     "output_type": "display_data"
    },
    {
     "name": "stdout",
     "output_type": "stream",
     "text": [
      "              precision    recall  f1-score   support\n",
      "\n",
      "      normal       0.52      1.00      0.68        26\n",
      "tuberculosis       0.00      0.00      0.00        15\n",
      "    neumonia       0.83      0.86      0.84        22\n",
      "    covid-19       0.50      0.14      0.22        14\n",
      "\n",
      "    accuracy                           0.61        77\n",
      "   macro avg       0.46      0.50      0.44        77\n",
      "weighted avg       0.50      0.61      0.51        77\n",
      "\n",
      "Valor Función pérdida: 1.107 Precisión: 61 %\n",
      "Tiempo de iteración: 0:00:01.959400\n",
      "Época 38\n",
      "-------------------------------\n",
      "## Entrenamiento ##\n"
     ]
    },
    {
     "data": {
      "application/vnd.jupyter.widget-view+json": {
       "model_id": "8c7860506f2d4b3aafc5e18046c32724",
       "version_major": 2,
       "version_minor": 0
      },
      "text/plain": [
       "Progreso dataset entrenamiento(batches):   0%|          | 0/50 [00:00<?, ?it/s]"
      ]
     },
     "metadata": {},
     "output_type": "display_data"
    },
    {
     "name": "stdout",
     "output_type": "stream",
     "text": [
      "Valor Función pérdida: 1.104 Precisión: 60%  Tasa de aprendizaje: 0.001\n",
      "Tiempo de iteración: 0:00:26.372250\n",
      "## Validación ##\n"
     ]
    },
    {
     "data": {
      "application/vnd.jupyter.widget-view+json": {
       "model_id": "c2cdbc55dfd24da5a355afd91c1001bc",
       "version_major": 2,
       "version_minor": 0
      },
      "text/plain": [
       "Progreso dataset evaluacion (Batches):   0%|          | 0/10 [00:00<?, ?it/s]"
      ]
     },
     "metadata": {},
     "output_type": "display_data"
    },
    {
     "name": "stdout",
     "output_type": "stream",
     "text": [
      "              precision    recall  f1-score   support\n",
      "\n",
      "      normal       0.50      1.00      0.67        26\n",
      "tuberculosis       1.00      0.07      0.12        15\n",
      "    neumonia       0.85      0.77      0.81        22\n",
      "    covid-19       0.75      0.21      0.33        14\n",
      "\n",
      "    accuracy                           0.61        77\n",
      "   macro avg       0.78      0.51      0.48        77\n",
      "weighted avg       0.74      0.61      0.54        77\n",
      "\n",
      "Valor Función pérdida: 1.090 Precisión: 61 %\n",
      "Tiempo de iteración: 0:00:01.969753\n",
      "Época 39\n",
      "-------------------------------\n",
      "## Entrenamiento ##\n"
     ]
    },
    {
     "data": {
      "application/vnd.jupyter.widget-view+json": {
       "model_id": "0318c0d1019d4fc98b75562485b75c81",
       "version_major": 2,
       "version_minor": 0
      },
      "text/plain": [
       "Progreso dataset entrenamiento(batches):   0%|          | 0/50 [00:00<?, ?it/s]"
      ]
     },
     "metadata": {},
     "output_type": "display_data"
    },
    {
     "name": "stdout",
     "output_type": "stream",
     "text": [
      "Valor Función pérdida: 1.093 Precisión: 60%  Tasa de aprendizaje: 0.001\n",
      "Tiempo de iteración: 0:00:26.393546\n",
      "## Validación ##\n"
     ]
    },
    {
     "data": {
      "application/vnd.jupyter.widget-view+json": {
       "model_id": "b493e43333414591adf63cd986789978",
       "version_major": 2,
       "version_minor": 0
      },
      "text/plain": [
       "Progreso dataset evaluacion (Batches):   0%|          | 0/10 [00:00<?, ?it/s]"
      ]
     },
     "metadata": {},
     "output_type": "display_data"
    },
    {
     "name": "stdout",
     "output_type": "stream",
     "text": [
      "              precision    recall  f1-score   support\n",
      "\n",
      "      normal       0.48      1.00      0.65        26\n",
      "tuberculosis       0.00      0.00      0.00        15\n",
      "    neumonia       0.88      0.68      0.77        22\n",
      "    covid-19       0.50      0.21      0.30        14\n",
      "\n",
      "    accuracy                           0.57        77\n",
      "   macro avg       0.47      0.47      0.43        77\n",
      "weighted avg       0.51      0.57      0.49        77\n",
      "\n",
      "Valor Función pérdida: 1.116 Precisión: 57 %\n",
      "Tiempo de iteración: 0:00:01.791465\n",
      "Época 40\n",
      "-------------------------------\n",
      "## Entrenamiento ##\n"
     ]
    },
    {
     "data": {
      "application/vnd.jupyter.widget-view+json": {
       "model_id": "1582b4dc65a84245becaf53b390b479f",
       "version_major": 2,
       "version_minor": 0
      },
      "text/plain": [
       "Progreso dataset entrenamiento(batches):   0%|          | 0/50 [00:00<?, ?it/s]"
      ]
     },
     "metadata": {},
     "output_type": "display_data"
    },
    {
     "name": "stdout",
     "output_type": "stream",
     "text": [
      "Valor Función pérdida: 1.074 Precisión: 61%  Tasa de aprendizaje: 0.001\n",
      "Tiempo de iteración: 0:00:26.221317\n",
      "## Validación ##\n"
     ]
    },
    {
     "data": {
      "application/vnd.jupyter.widget-view+json": {
       "model_id": "5afd98f097df4f3d9d45960cd1202e8d",
       "version_major": 2,
       "version_minor": 0
      },
      "text/plain": [
       "Progreso dataset evaluacion (Batches):   0%|          | 0/10 [00:00<?, ?it/s]"
      ]
     },
     "metadata": {},
     "output_type": "display_data"
    },
    {
     "name": "stdout",
     "output_type": "stream",
     "text": [
      "              precision    recall  f1-score   support\n",
      "\n",
      "      normal       0.50      1.00      0.67        26\n",
      "tuberculosis       1.00      0.07      0.12        15\n",
      "    neumonia       0.94      0.77      0.85        22\n",
      "    covid-19       0.67      0.29      0.40        14\n",
      "\n",
      "    accuracy                           0.62        77\n",
      "   macro avg       0.78      0.53      0.51        77\n",
      "weighted avg       0.75      0.62      0.57        77\n",
      "\n",
      "Valor Función pérdida: 1.074 Precisión: 62 %\n",
      "Tiempo de iteración: 0:00:01.771499\n",
      "Época 41\n",
      "-------------------------------\n",
      "## Entrenamiento ##\n"
     ]
    },
    {
     "data": {
      "application/vnd.jupyter.widget-view+json": {
       "model_id": "b77011a90c094ba3be57b3387cd2344a",
       "version_major": 2,
       "version_minor": 0
      },
      "text/plain": [
       "Progreso dataset entrenamiento(batches):   0%|          | 0/50 [00:00<?, ?it/s]"
      ]
     },
     "metadata": {},
     "output_type": "display_data"
    },
    {
     "name": "stdout",
     "output_type": "stream",
     "text": [
      "Valor Función pérdida: 1.081 Precisión: 60%  Tasa de aprendizaje: 0.001\n",
      "Tiempo de iteración: 0:00:26.165953\n",
      "## Validación ##\n"
     ]
    },
    {
     "data": {
      "application/vnd.jupyter.widget-view+json": {
       "model_id": "a04dd72a775a4e1b9eaa33f976ca85a2",
       "version_major": 2,
       "version_minor": 0
      },
      "text/plain": [
       "Progreso dataset evaluacion (Batches):   0%|          | 0/10 [00:00<?, ?it/s]"
      ]
     },
     "metadata": {},
     "output_type": "display_data"
    },
    {
     "name": "stdout",
     "output_type": "stream",
     "text": [
      "              precision    recall  f1-score   support\n",
      "\n",
      "      normal       0.50      1.00      0.67        26\n",
      "tuberculosis       1.00      0.07      0.12        15\n",
      "    neumonia       0.94      0.77      0.85        22\n",
      "    covid-19       0.67      0.29      0.40        14\n",
      "\n",
      "    accuracy                           0.62        77\n",
      "   macro avg       0.78      0.53      0.51        77\n",
      "weighted avg       0.75      0.62      0.57        77\n",
      "\n",
      "Valor Función pérdida: 1.104 Precisión: 62 %\n",
      "Tiempo de iteración: 0:00:01.776760\n",
      "Época 42\n",
      "-------------------------------\n",
      "## Entrenamiento ##\n"
     ]
    },
    {
     "data": {
      "application/vnd.jupyter.widget-view+json": {
       "model_id": "5f3e923da6de4bccadab4b66601d3e7d",
       "version_major": 2,
       "version_minor": 0
      },
      "text/plain": [
       "Progreso dataset entrenamiento(batches):   0%|          | 0/50 [00:00<?, ?it/s]"
      ]
     },
     "metadata": {},
     "output_type": "display_data"
    },
    {
     "name": "stdout",
     "output_type": "stream",
     "text": [
      "Valor Función pérdida: 1.076 Precisión: 62%  Tasa de aprendizaje: 0.001\n",
      "Tiempo de iteración: 0:00:26.287000\n",
      "## Validación ##\n"
     ]
    },
    {
     "data": {
      "application/vnd.jupyter.widget-view+json": {
       "model_id": "b57c47e2275444e1be6e6d5057bf8b2c",
       "version_major": 2,
       "version_minor": 0
      },
      "text/plain": [
       "Progreso dataset evaluacion (Batches):   0%|          | 0/10 [00:00<?, ?it/s]"
      ]
     },
     "metadata": {},
     "output_type": "display_data"
    },
    {
     "name": "stdout",
     "output_type": "stream",
     "text": [
      "              precision    recall  f1-score   support\n",
      "\n",
      "      normal       0.49      1.00      0.66        26\n",
      "tuberculosis       1.00      0.07      0.12        15\n",
      "    neumonia       0.89      0.77      0.83        22\n",
      "    covid-19       0.50      0.14      0.22        14\n",
      "\n",
      "    accuracy                           0.60        77\n",
      "   macro avg       0.72      0.50      0.46        77\n",
      "weighted avg       0.71      0.60      0.52        77\n",
      "\n",
      "Valor Función pérdida: 1.093 Precisión: 60 %\n",
      "Tiempo de iteración: 0:00:02.081721\n",
      "Época 43\n",
      "-------------------------------\n",
      "## Entrenamiento ##\n"
     ]
    },
    {
     "data": {
      "application/vnd.jupyter.widget-view+json": {
       "model_id": "20316a15974045918d43951b5f44fece",
       "version_major": 2,
       "version_minor": 0
      },
      "text/plain": [
       "Progreso dataset entrenamiento(batches):   0%|          | 0/50 [00:00<?, ?it/s]"
      ]
     },
     "metadata": {},
     "output_type": "display_data"
    },
    {
     "name": "stdout",
     "output_type": "stream",
     "text": [
      "Valor Función pérdida: 1.079 Precisión: 61%  Tasa de aprendizaje: 0.001\n",
      "Tiempo de iteración: 0:00:26.296464\n",
      "## Validación ##\n"
     ]
    },
    {
     "data": {
      "application/vnd.jupyter.widget-view+json": {
       "model_id": "bf02637224504299bfd078d84022592b",
       "version_major": 2,
       "version_minor": 0
      },
      "text/plain": [
       "Progreso dataset evaluacion (Batches):   0%|          | 0/10 [00:00<?, ?it/s]"
      ]
     },
     "metadata": {},
     "output_type": "display_data"
    },
    {
     "name": "stdout",
     "output_type": "stream",
     "text": [
      "              precision    recall  f1-score   support\n",
      "\n",
      "      normal       0.57      1.00      0.72        26\n",
      "tuberculosis       1.00      0.07      0.12        15\n",
      "    neumonia       0.95      0.91      0.93        22\n",
      "    covid-19       0.67      0.43      0.52        14\n",
      "\n",
      "    accuracy                           0.69        77\n",
      "   macro avg       0.80      0.60      0.57        77\n",
      "weighted avg       0.78      0.69      0.63        77\n",
      "\n",
      "Valor Función pérdida: 1.058 Precisión: 69 %\n",
      "Tiempo de iteración: 0:00:01.814882\n",
      "Época 44\n",
      "-------------------------------\n",
      "## Entrenamiento ##\n"
     ]
    },
    {
     "data": {
      "application/vnd.jupyter.widget-view+json": {
       "model_id": "da854b8a61f6485eb58fc1ddd7eb7596",
       "version_major": 2,
       "version_minor": 0
      },
      "text/plain": [
       "Progreso dataset entrenamiento(batches):   0%|          | 0/50 [00:00<?, ?it/s]"
      ]
     },
     "metadata": {},
     "output_type": "display_data"
    },
    {
     "name": "stdout",
     "output_type": "stream",
     "text": [
      "Valor Función pérdida: 1.080 Precisión: 60%  Tasa de aprendizaje: 0.001\n",
      "Tiempo de iteración: 0:00:26.208291\n",
      "## Validación ##\n"
     ]
    },
    {
     "data": {
      "application/vnd.jupyter.widget-view+json": {
       "model_id": "1190cf12cf574ab9896ada5388264738",
       "version_major": 2,
       "version_minor": 0
      },
      "text/plain": [
       "Progreso dataset evaluacion (Batches):   0%|          | 0/10 [00:00<?, ?it/s]"
      ]
     },
     "metadata": {},
     "output_type": "display_data"
    },
    {
     "name": "stdout",
     "output_type": "stream",
     "text": [
      "              precision    recall  f1-score   support\n",
      "\n",
      "      normal       0.53      1.00      0.69        26\n",
      "tuberculosis       1.00      0.07      0.12        15\n",
      "    neumonia       0.90      0.86      0.88        22\n",
      "    covid-19       0.67      0.29      0.40        14\n",
      "\n",
      "    accuracy                           0.65        77\n",
      "   macro avg       0.78      0.55      0.53        77\n",
      "weighted avg       0.75      0.65      0.58        77\n",
      "\n",
      "Valor Función pérdida: 1.084 Precisión: 65 %\n",
      "Tiempo de iteración: 0:00:01.807123\n",
      "Época 45\n",
      "-------------------------------\n",
      "## Entrenamiento ##\n"
     ]
    },
    {
     "data": {
      "application/vnd.jupyter.widget-view+json": {
       "model_id": "e78cf82007af4a9eaced97d1c6cb7678",
       "version_major": 2,
       "version_minor": 0
      },
      "text/plain": [
       "Progreso dataset entrenamiento(batches):   0%|          | 0/50 [00:00<?, ?it/s]"
      ]
     },
     "metadata": {},
     "output_type": "display_data"
    },
    {
     "name": "stdout",
     "output_type": "stream",
     "text": [
      "Valor Función pérdida: 1.083 Precisión: 61%  Tasa de aprendizaje: 0.001\n",
      "Tiempo de iteración: 0:00:26.325465\n",
      "## Validación ##\n"
     ]
    },
    {
     "data": {
      "application/vnd.jupyter.widget-view+json": {
       "model_id": "4ebc71c443ab4f7d9362207f9d1af28b",
       "version_major": 2,
       "version_minor": 0
      },
      "text/plain": [
       "Progreso dataset evaluacion (Batches):   0%|          | 0/10 [00:00<?, ?it/s]"
      ]
     },
     "metadata": {},
     "output_type": "display_data"
    },
    {
     "name": "stdout",
     "output_type": "stream",
     "text": [
      "              precision    recall  f1-score   support\n",
      "\n",
      "      normal       0.51      1.00      0.68        26\n",
      "tuberculosis       0.00      0.00      0.00        15\n",
      "    neumonia       0.95      0.82      0.88        22\n",
      "    covid-19       0.57      0.29      0.38        14\n",
      "\n",
      "    accuracy                           0.62        77\n",
      "   macro avg       0.51      0.53      0.48        77\n",
      "weighted avg       0.55      0.62      0.55        77\n",
      "\n",
      "Valor Función pérdida: 1.085 Precisión: 62 %\n",
      "Tiempo de iteración: 0:00:01.792205\n",
      "Época 46\n",
      "-------------------------------\n",
      "## Entrenamiento ##\n"
     ]
    },
    {
     "data": {
      "application/vnd.jupyter.widget-view+json": {
       "model_id": "98eaee5e92e34950ac2917daa881aedb",
       "version_major": 2,
       "version_minor": 0
      },
      "text/plain": [
       "Progreso dataset entrenamiento(batches):   0%|          | 0/50 [00:00<?, ?it/s]"
      ]
     },
     "metadata": {},
     "output_type": "display_data"
    },
    {
     "name": "stdout",
     "output_type": "stream",
     "text": [
      "Valor Función pérdida: 1.077 Precisión: 63%  Tasa de aprendizaje: 0.001\n",
      "Tiempo de iteración: 0:00:26.199973\n",
      "## Validación ##\n"
     ]
    },
    {
     "data": {
      "application/vnd.jupyter.widget-view+json": {
       "model_id": "d5398bb23800473ca233799a48e3aecf",
       "version_major": 2,
       "version_minor": 0
      },
      "text/plain": [
       "Progreso dataset evaluacion (Batches):   0%|          | 0/10 [00:00<?, ?it/s]"
      ]
     },
     "metadata": {},
     "output_type": "display_data"
    },
    {
     "name": "stdout",
     "output_type": "stream",
     "text": [
      "              precision    recall  f1-score   support\n",
      "\n",
      "      normal       0.53      1.00      0.69        26\n",
      "tuberculosis       0.00      0.00      0.00        15\n",
      "    neumonia       0.94      0.77      0.85        22\n",
      "    covid-19       0.60      0.43      0.50        14\n",
      "\n",
      "    accuracy                           0.64        77\n",
      "   macro avg       0.52      0.55      0.51        77\n",
      "weighted avg       0.56      0.64      0.57        77\n",
      "\n",
      "Valor Función pérdida: 1.067 Precisión: 64 %\n",
      "Tiempo de iteración: 0:00:01.780775\n",
      "Época 47\n",
      "-------------------------------\n",
      "## Entrenamiento ##\n"
     ]
    },
    {
     "data": {
      "application/vnd.jupyter.widget-view+json": {
       "model_id": "75c4a9fe11f04069b69dfeb96caabff0",
       "version_major": 2,
       "version_minor": 0
      },
      "text/plain": [
       "Progreso dataset entrenamiento(batches):   0%|          | 0/50 [00:00<?, ?it/s]"
      ]
     },
     "metadata": {},
     "output_type": "display_data"
    },
    {
     "name": "stdout",
     "output_type": "stream",
     "text": [
      "Valor Función pérdida: 1.060 Precisión: 62%  Tasa de aprendizaje: 0.001\n",
      "Tiempo de iteración: 0:00:26.233931\n",
      "## Validación ##\n"
     ]
    },
    {
     "data": {
      "application/vnd.jupyter.widget-view+json": {
       "model_id": "84de422df02c44deb15ac90e4d0eb9c8",
       "version_major": 2,
       "version_minor": 0
      },
      "text/plain": [
       "Progreso dataset evaluacion (Batches):   0%|          | 0/10 [00:00<?, ?it/s]"
      ]
     },
     "metadata": {},
     "output_type": "display_data"
    },
    {
     "name": "stdout",
     "output_type": "stream",
     "text": [
      "              precision    recall  f1-score   support\n",
      "\n",
      "      normal       0.51      1.00      0.68        26\n",
      "tuberculosis       0.00      0.00      0.00        15\n",
      "    neumonia       0.82      0.82      0.82        22\n",
      "    covid-19       0.75      0.21      0.33        14\n",
      "\n",
      "    accuracy                           0.61        77\n",
      "   macro avg       0.52      0.51      0.46        77\n",
      "weighted avg       0.54      0.61      0.52        77\n",
      "\n",
      "Valor Función pérdida: 1.054 Precisión: 61 %\n",
      "Tiempo de iteración: 0:00:01.816131\n",
      "Época 48\n",
      "-------------------------------\n",
      "## Entrenamiento ##\n"
     ]
    },
    {
     "data": {
      "application/vnd.jupyter.widget-view+json": {
       "model_id": "9150d3f9fc00498e88a57e0f005cbff2",
       "version_major": 2,
       "version_minor": 0
      },
      "text/plain": [
       "Progreso dataset entrenamiento(batches):   0%|          | 0/50 [00:00<?, ?it/s]"
      ]
     },
     "metadata": {},
     "output_type": "display_data"
    },
    {
     "name": "stdout",
     "output_type": "stream",
     "text": [
      "Valor Función pérdida: 1.074 Precisión: 63%  Tasa de aprendizaje: 0.001\n",
      "Tiempo de iteración: 0:00:26.281391\n",
      "## Validación ##\n"
     ]
    },
    {
     "data": {
      "application/vnd.jupyter.widget-view+json": {
       "model_id": "9ccad90fa9b047279f83d150a5929532",
       "version_major": 2,
       "version_minor": 0
      },
      "text/plain": [
       "Progreso dataset evaluacion (Batches):   0%|          | 0/10 [00:00<?, ?it/s]"
      ]
     },
     "metadata": {},
     "output_type": "display_data"
    },
    {
     "name": "stdout",
     "output_type": "stream",
     "text": [
      "              precision    recall  f1-score   support\n",
      "\n",
      "      normal       0.55      1.00      0.71        26\n",
      "tuberculosis       1.00      0.07      0.12        15\n",
      "    neumonia       0.95      0.86      0.90        22\n",
      "    covid-19       0.67      0.43      0.52        14\n",
      "\n",
      "    accuracy                           0.68        77\n",
      "   macro avg       0.79      0.59      0.57        77\n",
      "weighted avg       0.77      0.68      0.62        77\n",
      "\n",
      "Valor Función pérdida: 1.059 Precisión: 68 %\n",
      "Tiempo de iteración: 0:00:01.895555\n",
      "Época 49\n",
      "-------------------------------\n",
      "## Entrenamiento ##\n"
     ]
    },
    {
     "data": {
      "application/vnd.jupyter.widget-view+json": {
       "model_id": "4e48fc8daace4335b7c5120093da699a",
       "version_major": 2,
       "version_minor": 0
      },
      "text/plain": [
       "Progreso dataset entrenamiento(batches):   0%|          | 0/50 [00:00<?, ?it/s]"
      ]
     },
     "metadata": {},
     "output_type": "display_data"
    },
    {
     "ename": "KeyboardInterrupt",
     "evalue": "",
     "output_type": "error",
     "traceback": [
      "\u001b[0;31m---------------------------------------------------------------------------\u001b[0m",
      "\u001b[0;31mKeyboardInterrupt\u001b[0m                         Traceback (most recent call last)",
      "\u001b[0;32m<ipython-input-17-ec38e84baf46>\u001b[0m in \u001b[0;36m<module>\u001b[0;34m\u001b[0m\n\u001b[1;32m     35\u001b[0m \u001b[0;32mfor\u001b[0m \u001b[0mepoch\u001b[0m \u001b[0;32min\u001b[0m \u001b[0mrange\u001b[0m\u001b[0;34m(\u001b[0m\u001b[0mepoch_inicio\u001b[0m\u001b[0;34m,\u001b[0m \u001b[0mepochs\u001b[0m\u001b[0;34m)\u001b[0m\u001b[0;34m:\u001b[0m\u001b[0;34m\u001b[0m\u001b[0;34m\u001b[0m\u001b[0m\n\u001b[1;32m     36\u001b[0m     \u001b[0mprint\u001b[0m\u001b[0;34m(\u001b[0m\u001b[0;34mf\"Época {epoch+1}\\n-------------------------------\"\u001b[0m\u001b[0;34m)\u001b[0m\u001b[0;34m\u001b[0m\u001b[0;34m\u001b[0m\u001b[0m\n\u001b[0;32m---> 37\u001b[0;31m     \u001b[0ment_val_DIALUNG\u001b[0m\u001b[0;34m.\u001b[0m\u001b[0mentrenar\u001b[0m\u001b[0;34m(\u001b[0m\u001b[0mtrain_dataloader\u001b[0m\u001b[0;34m)\u001b[0m\u001b[0;34m\u001b[0m\u001b[0;34m\u001b[0m\u001b[0m\n\u001b[0m\u001b[1;32m     38\u001b[0m     \u001b[0ment_val_DIALUNG\u001b[0m\u001b[0;34m.\u001b[0m\u001b[0mvalidar\u001b[0m\u001b[0;34m(\u001b[0m\u001b[0mtest_dataloader\u001b[0m\u001b[0;34m)\u001b[0m\u001b[0;34m\u001b[0m\u001b[0;34m\u001b[0m\u001b[0m\n\u001b[1;32m     39\u001b[0m     ent_val_DIALUNG.guardar_modelo(ruta_modelo=ruta_guardar_modelos, #Guardar modelo y Métricas\n",
      "\u001b[0;32m/media/josejacomeb/Datos1/DatasetsMédicos/ProyectoDIALUNG/dialung/entrenarvalidar.py\u001b[0m in \u001b[0;36mentrenar\u001b[0;34m(self, dataloader)\u001b[0m\n\u001b[1;32m     58\u001b[0m             \u001b[0;31m# Backpropagation\u001b[0m\u001b[0;34m\u001b[0m\u001b[0;34m\u001b[0m\u001b[0;34m\u001b[0m\u001b[0m\n\u001b[1;32m     59\u001b[0m             \u001b[0mself\u001b[0m\u001b[0;34m.\u001b[0m\u001b[0moptimizador\u001b[0m\u001b[0;34m.\u001b[0m\u001b[0mzero_grad\u001b[0m\u001b[0;34m(\u001b[0m\u001b[0;34m)\u001b[0m\u001b[0;34m\u001b[0m\u001b[0;34m\u001b[0m\u001b[0m\n\u001b[0;32m---> 60\u001b[0;31m             \u001b[0mloss\u001b[0m\u001b[0;34m.\u001b[0m\u001b[0mbackward\u001b[0m\u001b[0;34m(\u001b[0m\u001b[0;34m)\u001b[0m\u001b[0;34m\u001b[0m\u001b[0;34m\u001b[0m\u001b[0m\n\u001b[0m\u001b[1;32m     61\u001b[0m             \u001b[0;31m#nn.utils.clip_grad_value_(self.modelo.parameters(), clip_value=1.0) #Clipping gradients\u001b[0m\u001b[0;34m\u001b[0m\u001b[0;34m\u001b[0m\u001b[0;34m\u001b[0m\u001b[0m\n\u001b[1;32m     62\u001b[0m             \u001b[0mself\u001b[0m\u001b[0;34m.\u001b[0m\u001b[0moptimizador\u001b[0m\u001b[0;34m.\u001b[0m\u001b[0mstep\u001b[0m\u001b[0;34m(\u001b[0m\u001b[0;34m)\u001b[0m\u001b[0;34m\u001b[0m\u001b[0;34m\u001b[0m\u001b[0m\n",
      "\u001b[0;32m~/anaconda3/envs/UNIDEB_TMSR/lib/python3.8/site-packages/torch/tensor.py\u001b[0m in \u001b[0;36mbackward\u001b[0;34m(self, gradient, retain_graph, create_graph, inputs)\u001b[0m\n\u001b[1;32m    243\u001b[0m                 \u001b[0mcreate_graph\u001b[0m\u001b[0;34m=\u001b[0m\u001b[0mcreate_graph\u001b[0m\u001b[0;34m,\u001b[0m\u001b[0;34m\u001b[0m\u001b[0;34m\u001b[0m\u001b[0m\n\u001b[1;32m    244\u001b[0m                 inputs=inputs)\n\u001b[0;32m--> 245\u001b[0;31m         \u001b[0mtorch\u001b[0m\u001b[0;34m.\u001b[0m\u001b[0mautograd\u001b[0m\u001b[0;34m.\u001b[0m\u001b[0mbackward\u001b[0m\u001b[0;34m(\u001b[0m\u001b[0mself\u001b[0m\u001b[0;34m,\u001b[0m \u001b[0mgradient\u001b[0m\u001b[0;34m,\u001b[0m \u001b[0mretain_graph\u001b[0m\u001b[0;34m,\u001b[0m \u001b[0mcreate_graph\u001b[0m\u001b[0;34m,\u001b[0m \u001b[0minputs\u001b[0m\u001b[0;34m=\u001b[0m\u001b[0minputs\u001b[0m\u001b[0;34m)\u001b[0m\u001b[0;34m\u001b[0m\u001b[0;34m\u001b[0m\u001b[0m\n\u001b[0m\u001b[1;32m    246\u001b[0m \u001b[0;34m\u001b[0m\u001b[0m\n\u001b[1;32m    247\u001b[0m     \u001b[0;32mdef\u001b[0m \u001b[0mregister_hook\u001b[0m\u001b[0;34m(\u001b[0m\u001b[0mself\u001b[0m\u001b[0;34m,\u001b[0m \u001b[0mhook\u001b[0m\u001b[0;34m)\u001b[0m\u001b[0;34m:\u001b[0m\u001b[0;34m\u001b[0m\u001b[0;34m\u001b[0m\u001b[0m\n",
      "\u001b[0;32m~/anaconda3/envs/UNIDEB_TMSR/lib/python3.8/site-packages/torch/autograd/__init__.py\u001b[0m in \u001b[0;36mbackward\u001b[0;34m(tensors, grad_tensors, retain_graph, create_graph, grad_variables, inputs)\u001b[0m\n\u001b[1;32m    143\u001b[0m         \u001b[0mretain_graph\u001b[0m \u001b[0;34m=\u001b[0m \u001b[0mcreate_graph\u001b[0m\u001b[0;34m\u001b[0m\u001b[0;34m\u001b[0m\u001b[0m\n\u001b[1;32m    144\u001b[0m \u001b[0;34m\u001b[0m\u001b[0m\n\u001b[0;32m--> 145\u001b[0;31m     Variable._execution_engine.run_backward(\n\u001b[0m\u001b[1;32m    146\u001b[0m         \u001b[0mtensors\u001b[0m\u001b[0;34m,\u001b[0m \u001b[0mgrad_tensors_\u001b[0m\u001b[0;34m,\u001b[0m \u001b[0mretain_graph\u001b[0m\u001b[0;34m,\u001b[0m \u001b[0mcreate_graph\u001b[0m\u001b[0;34m,\u001b[0m \u001b[0minputs\u001b[0m\u001b[0;34m,\u001b[0m\u001b[0;34m\u001b[0m\u001b[0;34m\u001b[0m\u001b[0m\n\u001b[1;32m    147\u001b[0m         allow_unreachable=True, accumulate_grad=True)  # allow_unreachable flag\n",
      "\u001b[0;31mKeyboardInterrupt\u001b[0m: "
     ]
    }
   ],
   "source": [
    "from dialung.entrenarvalidar import EntrenamientoValidacionDIALUNG\n",
    "\n",
    "ruta_ultimo_archivo_pesos = os.path.join(ruta_guardar_modelos, \"ultimo.pt\") #mejor.pt si algo falló en el proceso\n",
    "epoch_inicio = 0\n",
    "resumir_entrenamiento = False\n",
    "step_inicio = 0\n",
    "historico = None\n",
    "\n",
    "if os.path.exists(ruta_ultimo_archivo_pesos):\n",
    "    resumir_entrenamiento = True\n",
    "    checkpoint = torch.load(ruta_ultimo_archivo_pesos)\n",
    "    modelo.load_state_dict(checkpoint[\"model_state_dict\"])#cargar los pesos del modelo\n",
    "    optimizador.load_state_dict(checkpoint[\"optimizer_state_dict\"]) #carga el modelo del optimizador\n",
    "    #Checar por una nuevo lr seleccionado por el usuario\n",
    "    if learning_rate != optimizador.param_groups[0][\"lr\"]:\n",
    "        optimizador.param_groups[0][\"lr\"] = learning_rate\n",
    "    if momentum != optimizador.param_groups[0][\"momentum\"]:\n",
    "        optimizador.param_groups[0][\"momentum\"] = momentum\n",
    "    \n",
    "    epoch_inicio = checkpoint[\"epoch\"]\n",
    "    step_inicio = checkpoint[\"steps\"]\n",
    "    historico = checkpoint[\"historico\"]\n",
    "    print(\"Resumiendo el entrenamiento desde la época: {}\".format(epoch_inicio))\n",
    "else:\n",
    "    print(\"No hay un checkpoint guardado, iniciando el entrenamiento desde la época 0\")\n",
    "\n",
    "ent_val_DIALUNG = EntrenamientoValidacionDIALUNG(modelo = modelo, funcion_perdida = funcion_perdida,\n",
    "                                                 dispositivo = dispositivo, optimizador = optimizador, \n",
    "                                                 scheduler = scheduler, ruta_writer=ruta_guardar_logs)\n",
    "if resumir_entrenamiento:\n",
    "    ent_val_DIALUNG.entrenamiento_global_step = step_inicio\n",
    "    ent_val_DIALUNG.H = historico \n",
    "    ent_val_DIALUNG.mejor_precision = max(historico[\"val_acc\"]) #Cargo la mejor perdida del modelo\n",
    "\n",
    "for epoch in range(epoch_inicio, epochs):\n",
    "    print(f\"Época {epoch+1}\\n-------------------------------\")\n",
    "    ent_val_DIALUNG.entrenar(train_dataloader)\n",
    "    ent_val_DIALUNG.validar(test_dataloader)\n",
    "    ent_val_DIALUNG.guardar_modelo(ruta_modelo=ruta_guardar_modelos, #Guardar modelo y Métricas\n",
    "                                   ruta_metricas=ruta_guardar_metricas, epoch=epoch)\n",
    "print(\"Entrenamiento finalizado!\")"
   ]
  },
  {
   "cell_type": "code",
   "execution_count": null,
   "id": "6e54c537-32fe-40b1-88bc-1d885e60f083",
   "metadata": {},
   "outputs": [],
   "source": [
    "torch.cuda.empty_cache()"
   ]
  },
  {
   "cell_type": "code",
   "execution_count": null,
   "id": "de41b729-b498-49a7-8902-dd89bfe443c8",
   "metadata": {},
   "outputs": [],
   "source": []
  }
 ],
 "metadata": {
  "kernelspec": {
   "display_name": "Python 3",
   "language": "python",
   "name": "python3"
  },
  "language_info": {
   "codemirror_mode": {
    "name": "ipython",
    "version": 3
   },
   "file_extension": ".py",
   "mimetype": "text/x-python",
   "name": "python",
   "nbconvert_exporter": "python",
   "pygments_lexer": "ipython3",
   "version": "3.8.8"
  }
 },
 "nbformat": 4,
 "nbformat_minor": 5
}
