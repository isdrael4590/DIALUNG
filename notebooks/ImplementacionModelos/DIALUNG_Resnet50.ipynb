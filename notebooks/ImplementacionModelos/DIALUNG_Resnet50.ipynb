{
  "nbformat": 4,
  "nbformat_minor": 5,
  "metadata": {
    "accelerator": "GPU",
    "colab": {
      "name": "DIALUNG_DenseNet121.ipynb",
      "provenance": [],
      "include_colab_link": true
    },
    "kernelspec": {
      "display_name": "Python 3",
      "language": "python",
      "name": "python3"
    },
    "language_info": {
      "codemirror_mode": {
        "name": "ipython",
        "version": 3
      },
      "file_extension": ".py",
      "mimetype": "text/x-python",
      "name": "python",
      "nbconvert_exporter": "python",
      "pygments_lexer": "ipython3",
      "version": "3.8.8"
    },
    "widgets": {
      "application/vnd.jupyter.widget-state+json": {
        "494e3f36ca8241ef8526aefd7d83a8ac": {
          "model_module": "@jupyter-widgets/controls",
          "model_name": "HBoxModel",
          "model_module_version": "1.5.0",
          "state": {
            "_view_name": "HBoxView",
            "_dom_classes": [],
            "_model_name": "HBoxModel",
            "_view_module": "@jupyter-widgets/controls",
            "_model_module_version": "1.5.0",
            "_view_count": null,
            "_view_module_version": "1.5.0",
            "box_style": "",
            "layout": "IPY_MODEL_875e919b7eeb438a9205afbb4fcd972a",
            "_model_module": "@jupyter-widgets/controls",
            "children": [
              "IPY_MODEL_daf38ab9e19d4e8ba55a91b43714af63",
              "IPY_MODEL_26fb421c032c41a8a832f14a6103408b",
              "IPY_MODEL_427e15212d2d4befa0ffd0449993e15f"
            ]
          }
        },
        "875e919b7eeb438a9205afbb4fcd972a": {
          "model_module": "@jupyter-widgets/base",
          "model_name": "LayoutModel",
          "model_module_version": "1.2.0",
          "state": {
            "_view_name": "LayoutView",
            "grid_template_rows": null,
            "right": null,
            "justify_content": null,
            "_view_module": "@jupyter-widgets/base",
            "overflow": null,
            "_model_module_version": "1.2.0",
            "_view_count": null,
            "flex_flow": null,
            "width": null,
            "min_width": null,
            "border": null,
            "align_items": null,
            "bottom": null,
            "_model_module": "@jupyter-widgets/base",
            "top": null,
            "grid_column": null,
            "overflow_y": null,
            "overflow_x": null,
            "grid_auto_flow": null,
            "grid_area": null,
            "grid_template_columns": null,
            "flex": null,
            "_model_name": "LayoutModel",
            "justify_items": null,
            "grid_row": null,
            "max_height": null,
            "align_content": null,
            "visibility": null,
            "align_self": null,
            "height": null,
            "min_height": null,
            "padding": null,
            "grid_auto_rows": null,
            "grid_gap": null,
            "max_width": null,
            "order": null,
            "_view_module_version": "1.2.0",
            "grid_template_areas": null,
            "object_position": null,
            "object_fit": null,
            "grid_auto_columns": null,
            "margin": null,
            "display": null,
            "left": null
          }
        },
        "daf38ab9e19d4e8ba55a91b43714af63": {
          "model_module": "@jupyter-widgets/controls",
          "model_name": "HTMLModel",
          "model_module_version": "1.5.0",
          "state": {
            "_view_name": "HTMLView",
            "style": "IPY_MODEL_466668349b5a4350b8443a6ea65dd01a",
            "_dom_classes": [],
            "description": "",
            "_model_name": "HTMLModel",
            "placeholder": "​",
            "_view_module": "@jupyter-widgets/controls",
            "_model_module_version": "1.5.0",
            "value": "Progreso dataset entrenamiento(batches): 100%",
            "_view_count": null,
            "_view_module_version": "1.5.0",
            "description_tooltip": null,
            "_model_module": "@jupyter-widgets/controls",
            "layout": "IPY_MODEL_0464ce12ba5b474d8b8f34d5ac64d206"
          }
        },
        "26fb421c032c41a8a832f14a6103408b": {
          "model_module": "@jupyter-widgets/controls",
          "model_name": "FloatProgressModel",
          "model_module_version": "1.5.0",
          "state": {
            "_view_name": "ProgressView",
            "style": "IPY_MODEL_f11075814749434ab395924faa8d5961",
            "_dom_classes": [],
            "description": "",
            "_model_name": "FloatProgressModel",
            "bar_style": "success",
            "max": 670,
            "_view_module": "@jupyter-widgets/controls",
            "_model_module_version": "1.5.0",
            "value": 670,
            "_view_count": null,
            "_view_module_version": "1.5.0",
            "orientation": "horizontal",
            "min": 0,
            "description_tooltip": null,
            "_model_module": "@jupyter-widgets/controls",
            "layout": "IPY_MODEL_06fd1d4f323940848d997fbfbc857763"
          }
        },
        "427e15212d2d4befa0ffd0449993e15f": {
          "model_module": "@jupyter-widgets/controls",
          "model_name": "HTMLModel",
          "model_module_version": "1.5.0",
          "state": {
            "_view_name": "HTMLView",
            "style": "IPY_MODEL_53608772e545435d873718c5f4dd7d26",
            "_dom_classes": [],
            "description": "",
            "_model_name": "HTMLModel",
            "placeholder": "​",
            "_view_module": "@jupyter-widgets/controls",
            "_model_module_version": "1.5.0",
            "value": " 670/670 [27:41&lt;00:00,  2.09s/it]",
            "_view_count": null,
            "_view_module_version": "1.5.0",
            "description_tooltip": null,
            "_model_module": "@jupyter-widgets/controls",
            "layout": "IPY_MODEL_b14647c6f41744f0afb2d65611d0c043"
          }
        },
        "466668349b5a4350b8443a6ea65dd01a": {
          "model_module": "@jupyter-widgets/controls",
          "model_name": "DescriptionStyleModel",
          "model_module_version": "1.5.0",
          "state": {
            "_view_name": "StyleView",
            "_model_name": "DescriptionStyleModel",
            "description_width": "",
            "_view_module": "@jupyter-widgets/base",
            "_model_module_version": "1.5.0",
            "_view_count": null,
            "_view_module_version": "1.2.0",
            "_model_module": "@jupyter-widgets/controls"
          }
        },
        "0464ce12ba5b474d8b8f34d5ac64d206": {
          "model_module": "@jupyter-widgets/base",
          "model_name": "LayoutModel",
          "model_module_version": "1.2.0",
          "state": {
            "_view_name": "LayoutView",
            "grid_template_rows": null,
            "right": null,
            "justify_content": null,
            "_view_module": "@jupyter-widgets/base",
            "overflow": null,
            "_model_module_version": "1.2.0",
            "_view_count": null,
            "flex_flow": null,
            "width": null,
            "min_width": null,
            "border": null,
            "align_items": null,
            "bottom": null,
            "_model_module": "@jupyter-widgets/base",
            "top": null,
            "grid_column": null,
            "overflow_y": null,
            "overflow_x": null,
            "grid_auto_flow": null,
            "grid_area": null,
            "grid_template_columns": null,
            "flex": null,
            "_model_name": "LayoutModel",
            "justify_items": null,
            "grid_row": null,
            "max_height": null,
            "align_content": null,
            "visibility": null,
            "align_self": null,
            "height": null,
            "min_height": null,
            "padding": null,
            "grid_auto_rows": null,
            "grid_gap": null,
            "max_width": null,
            "order": null,
            "_view_module_version": "1.2.0",
            "grid_template_areas": null,
            "object_position": null,
            "object_fit": null,
            "grid_auto_columns": null,
            "margin": null,
            "display": null,
            "left": null
          }
        },
        "f11075814749434ab395924faa8d5961": {
          "model_module": "@jupyter-widgets/controls",
          "model_name": "ProgressStyleModel",
          "model_module_version": "1.5.0",
          "state": {
            "_view_name": "StyleView",
            "_model_name": "ProgressStyleModel",
            "description_width": "",
            "_view_module": "@jupyter-widgets/base",
            "_model_module_version": "1.5.0",
            "_view_count": null,
            "_view_module_version": "1.2.0",
            "bar_color": null,
            "_model_module": "@jupyter-widgets/controls"
          }
        },
        "06fd1d4f323940848d997fbfbc857763": {
          "model_module": "@jupyter-widgets/base",
          "model_name": "LayoutModel",
          "model_module_version": "1.2.0",
          "state": {
            "_view_name": "LayoutView",
            "grid_template_rows": null,
            "right": null,
            "justify_content": null,
            "_view_module": "@jupyter-widgets/base",
            "overflow": null,
            "_model_module_version": "1.2.0",
            "_view_count": null,
            "flex_flow": null,
            "width": null,
            "min_width": null,
            "border": null,
            "align_items": null,
            "bottom": null,
            "_model_module": "@jupyter-widgets/base",
            "top": null,
            "grid_column": null,
            "overflow_y": null,
            "overflow_x": null,
            "grid_auto_flow": null,
            "grid_area": null,
            "grid_template_columns": null,
            "flex": null,
            "_model_name": "LayoutModel",
            "justify_items": null,
            "grid_row": null,
            "max_height": null,
            "align_content": null,
            "visibility": null,
            "align_self": null,
            "height": null,
            "min_height": null,
            "padding": null,
            "grid_auto_rows": null,
            "grid_gap": null,
            "max_width": null,
            "order": null,
            "_view_module_version": "1.2.0",
            "grid_template_areas": null,
            "object_position": null,
            "object_fit": null,
            "grid_auto_columns": null,
            "margin": null,
            "display": null,
            "left": null
          }
        },
        "53608772e545435d873718c5f4dd7d26": {
          "model_module": "@jupyter-widgets/controls",
          "model_name": "DescriptionStyleModel",
          "model_module_version": "1.5.0",
          "state": {
            "_view_name": "StyleView",
            "_model_name": "DescriptionStyleModel",
            "description_width": "",
            "_view_module": "@jupyter-widgets/base",
            "_model_module_version": "1.5.0",
            "_view_count": null,
            "_view_module_version": "1.2.0",
            "_model_module": "@jupyter-widgets/controls"
          }
        },
        "b14647c6f41744f0afb2d65611d0c043": {
          "model_module": "@jupyter-widgets/base",
          "model_name": "LayoutModel",
          "model_module_version": "1.2.0",
          "state": {
            "_view_name": "LayoutView",
            "grid_template_rows": null,
            "right": null,
            "justify_content": null,
            "_view_module": "@jupyter-widgets/base",
            "overflow": null,
            "_model_module_version": "1.2.0",
            "_view_count": null,
            "flex_flow": null,
            "width": null,
            "min_width": null,
            "border": null,
            "align_items": null,
            "bottom": null,
            "_model_module": "@jupyter-widgets/base",
            "top": null,
            "grid_column": null,
            "overflow_y": null,
            "overflow_x": null,
            "grid_auto_flow": null,
            "grid_area": null,
            "grid_template_columns": null,
            "flex": null,
            "_model_name": "LayoutModel",
            "justify_items": null,
            "grid_row": null,
            "max_height": null,
            "align_content": null,
            "visibility": null,
            "align_self": null,
            "height": null,
            "min_height": null,
            "padding": null,
            "grid_auto_rows": null,
            "grid_gap": null,
            "max_width": null,
            "order": null,
            "_view_module_version": "1.2.0",
            "grid_template_areas": null,
            "object_position": null,
            "object_fit": null,
            "grid_auto_columns": null,
            "margin": null,
            "display": null,
            "left": null
          }
        },
        "22445e3f59ec438c8fad038ab92a3ae5": {
          "model_module": "@jupyter-widgets/controls",
          "model_name": "HBoxModel",
          "model_module_version": "1.5.0",
          "state": {
            "_view_name": "HBoxView",
            "_dom_classes": [],
            "_model_name": "HBoxModel",
            "_view_module": "@jupyter-widgets/controls",
            "_model_module_version": "1.5.0",
            "_view_count": null,
            "_view_module_version": "1.5.0",
            "box_style": "",
            "layout": "IPY_MODEL_267779c9e89046f6a44282fef507a860",
            "_model_module": "@jupyter-widgets/controls",
            "children": [
              "IPY_MODEL_5e2c080623f545f48c947ce574b6b412",
              "IPY_MODEL_5a35b838838241b3b12756b076838425",
              "IPY_MODEL_45a6989203de41f4998ae46468b582c0"
            ]
          }
        },
        "267779c9e89046f6a44282fef507a860": {
          "model_module": "@jupyter-widgets/base",
          "model_name": "LayoutModel",
          "model_module_version": "1.2.0",
          "state": {
            "_view_name": "LayoutView",
            "grid_template_rows": null,
            "right": null,
            "justify_content": null,
            "_view_module": "@jupyter-widgets/base",
            "overflow": null,
            "_model_module_version": "1.2.0",
            "_view_count": null,
            "flex_flow": null,
            "width": null,
            "min_width": null,
            "border": null,
            "align_items": null,
            "bottom": null,
            "_model_module": "@jupyter-widgets/base",
            "top": null,
            "grid_column": null,
            "overflow_y": null,
            "overflow_x": null,
            "grid_auto_flow": null,
            "grid_area": null,
            "grid_template_columns": null,
            "flex": null,
            "_model_name": "LayoutModel",
            "justify_items": null,
            "grid_row": null,
            "max_height": null,
            "align_content": null,
            "visibility": null,
            "align_self": null,
            "height": null,
            "min_height": null,
            "padding": null,
            "grid_auto_rows": null,
            "grid_gap": null,
            "max_width": null,
            "order": null,
            "_view_module_version": "1.2.0",
            "grid_template_areas": null,
            "object_position": null,
            "object_fit": null,
            "grid_auto_columns": null,
            "margin": null,
            "display": null,
            "left": null
          }
        },
        "5e2c080623f545f48c947ce574b6b412": {
          "model_module": "@jupyter-widgets/controls",
          "model_name": "HTMLModel",
          "model_module_version": "1.5.0",
          "state": {
            "_view_name": "HTMLView",
            "style": "IPY_MODEL_04791cbc4c594ce6a95d85bd30326da2",
            "_dom_classes": [],
            "description": "",
            "_model_name": "HTMLModel",
            "placeholder": "​",
            "_view_module": "@jupyter-widgets/controls",
            "_model_module_version": "1.5.0",
            "value": "Progreso dataset evaluacion (Batches): 100%",
            "_view_count": null,
            "_view_module_version": "1.5.0",
            "description_tooltip": null,
            "_model_module": "@jupyter-widgets/controls",
            "layout": "IPY_MODEL_13bd04a2a5c74ef18675094a256c966c"
          }
        },
        "5a35b838838241b3b12756b076838425": {
          "model_module": "@jupyter-widgets/controls",
          "model_name": "FloatProgressModel",
          "model_module_version": "1.5.0",
          "state": {
            "_view_name": "ProgressView",
            "style": "IPY_MODEL_ae8733ff4a604b48b1703e3f18fc4cec",
            "_dom_classes": [],
            "description": "",
            "_model_name": "FloatProgressModel",
            "bar_style": "success",
            "max": 126,
            "_view_module": "@jupyter-widgets/controls",
            "_model_module_version": "1.5.0",
            "value": 126,
            "_view_count": null,
            "_view_module_version": "1.5.0",
            "orientation": "horizontal",
            "min": 0,
            "description_tooltip": null,
            "_model_module": "@jupyter-widgets/controls",
            "layout": "IPY_MODEL_feee45fccddf479b8c7a3a0bb15cb49a"
          }
        },
        "45a6989203de41f4998ae46468b582c0": {
          "model_module": "@jupyter-widgets/controls",
          "model_name": "HTMLModel",
          "model_module_version": "1.5.0",
          "state": {
            "_view_name": "HTMLView",
            "style": "IPY_MODEL_237aa24dffe948ce95abb81023ed8eb5",
            "_dom_classes": [],
            "description": "",
            "_model_name": "HTMLModel",
            "placeholder": "​",
            "_view_module": "@jupyter-widgets/controls",
            "_model_module_version": "1.5.0",
            "value": " 126/126 [01:46&lt;00:00,  1.56it/s]",
            "_view_count": null,
            "_view_module_version": "1.5.0",
            "description_tooltip": null,
            "_model_module": "@jupyter-widgets/controls",
            "layout": "IPY_MODEL_398152d24f704615abcfe3bf08883347"
          }
        },
        "04791cbc4c594ce6a95d85bd30326da2": {
          "model_module": "@jupyter-widgets/controls",
          "model_name": "DescriptionStyleModel",
          "model_module_version": "1.5.0",
          "state": {
            "_view_name": "StyleView",
            "_model_name": "DescriptionStyleModel",
            "description_width": "",
            "_view_module": "@jupyter-widgets/base",
            "_model_module_version": "1.5.0",
            "_view_count": null,
            "_view_module_version": "1.2.0",
            "_model_module": "@jupyter-widgets/controls"
          }
        },
        "13bd04a2a5c74ef18675094a256c966c": {
          "model_module": "@jupyter-widgets/base",
          "model_name": "LayoutModel",
          "model_module_version": "1.2.0",
          "state": {
            "_view_name": "LayoutView",
            "grid_template_rows": null,
            "right": null,
            "justify_content": null,
            "_view_module": "@jupyter-widgets/base",
            "overflow": null,
            "_model_module_version": "1.2.0",
            "_view_count": null,
            "flex_flow": null,
            "width": null,
            "min_width": null,
            "border": null,
            "align_items": null,
            "bottom": null,
            "_model_module": "@jupyter-widgets/base",
            "top": null,
            "grid_column": null,
            "overflow_y": null,
            "overflow_x": null,
            "grid_auto_flow": null,
            "grid_area": null,
            "grid_template_columns": null,
            "flex": null,
            "_model_name": "LayoutModel",
            "justify_items": null,
            "grid_row": null,
            "max_height": null,
            "align_content": null,
            "visibility": null,
            "align_self": null,
            "height": null,
            "min_height": null,
            "padding": null,
            "grid_auto_rows": null,
            "grid_gap": null,
            "max_width": null,
            "order": null,
            "_view_module_version": "1.2.0",
            "grid_template_areas": null,
            "object_position": null,
            "object_fit": null,
            "grid_auto_columns": null,
            "margin": null,
            "display": null,
            "left": null
          }
        },
        "ae8733ff4a604b48b1703e3f18fc4cec": {
          "model_module": "@jupyter-widgets/controls",
          "model_name": "ProgressStyleModel",
          "model_module_version": "1.5.0",
          "state": {
            "_view_name": "StyleView",
            "_model_name": "ProgressStyleModel",
            "description_width": "",
            "_view_module": "@jupyter-widgets/base",
            "_model_module_version": "1.5.0",
            "_view_count": null,
            "_view_module_version": "1.2.0",
            "bar_color": null,
            "_model_module": "@jupyter-widgets/controls"
          }
        },
        "feee45fccddf479b8c7a3a0bb15cb49a": {
          "model_module": "@jupyter-widgets/base",
          "model_name": "LayoutModel",
          "model_module_version": "1.2.0",
          "state": {
            "_view_name": "LayoutView",
            "grid_template_rows": null,
            "right": null,
            "justify_content": null,
            "_view_module": "@jupyter-widgets/base",
            "overflow": null,
            "_model_module_version": "1.2.0",
            "_view_count": null,
            "flex_flow": null,
            "width": null,
            "min_width": null,
            "border": null,
            "align_items": null,
            "bottom": null,
            "_model_module": "@jupyter-widgets/base",
            "top": null,
            "grid_column": null,
            "overflow_y": null,
            "overflow_x": null,
            "grid_auto_flow": null,
            "grid_area": null,
            "grid_template_columns": null,
            "flex": null,
            "_model_name": "LayoutModel",
            "justify_items": null,
            "grid_row": null,
            "max_height": null,
            "align_content": null,
            "visibility": null,
            "align_self": null,
            "height": null,
            "min_height": null,
            "padding": null,
            "grid_auto_rows": null,
            "grid_gap": null,
            "max_width": null,
            "order": null,
            "_view_module_version": "1.2.0",
            "grid_template_areas": null,
            "object_position": null,
            "object_fit": null,
            "grid_auto_columns": null,
            "margin": null,
            "display": null,
            "left": null
          }
        },
        "237aa24dffe948ce95abb81023ed8eb5": {
          "model_module": "@jupyter-widgets/controls",
          "model_name": "DescriptionStyleModel",
          "model_module_version": "1.5.0",
          "state": {
            "_view_name": "StyleView",
            "_model_name": "DescriptionStyleModel",
            "description_width": "",
            "_view_module": "@jupyter-widgets/base",
            "_model_module_version": "1.5.0",
            "_view_count": null,
            "_view_module_version": "1.2.0",
            "_model_module": "@jupyter-widgets/controls"
          }
        },
        "398152d24f704615abcfe3bf08883347": {
          "model_module": "@jupyter-widgets/base",
          "model_name": "LayoutModel",
          "model_module_version": "1.2.0",
          "state": {
            "_view_name": "LayoutView",
            "grid_template_rows": null,
            "right": null,
            "justify_content": null,
            "_view_module": "@jupyter-widgets/base",
            "overflow": null,
            "_model_module_version": "1.2.0",
            "_view_count": null,
            "flex_flow": null,
            "width": null,
            "min_width": null,
            "border": null,
            "align_items": null,
            "bottom": null,
            "_model_module": "@jupyter-widgets/base",
            "top": null,
            "grid_column": null,
            "overflow_y": null,
            "overflow_x": null,
            "grid_auto_flow": null,
            "grid_area": null,
            "grid_template_columns": null,
            "flex": null,
            "_model_name": "LayoutModel",
            "justify_items": null,
            "grid_row": null,
            "max_height": null,
            "align_content": null,
            "visibility": null,
            "align_self": null,
            "height": null,
            "min_height": null,
            "padding": null,
            "grid_auto_rows": null,
            "grid_gap": null,
            "max_width": null,
            "order": null,
            "_view_module_version": "1.2.0",
            "grid_template_areas": null,
            "object_position": null,
            "object_fit": null,
            "grid_auto_columns": null,
            "margin": null,
            "display": null,
            "left": null
          }
        },
        "eb854d5e4f8a4112aff264ca9fb4742c": {
          "model_module": "@jupyter-widgets/controls",
          "model_name": "HBoxModel",
          "model_module_version": "1.5.0",
          "state": {
            "_view_name": "HBoxView",
            "_dom_classes": [],
            "_model_name": "HBoxModel",
            "_view_module": "@jupyter-widgets/controls",
            "_model_module_version": "1.5.0",
            "_view_count": null,
            "_view_module_version": "1.5.0",
            "box_style": "",
            "layout": "IPY_MODEL_43e6c63b4e754d6d80793ab824607cbd",
            "_model_module": "@jupyter-widgets/controls",
            "children": [
              "IPY_MODEL_b288cafa18ad41089952e874116dd6b1",
              "IPY_MODEL_680a8c5f7d74473688b0ab99fa5ed246",
              "IPY_MODEL_17cfe6adc3c74da285a2bdf0db7b51f3"
            ]
          }
        },
        "43e6c63b4e754d6d80793ab824607cbd": {
          "model_module": "@jupyter-widgets/base",
          "model_name": "LayoutModel",
          "model_module_version": "1.2.0",
          "state": {
            "_view_name": "LayoutView",
            "grid_template_rows": null,
            "right": null,
            "justify_content": null,
            "_view_module": "@jupyter-widgets/base",
            "overflow": null,
            "_model_module_version": "1.2.0",
            "_view_count": null,
            "flex_flow": null,
            "width": null,
            "min_width": null,
            "border": null,
            "align_items": null,
            "bottom": null,
            "_model_module": "@jupyter-widgets/base",
            "top": null,
            "grid_column": null,
            "overflow_y": null,
            "overflow_x": null,
            "grid_auto_flow": null,
            "grid_area": null,
            "grid_template_columns": null,
            "flex": null,
            "_model_name": "LayoutModel",
            "justify_items": null,
            "grid_row": null,
            "max_height": null,
            "align_content": null,
            "visibility": null,
            "align_self": null,
            "height": null,
            "min_height": null,
            "padding": null,
            "grid_auto_rows": null,
            "grid_gap": null,
            "max_width": null,
            "order": null,
            "_view_module_version": "1.2.0",
            "grid_template_areas": null,
            "object_position": null,
            "object_fit": null,
            "grid_auto_columns": null,
            "margin": null,
            "display": null,
            "left": null
          }
        },
        "b288cafa18ad41089952e874116dd6b1": {
          "model_module": "@jupyter-widgets/controls",
          "model_name": "HTMLModel",
          "model_module_version": "1.5.0",
          "state": {
            "_view_name": "HTMLView",
            "style": "IPY_MODEL_26817a0cc5d14753b18dad87db1f2672",
            "_dom_classes": [],
            "description": "",
            "_model_name": "HTMLModel",
            "placeholder": "​",
            "_view_module": "@jupyter-widgets/controls",
            "_model_module_version": "1.5.0",
            "value": "Progreso dataset entrenamiento(batches): 100%",
            "_view_count": null,
            "_view_module_version": "1.5.0",
            "description_tooltip": null,
            "_model_module": "@jupyter-widgets/controls",
            "layout": "IPY_MODEL_549d10275a4f46988c3227ed6c0b397b"
          }
        },
        "680a8c5f7d74473688b0ab99fa5ed246": {
          "model_module": "@jupyter-widgets/controls",
          "model_name": "FloatProgressModel",
          "model_module_version": "1.5.0",
          "state": {
            "_view_name": "ProgressView",
            "style": "IPY_MODEL_be3e2e4202c341b2968136e3f69c34f2",
            "_dom_classes": [],
            "description": "",
            "_model_name": "FloatProgressModel",
            "bar_style": "success",
            "max": 670,
            "_view_module": "@jupyter-widgets/controls",
            "_model_module_version": "1.5.0",
            "value": 670,
            "_view_count": null,
            "_view_module_version": "1.5.0",
            "orientation": "horizontal",
            "min": 0,
            "description_tooltip": null,
            "_model_module": "@jupyter-widgets/controls",
            "layout": "IPY_MODEL_9d74c7af0cf74186a2fe4549b9d83446"
          }
        },
        "17cfe6adc3c74da285a2bdf0db7b51f3": {
          "model_module": "@jupyter-widgets/controls",
          "model_name": "HTMLModel",
          "model_module_version": "1.5.0",
          "state": {
            "_view_name": "HTMLView",
            "style": "IPY_MODEL_ef487376320545f9adeea9f2d7ab29e7",
            "_dom_classes": [],
            "description": "",
            "_model_name": "HTMLModel",
            "placeholder": "​",
            "_view_module": "@jupyter-widgets/controls",
            "_model_module_version": "1.5.0",
            "value": " 670/670 [28:24&lt;00:00,  2.09s/it]",
            "_view_count": null,
            "_view_module_version": "1.5.0",
            "description_tooltip": null,
            "_model_module": "@jupyter-widgets/controls",
            "layout": "IPY_MODEL_3af9c66e769b4c409ab58ed6ab6368e4"
          }
        },
        "26817a0cc5d14753b18dad87db1f2672": {
          "model_module": "@jupyter-widgets/controls",
          "model_name": "DescriptionStyleModel",
          "model_module_version": "1.5.0",
          "state": {
            "_view_name": "StyleView",
            "_model_name": "DescriptionStyleModel",
            "description_width": "",
            "_view_module": "@jupyter-widgets/base",
            "_model_module_version": "1.5.0",
            "_view_count": null,
            "_view_module_version": "1.2.0",
            "_model_module": "@jupyter-widgets/controls"
          }
        },
        "549d10275a4f46988c3227ed6c0b397b": {
          "model_module": "@jupyter-widgets/base",
          "model_name": "LayoutModel",
          "model_module_version": "1.2.0",
          "state": {
            "_view_name": "LayoutView",
            "grid_template_rows": null,
            "right": null,
            "justify_content": null,
            "_view_module": "@jupyter-widgets/base",
            "overflow": null,
            "_model_module_version": "1.2.0",
            "_view_count": null,
            "flex_flow": null,
            "width": null,
            "min_width": null,
            "border": null,
            "align_items": null,
            "bottom": null,
            "_model_module": "@jupyter-widgets/base",
            "top": null,
            "grid_column": null,
            "overflow_y": null,
            "overflow_x": null,
            "grid_auto_flow": null,
            "grid_area": null,
            "grid_template_columns": null,
            "flex": null,
            "_model_name": "LayoutModel",
            "justify_items": null,
            "grid_row": null,
            "max_height": null,
            "align_content": null,
            "visibility": null,
            "align_self": null,
            "height": null,
            "min_height": null,
            "padding": null,
            "grid_auto_rows": null,
            "grid_gap": null,
            "max_width": null,
            "order": null,
            "_view_module_version": "1.2.0",
            "grid_template_areas": null,
            "object_position": null,
            "object_fit": null,
            "grid_auto_columns": null,
            "margin": null,
            "display": null,
            "left": null
          }
        },
        "be3e2e4202c341b2968136e3f69c34f2": {
          "model_module": "@jupyter-widgets/controls",
          "model_name": "ProgressStyleModel",
          "model_module_version": "1.5.0",
          "state": {
            "_view_name": "StyleView",
            "_model_name": "ProgressStyleModel",
            "description_width": "",
            "_view_module": "@jupyter-widgets/base",
            "_model_module_version": "1.5.0",
            "_view_count": null,
            "_view_module_version": "1.2.0",
            "bar_color": null,
            "_model_module": "@jupyter-widgets/controls"
          }
        },
        "9d74c7af0cf74186a2fe4549b9d83446": {
          "model_module": "@jupyter-widgets/base",
          "model_name": "LayoutModel",
          "model_module_version": "1.2.0",
          "state": {
            "_view_name": "LayoutView",
            "grid_template_rows": null,
            "right": null,
            "justify_content": null,
            "_view_module": "@jupyter-widgets/base",
            "overflow": null,
            "_model_module_version": "1.2.0",
            "_view_count": null,
            "flex_flow": null,
            "width": null,
            "min_width": null,
            "border": null,
            "align_items": null,
            "bottom": null,
            "_model_module": "@jupyter-widgets/base",
            "top": null,
            "grid_column": null,
            "overflow_y": null,
            "overflow_x": null,
            "grid_auto_flow": null,
            "grid_area": null,
            "grid_template_columns": null,
            "flex": null,
            "_model_name": "LayoutModel",
            "justify_items": null,
            "grid_row": null,
            "max_height": null,
            "align_content": null,
            "visibility": null,
            "align_self": null,
            "height": null,
            "min_height": null,
            "padding": null,
            "grid_auto_rows": null,
            "grid_gap": null,
            "max_width": null,
            "order": null,
            "_view_module_version": "1.2.0",
            "grid_template_areas": null,
            "object_position": null,
            "object_fit": null,
            "grid_auto_columns": null,
            "margin": null,
            "display": null,
            "left": null
          }
        },
        "ef487376320545f9adeea9f2d7ab29e7": {
          "model_module": "@jupyter-widgets/controls",
          "model_name": "DescriptionStyleModel",
          "model_module_version": "1.5.0",
          "state": {
            "_view_name": "StyleView",
            "_model_name": "DescriptionStyleModel",
            "description_width": "",
            "_view_module": "@jupyter-widgets/base",
            "_model_module_version": "1.5.0",
            "_view_count": null,
            "_view_module_version": "1.2.0",
            "_model_module": "@jupyter-widgets/controls"
          }
        },
        "3af9c66e769b4c409ab58ed6ab6368e4": {
          "model_module": "@jupyter-widgets/base",
          "model_name": "LayoutModel",
          "model_module_version": "1.2.0",
          "state": {
            "_view_name": "LayoutView",
            "grid_template_rows": null,
            "right": null,
            "justify_content": null,
            "_view_module": "@jupyter-widgets/base",
            "overflow": null,
            "_model_module_version": "1.2.0",
            "_view_count": null,
            "flex_flow": null,
            "width": null,
            "min_width": null,
            "border": null,
            "align_items": null,
            "bottom": null,
            "_model_module": "@jupyter-widgets/base",
            "top": null,
            "grid_column": null,
            "overflow_y": null,
            "overflow_x": null,
            "grid_auto_flow": null,
            "grid_area": null,
            "grid_template_columns": null,
            "flex": null,
            "_model_name": "LayoutModel",
            "justify_items": null,
            "grid_row": null,
            "max_height": null,
            "align_content": null,
            "visibility": null,
            "align_self": null,
            "height": null,
            "min_height": null,
            "padding": null,
            "grid_auto_rows": null,
            "grid_gap": null,
            "max_width": null,
            "order": null,
            "_view_module_version": "1.2.0",
            "grid_template_areas": null,
            "object_position": null,
            "object_fit": null,
            "grid_auto_columns": null,
            "margin": null,
            "display": null,
            "left": null
          }
        },
        "8962341c664245728856112fd21a761a": {
          "model_module": "@jupyter-widgets/controls",
          "model_name": "HBoxModel",
          "model_module_version": "1.5.0",
          "state": {
            "_view_name": "HBoxView",
            "_dom_classes": [],
            "_model_name": "HBoxModel",
            "_view_module": "@jupyter-widgets/controls",
            "_model_module_version": "1.5.0",
            "_view_count": null,
            "_view_module_version": "1.5.0",
            "box_style": "",
            "layout": "IPY_MODEL_d6be774d13d342d09f0ecc352db876d2",
            "_model_module": "@jupyter-widgets/controls",
            "children": [
              "IPY_MODEL_7ecc28582e044f918358aee34b738f1d",
              "IPY_MODEL_c4f8f65208f642ef82afc62b05dbf7ae",
              "IPY_MODEL_50fd40fb1f94455fad29f41f1efd4c5c"
            ]
          }
        },
        "d6be774d13d342d09f0ecc352db876d2": {
          "model_module": "@jupyter-widgets/base",
          "model_name": "LayoutModel",
          "model_module_version": "1.2.0",
          "state": {
            "_view_name": "LayoutView",
            "grid_template_rows": null,
            "right": null,
            "justify_content": null,
            "_view_module": "@jupyter-widgets/base",
            "overflow": null,
            "_model_module_version": "1.2.0",
            "_view_count": null,
            "flex_flow": null,
            "width": null,
            "min_width": null,
            "border": null,
            "align_items": null,
            "bottom": null,
            "_model_module": "@jupyter-widgets/base",
            "top": null,
            "grid_column": null,
            "overflow_y": null,
            "overflow_x": null,
            "grid_auto_flow": null,
            "grid_area": null,
            "grid_template_columns": null,
            "flex": null,
            "_model_name": "LayoutModel",
            "justify_items": null,
            "grid_row": null,
            "max_height": null,
            "align_content": null,
            "visibility": null,
            "align_self": null,
            "height": null,
            "min_height": null,
            "padding": null,
            "grid_auto_rows": null,
            "grid_gap": null,
            "max_width": null,
            "order": null,
            "_view_module_version": "1.2.0",
            "grid_template_areas": null,
            "object_position": null,
            "object_fit": null,
            "grid_auto_columns": null,
            "margin": null,
            "display": null,
            "left": null
          }
        },
        "7ecc28582e044f918358aee34b738f1d": {
          "model_module": "@jupyter-widgets/controls",
          "model_name": "HTMLModel",
          "model_module_version": "1.5.0",
          "state": {
            "_view_name": "HTMLView",
            "style": "IPY_MODEL_a13010e814024aa0a4eddf84c4f95625",
            "_dom_classes": [],
            "description": "",
            "_model_name": "HTMLModel",
            "placeholder": "​",
            "_view_module": "@jupyter-widgets/controls",
            "_model_module_version": "1.5.0",
            "value": "Progreso dataset evaluacion (Batches): 100%",
            "_view_count": null,
            "_view_module_version": "1.5.0",
            "description_tooltip": null,
            "_model_module": "@jupyter-widgets/controls",
            "layout": "IPY_MODEL_c0dccf9d427a4a05a12c197af70a394b"
          }
        },
        "c4f8f65208f642ef82afc62b05dbf7ae": {
          "model_module": "@jupyter-widgets/controls",
          "model_name": "FloatProgressModel",
          "model_module_version": "1.5.0",
          "state": {
            "_view_name": "ProgressView",
            "style": "IPY_MODEL_8db997368d99480f9310d29711a03f7e",
            "_dom_classes": [],
            "description": "",
            "_model_name": "FloatProgressModel",
            "bar_style": "success",
            "max": 126,
            "_view_module": "@jupyter-widgets/controls",
            "_model_module_version": "1.5.0",
            "value": 126,
            "_view_count": null,
            "_view_module_version": "1.5.0",
            "orientation": "horizontal",
            "min": 0,
            "description_tooltip": null,
            "_model_module": "@jupyter-widgets/controls",
            "layout": "IPY_MODEL_baaffdd0721b45afa1d6ad86a4ab4d75"
          }
        },
        "50fd40fb1f94455fad29f41f1efd4c5c": {
          "model_module": "@jupyter-widgets/controls",
          "model_name": "HTMLModel",
          "model_module_version": "1.5.0",
          "state": {
            "_view_name": "HTMLView",
            "style": "IPY_MODEL_f4bcfd35f82744bcbb75898e39e1ea17",
            "_dom_classes": [],
            "description": "",
            "_model_name": "HTMLModel",
            "placeholder": "​",
            "_view_module": "@jupyter-widgets/controls",
            "_model_module_version": "1.5.0",
            "value": " 126/126 [01:34&lt;00:00,  1.48it/s]",
            "_view_count": null,
            "_view_module_version": "1.5.0",
            "description_tooltip": null,
            "_model_module": "@jupyter-widgets/controls",
            "layout": "IPY_MODEL_f64553d0b3214e138be5af5df5749548"
          }
        },
        "a13010e814024aa0a4eddf84c4f95625": {
          "model_module": "@jupyter-widgets/controls",
          "model_name": "DescriptionStyleModel",
          "model_module_version": "1.5.0",
          "state": {
            "_view_name": "StyleView",
            "_model_name": "DescriptionStyleModel",
            "description_width": "",
            "_view_module": "@jupyter-widgets/base",
            "_model_module_version": "1.5.0",
            "_view_count": null,
            "_view_module_version": "1.2.0",
            "_model_module": "@jupyter-widgets/controls"
          }
        },
        "c0dccf9d427a4a05a12c197af70a394b": {
          "model_module": "@jupyter-widgets/base",
          "model_name": "LayoutModel",
          "model_module_version": "1.2.0",
          "state": {
            "_view_name": "LayoutView",
            "grid_template_rows": null,
            "right": null,
            "justify_content": null,
            "_view_module": "@jupyter-widgets/base",
            "overflow": null,
            "_model_module_version": "1.2.0",
            "_view_count": null,
            "flex_flow": null,
            "width": null,
            "min_width": null,
            "border": null,
            "align_items": null,
            "bottom": null,
            "_model_module": "@jupyter-widgets/base",
            "top": null,
            "grid_column": null,
            "overflow_y": null,
            "overflow_x": null,
            "grid_auto_flow": null,
            "grid_area": null,
            "grid_template_columns": null,
            "flex": null,
            "_model_name": "LayoutModel",
            "justify_items": null,
            "grid_row": null,
            "max_height": null,
            "align_content": null,
            "visibility": null,
            "align_self": null,
            "height": null,
            "min_height": null,
            "padding": null,
            "grid_auto_rows": null,
            "grid_gap": null,
            "max_width": null,
            "order": null,
            "_view_module_version": "1.2.0",
            "grid_template_areas": null,
            "object_position": null,
            "object_fit": null,
            "grid_auto_columns": null,
            "margin": null,
            "display": null,
            "left": null
          }
        },
        "8db997368d99480f9310d29711a03f7e": {
          "model_module": "@jupyter-widgets/controls",
          "model_name": "ProgressStyleModel",
          "model_module_version": "1.5.0",
          "state": {
            "_view_name": "StyleView",
            "_model_name": "ProgressStyleModel",
            "description_width": "",
            "_view_module": "@jupyter-widgets/base",
            "_model_module_version": "1.5.0",
            "_view_count": null,
            "_view_module_version": "1.2.0",
            "bar_color": null,
            "_model_module": "@jupyter-widgets/controls"
          }
        },
        "baaffdd0721b45afa1d6ad86a4ab4d75": {
          "model_module": "@jupyter-widgets/base",
          "model_name": "LayoutModel",
          "model_module_version": "1.2.0",
          "state": {
            "_view_name": "LayoutView",
            "grid_template_rows": null,
            "right": null,
            "justify_content": null,
            "_view_module": "@jupyter-widgets/base",
            "overflow": null,
            "_model_module_version": "1.2.0",
            "_view_count": null,
            "flex_flow": null,
            "width": null,
            "min_width": null,
            "border": null,
            "align_items": null,
            "bottom": null,
            "_model_module": "@jupyter-widgets/base",
            "top": null,
            "grid_column": null,
            "overflow_y": null,
            "overflow_x": null,
            "grid_auto_flow": null,
            "grid_area": null,
            "grid_template_columns": null,
            "flex": null,
            "_model_name": "LayoutModel",
            "justify_items": null,
            "grid_row": null,
            "max_height": null,
            "align_content": null,
            "visibility": null,
            "align_self": null,
            "height": null,
            "min_height": null,
            "padding": null,
            "grid_auto_rows": null,
            "grid_gap": null,
            "max_width": null,
            "order": null,
            "_view_module_version": "1.2.0",
            "grid_template_areas": null,
            "object_position": null,
            "object_fit": null,
            "grid_auto_columns": null,
            "margin": null,
            "display": null,
            "left": null
          }
        },
        "f4bcfd35f82744bcbb75898e39e1ea17": {
          "model_module": "@jupyter-widgets/controls",
          "model_name": "DescriptionStyleModel",
          "model_module_version": "1.5.0",
          "state": {
            "_view_name": "StyleView",
            "_model_name": "DescriptionStyleModel",
            "description_width": "",
            "_view_module": "@jupyter-widgets/base",
            "_model_module_version": "1.5.0",
            "_view_count": null,
            "_view_module_version": "1.2.0",
            "_model_module": "@jupyter-widgets/controls"
          }
        },
        "f64553d0b3214e138be5af5df5749548": {
          "model_module": "@jupyter-widgets/base",
          "model_name": "LayoutModel",
          "model_module_version": "1.2.0",
          "state": {
            "_view_name": "LayoutView",
            "grid_template_rows": null,
            "right": null,
            "justify_content": null,
            "_view_module": "@jupyter-widgets/base",
            "overflow": null,
            "_model_module_version": "1.2.0",
            "_view_count": null,
            "flex_flow": null,
            "width": null,
            "min_width": null,
            "border": null,
            "align_items": null,
            "bottom": null,
            "_model_module": "@jupyter-widgets/base",
            "top": null,
            "grid_column": null,
            "overflow_y": null,
            "overflow_x": null,
            "grid_auto_flow": null,
            "grid_area": null,
            "grid_template_columns": null,
            "flex": null,
            "_model_name": "LayoutModel",
            "justify_items": null,
            "grid_row": null,
            "max_height": null,
            "align_content": null,
            "visibility": null,
            "align_self": null,
            "height": null,
            "min_height": null,
            "padding": null,
            "grid_auto_rows": null,
            "grid_gap": null,
            "max_width": null,
            "order": null,
            "_view_module_version": "1.2.0",
            "grid_template_areas": null,
            "object_position": null,
            "object_fit": null,
            "grid_auto_columns": null,
            "margin": null,
            "display": null,
            "left": null
          }
        },
        "2f3345f9343d44669c77ce794ed5c5de": {
          "model_module": "@jupyter-widgets/controls",
          "model_name": "HBoxModel",
          "model_module_version": "1.5.0",
          "state": {
            "_view_name": "HBoxView",
            "_dom_classes": [],
            "_model_name": "HBoxModel",
            "_view_module": "@jupyter-widgets/controls",
            "_model_module_version": "1.5.0",
            "_view_count": null,
            "_view_module_version": "1.5.0",
            "box_style": "",
            "layout": "IPY_MODEL_e28f31aed77b4d6981f112a06734a386",
            "_model_module": "@jupyter-widgets/controls",
            "children": [
              "IPY_MODEL_30069563f7844d1297e87876f46a7f20",
              "IPY_MODEL_19bb4a5660944e0fabf42c96766cc6df",
              "IPY_MODEL_d110589a8b9a4c0bb86197da000140b8"
            ]
          }
        },
        "e28f31aed77b4d6981f112a06734a386": {
          "model_module": "@jupyter-widgets/base",
          "model_name": "LayoutModel",
          "model_module_version": "1.2.0",
          "state": {
            "_view_name": "LayoutView",
            "grid_template_rows": null,
            "right": null,
            "justify_content": null,
            "_view_module": "@jupyter-widgets/base",
            "overflow": null,
            "_model_module_version": "1.2.0",
            "_view_count": null,
            "flex_flow": null,
            "width": null,
            "min_width": null,
            "border": null,
            "align_items": null,
            "bottom": null,
            "_model_module": "@jupyter-widgets/base",
            "top": null,
            "grid_column": null,
            "overflow_y": null,
            "overflow_x": null,
            "grid_auto_flow": null,
            "grid_area": null,
            "grid_template_columns": null,
            "flex": null,
            "_model_name": "LayoutModel",
            "justify_items": null,
            "grid_row": null,
            "max_height": null,
            "align_content": null,
            "visibility": null,
            "align_self": null,
            "height": null,
            "min_height": null,
            "padding": null,
            "grid_auto_rows": null,
            "grid_gap": null,
            "max_width": null,
            "order": null,
            "_view_module_version": "1.2.0",
            "grid_template_areas": null,
            "object_position": null,
            "object_fit": null,
            "grid_auto_columns": null,
            "margin": null,
            "display": null,
            "left": null
          }
        },
        "30069563f7844d1297e87876f46a7f20": {
          "model_module": "@jupyter-widgets/controls",
          "model_name": "HTMLModel",
          "model_module_version": "1.5.0",
          "state": {
            "_view_name": "HTMLView",
            "style": "IPY_MODEL_9153d959e55141aea2ddc36b25f5449d",
            "_dom_classes": [],
            "description": "",
            "_model_name": "HTMLModel",
            "placeholder": "​",
            "_view_module": "@jupyter-widgets/controls",
            "_model_module_version": "1.5.0",
            "value": "Progreso dataset entrenamiento(batches):  92%",
            "_view_count": null,
            "_view_module_version": "1.5.0",
            "description_tooltip": null,
            "_model_module": "@jupyter-widgets/controls",
            "layout": "IPY_MODEL_6c7231686d4d4c9c9d13d9ceedcc8648"
          }
        },
        "19bb4a5660944e0fabf42c96766cc6df": {
          "model_module": "@jupyter-widgets/controls",
          "model_name": "FloatProgressModel",
          "model_module_version": "1.5.0",
          "state": {
            "_view_name": "ProgressView",
            "style": "IPY_MODEL_6a6acda6894a4a4bb01f6751f93175b8",
            "_dom_classes": [],
            "description": "",
            "_model_name": "FloatProgressModel",
            "bar_style": "",
            "max": 670,
            "_view_module": "@jupyter-widgets/controls",
            "_model_module_version": "1.5.0",
            "value": 620,
            "_view_count": null,
            "_view_module_version": "1.5.0",
            "orientation": "horizontal",
            "min": 0,
            "description_tooltip": null,
            "_model_module": "@jupyter-widgets/controls",
            "layout": "IPY_MODEL_e86b5fe854604ed0bbb8c8e97ab63829"
          }
        },
        "d110589a8b9a4c0bb86197da000140b8": {
          "model_module": "@jupyter-widgets/controls",
          "model_name": "HTMLModel",
          "model_module_version": "1.5.0",
          "state": {
            "_view_name": "HTMLView",
            "style": "IPY_MODEL_954b70554a2948ab975ce1b188b5aa66",
            "_dom_classes": [],
            "description": "",
            "_model_name": "HTMLModel",
            "placeholder": "​",
            "_view_module": "@jupyter-widgets/controls",
            "_model_module_version": "1.5.0",
            "value": " 619/670 [26:20&lt;01:47,  2.11s/it]",
            "_view_count": null,
            "_view_module_version": "1.5.0",
            "description_tooltip": null,
            "_model_module": "@jupyter-widgets/controls",
            "layout": "IPY_MODEL_1658cf4535ba43a798ee1b7951b1911b"
          }
        },
        "9153d959e55141aea2ddc36b25f5449d": {
          "model_module": "@jupyter-widgets/controls",
          "model_name": "DescriptionStyleModel",
          "model_module_version": "1.5.0",
          "state": {
            "_view_name": "StyleView",
            "_model_name": "DescriptionStyleModel",
            "description_width": "",
            "_view_module": "@jupyter-widgets/base",
            "_model_module_version": "1.5.0",
            "_view_count": null,
            "_view_module_version": "1.2.0",
            "_model_module": "@jupyter-widgets/controls"
          }
        },
        "6c7231686d4d4c9c9d13d9ceedcc8648": {
          "model_module": "@jupyter-widgets/base",
          "model_name": "LayoutModel",
          "model_module_version": "1.2.0",
          "state": {
            "_view_name": "LayoutView",
            "grid_template_rows": null,
            "right": null,
            "justify_content": null,
            "_view_module": "@jupyter-widgets/base",
            "overflow": null,
            "_model_module_version": "1.2.0",
            "_view_count": null,
            "flex_flow": null,
            "width": null,
            "min_width": null,
            "border": null,
            "align_items": null,
            "bottom": null,
            "_model_module": "@jupyter-widgets/base",
            "top": null,
            "grid_column": null,
            "overflow_y": null,
            "overflow_x": null,
            "grid_auto_flow": null,
            "grid_area": null,
            "grid_template_columns": null,
            "flex": null,
            "_model_name": "LayoutModel",
            "justify_items": null,
            "grid_row": null,
            "max_height": null,
            "align_content": null,
            "visibility": null,
            "align_self": null,
            "height": null,
            "min_height": null,
            "padding": null,
            "grid_auto_rows": null,
            "grid_gap": null,
            "max_width": null,
            "order": null,
            "_view_module_version": "1.2.0",
            "grid_template_areas": null,
            "object_position": null,
            "object_fit": null,
            "grid_auto_columns": null,
            "margin": null,
            "display": null,
            "left": null
          }
        },
        "6a6acda6894a4a4bb01f6751f93175b8": {
          "model_module": "@jupyter-widgets/controls",
          "model_name": "ProgressStyleModel",
          "model_module_version": "1.5.0",
          "state": {
            "_view_name": "StyleView",
            "_model_name": "ProgressStyleModel",
            "description_width": "",
            "_view_module": "@jupyter-widgets/base",
            "_model_module_version": "1.5.0",
            "_view_count": null,
            "_view_module_version": "1.2.0",
            "bar_color": null,
            "_model_module": "@jupyter-widgets/controls"
          }
        },
        "e86b5fe854604ed0bbb8c8e97ab63829": {
          "model_module": "@jupyter-widgets/base",
          "model_name": "LayoutModel",
          "model_module_version": "1.2.0",
          "state": {
            "_view_name": "LayoutView",
            "grid_template_rows": null,
            "right": null,
            "justify_content": null,
            "_view_module": "@jupyter-widgets/base",
            "overflow": null,
            "_model_module_version": "1.2.0",
            "_view_count": null,
            "flex_flow": null,
            "width": null,
            "min_width": null,
            "border": null,
            "align_items": null,
            "bottom": null,
            "_model_module": "@jupyter-widgets/base",
            "top": null,
            "grid_column": null,
            "overflow_y": null,
            "overflow_x": null,
            "grid_auto_flow": null,
            "grid_area": null,
            "grid_template_columns": null,
            "flex": null,
            "_model_name": "LayoutModel",
            "justify_items": null,
            "grid_row": null,
            "max_height": null,
            "align_content": null,
            "visibility": null,
            "align_self": null,
            "height": null,
            "min_height": null,
            "padding": null,
            "grid_auto_rows": null,
            "grid_gap": null,
            "max_width": null,
            "order": null,
            "_view_module_version": "1.2.0",
            "grid_template_areas": null,
            "object_position": null,
            "object_fit": null,
            "grid_auto_columns": null,
            "margin": null,
            "display": null,
            "left": null
          }
        },
        "954b70554a2948ab975ce1b188b5aa66": {
          "model_module": "@jupyter-widgets/controls",
          "model_name": "DescriptionStyleModel",
          "model_module_version": "1.5.0",
          "state": {
            "_view_name": "StyleView",
            "_model_name": "DescriptionStyleModel",
            "description_width": "",
            "_view_module": "@jupyter-widgets/base",
            "_model_module_version": "1.5.0",
            "_view_count": null,
            "_view_module_version": "1.2.0",
            "_model_module": "@jupyter-widgets/controls"
          }
        },
        "1658cf4535ba43a798ee1b7951b1911b": {
          "model_module": "@jupyter-widgets/base",
          "model_name": "LayoutModel",
          "model_module_version": "1.2.0",
          "state": {
            "_view_name": "LayoutView",
            "grid_template_rows": null,
            "right": null,
            "justify_content": null,
            "_view_module": "@jupyter-widgets/base",
            "overflow": null,
            "_model_module_version": "1.2.0",
            "_view_count": null,
            "flex_flow": null,
            "width": null,
            "min_width": null,
            "border": null,
            "align_items": null,
            "bottom": null,
            "_model_module": "@jupyter-widgets/base",
            "top": null,
            "grid_column": null,
            "overflow_y": null,
            "overflow_x": null,
            "grid_auto_flow": null,
            "grid_area": null,
            "grid_template_columns": null,
            "flex": null,
            "_model_name": "LayoutModel",
            "justify_items": null,
            "grid_row": null,
            "max_height": null,
            "align_content": null,
            "visibility": null,
            "align_self": null,
            "height": null,
            "min_height": null,
            "padding": null,
            "grid_auto_rows": null,
            "grid_gap": null,
            "max_width": null,
            "order": null,
            "_view_module_version": "1.2.0",
            "grid_template_areas": null,
            "object_position": null,
            "object_fit": null,
            "grid_auto_columns": null,
            "margin": null,
            "display": null,
            "left": null
          }
        },
        "41d32299531e4f8491f2da3bf2ff6f8a": {
          "model_module": "@jupyter-widgets/controls",
          "model_name": "HBoxModel",
          "model_module_version": "1.5.0",
          "state": {
            "_view_name": "HBoxView",
            "_dom_classes": [],
            "_model_name": "HBoxModel",
            "_view_module": "@jupyter-widgets/controls",
            "_model_module_version": "1.5.0",
            "_view_count": null,
            "_view_module_version": "1.5.0",
            "box_style": "",
            "layout": "IPY_MODEL_7632d98358384ff090021e9b79781340",
            "_model_module": "@jupyter-widgets/controls",
            "children": [
              "IPY_MODEL_e7a4e9ba3f724a099e4aefb675343c03",
              "IPY_MODEL_73aaa1f5444c4809a72fe0b9bc49d633",
              "IPY_MODEL_4508af87d9e4470e8b59be0c31b7ad4b"
            ]
          }
        },
        "7632d98358384ff090021e9b79781340": {
          "model_module": "@jupyter-widgets/base",
          "model_name": "LayoutModel",
          "model_module_version": "1.2.0",
          "state": {
            "_view_name": "LayoutView",
            "grid_template_rows": null,
            "right": null,
            "justify_content": null,
            "_view_module": "@jupyter-widgets/base",
            "overflow": null,
            "_model_module_version": "1.2.0",
            "_view_count": null,
            "flex_flow": null,
            "width": null,
            "min_width": null,
            "border": null,
            "align_items": null,
            "bottom": null,
            "_model_module": "@jupyter-widgets/base",
            "top": null,
            "grid_column": null,
            "overflow_y": null,
            "overflow_x": null,
            "grid_auto_flow": null,
            "grid_area": null,
            "grid_template_columns": null,
            "flex": null,
            "_model_name": "LayoutModel",
            "justify_items": null,
            "grid_row": null,
            "max_height": null,
            "align_content": null,
            "visibility": null,
            "align_self": null,
            "height": null,
            "min_height": null,
            "padding": null,
            "grid_auto_rows": null,
            "grid_gap": null,
            "max_width": null,
            "order": null,
            "_view_module_version": "1.2.0",
            "grid_template_areas": null,
            "object_position": null,
            "object_fit": null,
            "grid_auto_columns": null,
            "margin": null,
            "display": null,
            "left": null
          }
        },
        "e7a4e9ba3f724a099e4aefb675343c03": {
          "model_module": "@jupyter-widgets/controls",
          "model_name": "HTMLModel",
          "model_module_version": "1.5.0",
          "state": {
            "_view_name": "HTMLView",
            "style": "IPY_MODEL_7079619ca9514f2596d8be2cf4a3cd4b",
            "_dom_classes": [],
            "description": "",
            "_model_name": "HTMLModel",
            "placeholder": "​",
            "_view_module": "@jupyter-widgets/controls",
            "_model_module_version": "1.5.0",
            "value": " 10%",
            "_view_count": null,
            "_view_module_version": "1.5.0",
            "description_tooltip": null,
            "_model_module": "@jupyter-widgets/controls",
            "layout": "IPY_MODEL_4cdba0da126241b28a3a31bd90955b19"
          }
        },
        "73aaa1f5444c4809a72fe0b9bc49d633": {
          "model_module": "@jupyter-widgets/controls",
          "model_name": "FloatProgressModel",
          "model_module_version": "1.5.0",
          "state": {
            "_view_name": "ProgressView",
            "style": "IPY_MODEL_606e6370d2fa49d0b1458297ea270fa4",
            "_dom_classes": [],
            "description": "",
            "_model_name": "FloatProgressModel",
            "bar_style": "danger",
            "max": 100,
            "_view_module": "@jupyter-widgets/controls",
            "_model_module_version": "1.5.0",
            "value": 10,
            "_view_count": null,
            "_view_module_version": "1.5.0",
            "orientation": "horizontal",
            "min": 0,
            "description_tooltip": null,
            "_model_module": "@jupyter-widgets/controls",
            "layout": "IPY_MODEL_4f10c3efca40466daaf6837b8ebde11c"
          }
        },
        "4508af87d9e4470e8b59be0c31b7ad4b": {
          "model_module": "@jupyter-widgets/controls",
          "model_name": "HTMLModel",
          "model_module_version": "1.5.0",
          "state": {
            "_view_name": "HTMLView",
            "style": "IPY_MODEL_03b2e3a821b04bc0a26041512f68fcb0",
            "_dom_classes": [],
            "description": "",
            "_model_name": "HTMLModel",
            "placeholder": "​",
            "_view_module": "@jupyter-widgets/controls",
            "_model_module_version": "1.5.0",
            "value": " 10/100 [20:44&lt;2:23:18, 95.54s/it]",
            "_view_count": null,
            "_view_module_version": "1.5.0",
            "description_tooltip": null,
            "_model_module": "@jupyter-widgets/controls",
            "layout": "IPY_MODEL_09262814a47d4e5f82bcbc3e8cd82f58"
          }
        },
        "7079619ca9514f2596d8be2cf4a3cd4b": {
          "model_module": "@jupyter-widgets/controls",
          "model_name": "DescriptionStyleModel",
          "model_module_version": "1.5.0",
          "state": {
            "_view_name": "StyleView",
            "_model_name": "DescriptionStyleModel",
            "description_width": "",
            "_view_module": "@jupyter-widgets/base",
            "_model_module_version": "1.5.0",
            "_view_count": null,
            "_view_module_version": "1.2.0",
            "_model_module": "@jupyter-widgets/controls"
          }
        },
        "4cdba0da126241b28a3a31bd90955b19": {
          "model_module": "@jupyter-widgets/base",
          "model_name": "LayoutModel",
          "model_module_version": "1.2.0",
          "state": {
            "_view_name": "LayoutView",
            "grid_template_rows": null,
            "right": null,
            "justify_content": null,
            "_view_module": "@jupyter-widgets/base",
            "overflow": null,
            "_model_module_version": "1.2.0",
            "_view_count": null,
            "flex_flow": null,
            "width": null,
            "min_width": null,
            "border": null,
            "align_items": null,
            "bottom": null,
            "_model_module": "@jupyter-widgets/base",
            "top": null,
            "grid_column": null,
            "overflow_y": null,
            "overflow_x": null,
            "grid_auto_flow": null,
            "grid_area": null,
            "grid_template_columns": null,
            "flex": null,
            "_model_name": "LayoutModel",
            "justify_items": null,
            "grid_row": null,
            "max_height": null,
            "align_content": null,
            "visibility": null,
            "align_self": null,
            "height": null,
            "min_height": null,
            "padding": null,
            "grid_auto_rows": null,
            "grid_gap": null,
            "max_width": null,
            "order": null,
            "_view_module_version": "1.2.0",
            "grid_template_areas": null,
            "object_position": null,
            "object_fit": null,
            "grid_auto_columns": null,
            "margin": null,
            "display": null,
            "left": null
          }
        },
        "606e6370d2fa49d0b1458297ea270fa4": {
          "model_module": "@jupyter-widgets/controls",
          "model_name": "ProgressStyleModel",
          "model_module_version": "1.5.0",
          "state": {
            "_view_name": "StyleView",
            "_model_name": "ProgressStyleModel",
            "description_width": "",
            "_view_module": "@jupyter-widgets/base",
            "_model_module_version": "1.5.0",
            "_view_count": null,
            "_view_module_version": "1.2.0",
            "bar_color": null,
            "_model_module": "@jupyter-widgets/controls"
          }
        },
        "4f10c3efca40466daaf6837b8ebde11c": {
          "model_module": "@jupyter-widgets/base",
          "model_name": "LayoutModel",
          "model_module_version": "1.2.0",
          "state": {
            "_view_name": "LayoutView",
            "grid_template_rows": null,
            "right": null,
            "justify_content": null,
            "_view_module": "@jupyter-widgets/base",
            "overflow": null,
            "_model_module_version": "1.2.0",
            "_view_count": null,
            "flex_flow": null,
            "width": null,
            "min_width": null,
            "border": null,
            "align_items": null,
            "bottom": null,
            "_model_module": "@jupyter-widgets/base",
            "top": null,
            "grid_column": null,
            "overflow_y": null,
            "overflow_x": null,
            "grid_auto_flow": null,
            "grid_area": null,
            "grid_template_columns": null,
            "flex": null,
            "_model_name": "LayoutModel",
            "justify_items": null,
            "grid_row": null,
            "max_height": null,
            "align_content": null,
            "visibility": null,
            "align_self": null,
            "height": null,
            "min_height": null,
            "padding": null,
            "grid_auto_rows": null,
            "grid_gap": null,
            "max_width": null,
            "order": null,
            "_view_module_version": "1.2.0",
            "grid_template_areas": null,
            "object_position": null,
            "object_fit": null,
            "grid_auto_columns": null,
            "margin": null,
            "display": null,
            "left": null
          }
        },
        "03b2e3a821b04bc0a26041512f68fcb0": {
          "model_module": "@jupyter-widgets/controls",
          "model_name": "DescriptionStyleModel",
          "model_module_version": "1.5.0",
          "state": {
            "_view_name": "StyleView",
            "_model_name": "DescriptionStyleModel",
            "description_width": "",
            "_view_module": "@jupyter-widgets/base",
            "_model_module_version": "1.5.0",
            "_view_count": null,
            "_view_module_version": "1.2.0",
            "_model_module": "@jupyter-widgets/controls"
          }
        },
        "09262814a47d4e5f82bcbc3e8cd82f58": {
          "model_module": "@jupyter-widgets/base",
          "model_name": "LayoutModel",
          "model_module_version": "1.2.0",
          "state": {
            "_view_name": "LayoutView",
            "grid_template_rows": null,
            "right": null,
            "justify_content": null,
            "_view_module": "@jupyter-widgets/base",
            "overflow": null,
            "_model_module_version": "1.2.0",
            "_view_count": null,
            "flex_flow": null,
            "width": null,
            "min_width": null,
            "border": null,
            "align_items": null,
            "bottom": null,
            "_model_module": "@jupyter-widgets/base",
            "top": null,
            "grid_column": null,
            "overflow_y": null,
            "overflow_x": null,
            "grid_auto_flow": null,
            "grid_area": null,
            "grid_template_columns": null,
            "flex": null,
            "_model_name": "LayoutModel",
            "justify_items": null,
            "grid_row": null,
            "max_height": null,
            "align_content": null,
            "visibility": null,
            "align_self": null,
            "height": null,
            "min_height": null,
            "padding": null,
            "grid_auto_rows": null,
            "grid_gap": null,
            "max_width": null,
            "order": null,
            "_view_module_version": "1.2.0",
            "grid_template_areas": null,
            "object_position": null,
            "object_fit": null,
            "grid_auto_columns": null,
            "margin": null,
            "display": null,
            "left": null
          }
        }
      }
    }
  },
  "cells": [
    {
      "cell_type": "markdown",
      "metadata": {
        "id": "view-in-github",
        "colab_type": "text"
      },
      "source": [
        "<a href=\"https://colab.research.google.com/github/isdrael4590/DIALUNG/blob/main/notebooks/ImplementacionModelos/DIALUNG_Resnet50.ipynb\" target=\"_parent\"><img src=\"https://colab.research.google.com/assets/colab-badge.svg\" alt=\"Open In Colab\"/></a>"
      ]
    },
    {
      "cell_type": "markdown",
      "metadata": {
        "id": "c395fff8-65c0-4475-b883-1b4620904adc"
      },
      "source": [
        "# Arquitectura de Red Resnet50\n",
        "Basado en la librería de [TorchXRayVision]https://github.com/mlmed/torchxrayvision)"
      ],
      "id": "c395fff8-65c0-4475-b883-1b4620904adc"
    },
    {
      "cell_type": "code",
      "metadata": {
        "id": "a97ed272-cac9-4252-9c0a-04d8a821d532"
      },
      "source": [
        "import numpy as np\n",
        "import pandas as pd\n",
        "import os\n",
        "mapa_condiciones = {\n",
        "    0: \"normal\",\n",
        "    1: \"tuberculosis\",\n",
        "    2: \"neumonia\",\n",
        "    3: \"covid-19\"\n",
        "}"
      ],
      "id": "a97ed272-cac9-4252-9c0a-04d8a821d532",
      "execution_count": 1,
      "outputs": []
    },
    {
      "cell_type": "code",
      "metadata": {
        "colab": {
          "base_uri": "https://localhost:8080/"
        },
        "id": "ae0ecd0f-12a6-4adf-8406-44c208cfaac1",
        "outputId": "fe612191-b8b9-425a-f0d2-beb8f5ca1aa3"
      },
      "source": [
        "!pip install torchxrayvision torchio tqdm torchinfo cockpit-for-pytorch torch-lr-finder"
      ],
      "id": "ae0ecd0f-12a6-4adf-8406-44c208cfaac1",
      "execution_count": 17,
      "outputs": [
        {
          "output_type": "stream",
          "name": "stdout",
          "text": [
            "shell-init: error retrieving current directory: getcwd: cannot access parent directories: No such file or directory\n",
            "shell-init: error retrieving current directory: getcwd: cannot access parent directories: No such file or directory\n",
            "The folder you are executing pip from can no longer be found.\n"
          ]
        }
      ]
    },
    {
      "cell_type": "code",
      "metadata": {
        "colab": {
          "base_uri": "https://localhost:8080/"
        },
        "id": "cdd40cd6-f0c3-42d1-8b45-58eff3292c47",
        "outputId": "a4113163-9621-45b6-9667-88c8b43c0268"
      },
      "source": [
        "from google.colab import drive\n",
        "drive.mount('/content/drive')"
      ],
      "id": "cdd40cd6-f0c3-42d1-8b45-58eff3292c47",
      "execution_count": 3,
      "outputs": [
        {
          "output_type": "stream",
          "name": "stdout",
          "text": [
            "Drive already mounted at /content/drive; to attempt to forcibly remount, call drive.mount(\"/content/drive\", force_remount=True).\n"
          ]
        }
      ]
    },
    {
      "cell_type": "code",
      "metadata": {
        "colab": {
          "base_uri": "https://localhost:8080/"
        },
        "id": "f53473ff-c74d-4107-869e-f2d42ff8db0e",
        "outputId": "b7f0c5df-7fd9-4d66-b5d6-1a929d5f1460"
      },
      "source": [
        "%cd /content/drive/My\\ Drive/ProyectoDIALUNG/\n",
        "#Archivo local \n",
        "#%cd /media/josejacomeb/Datos1/DatasetsMédicos/ProyectoDIALUNG/"
      ],
      "id": "f53473ff-c74d-4107-869e-f2d42ff8db0e",
      "execution_count": 4,
      "outputs": [
        {
          "output_type": "stream",
          "name": "stdout",
          "text": [
            "/content/drive/.shortcut-targets-by-id/1RXSTiiN9YE5Ea3wLZhtV6QSDvbNxBQVq/ProyectoDIALUNG\n"
          ]
        }
      ]
    },
    {
      "cell_type": "code",
      "metadata": {
        "id": "b1d672a2-e347-4880-88a9-07c2312fa36a"
      },
      "source": [
        "direccion_dataset_imagenes = \"DIALUNG-Datasets/\"\n",
        "dataset_train_256 = os.path.join(direccion_dataset_imagenes, \"train_512.hdf5\") \n",
        "dataset_test_256 = os.path.join(direccion_dataset_imagenes, \"test_512.hdf5\")\n",
        "dataset_val_256 = os.path.join(direccion_dataset_imagenes, \"val_512.hdf5\")"
      ],
      "id": "b1d672a2-e347-4880-88a9-07c2312fa36a",
      "execution_count": 5,
      "outputs": []
    },
    {
      "cell_type": "code",
      "metadata": {
        "id": "049d2604-ded3-4a53-86dd-a7298fe33dc1"
      },
      "source": [
        "#Tamaño deseado de la imagen\n",
        "ancho_imagen_deseado  = 512\n",
        "alto_imagen_deseado =  512\n",
        "#Variables de rotación\n",
        "probabilidad_rotacion = 0.20\n",
        "angulo_rotacion_grados = 45\n",
        "#Variables de Blur\n",
        "probabilidad_blur = 0.05\n",
        "std_filtro_gaussiano = (1, 1)\n",
        "#Variables de Ruido\n",
        "probabilidad_ruido = 0.05\n",
        "std_ruido_gaussiano = (0, 0.08)\n",
        "mean_ruido_gaussiano = 0\n",
        "# Variables de Desplazamiento\n",
        "probabilidad_desplazamiento = 0.20\n",
        "desplazamiento_x_y = (0.25, 0.25) #1 mm de desplazamiento en ambos ejes \n",
        "# Variables de escalado\n",
        "probabilidad_escalado = 0.20\n",
        "escalada = (0.85, 0.85)\n",
        "# Tamaño del batch\n",
        "batch_size = 22"
      ],
      "id": "049d2604-ded3-4a53-86dd-a7298fe33dc1",
      "execution_count": 6,
      "outputs": []
    },
    {
      "cell_type": "code",
      "metadata": {
        "id": "8836a53c-5090-4ace-a894-a55a06c871a1"
      },
      "source": [
        "from torchvision.transforms import Compose #Compose me sirve para apilar varias transformaciones en una sola\n",
        "from torchvision.transforms import Resize #Cargar herramienta para hacer Rescalado\n",
        "from torchvision.transforms import Lambda #Convertir tensor de salida a one-hot-encoded \n",
        "import torch \n",
        "#Librerias de TorchIO\n",
        "import torchio as tio\n",
        "#Librerias de DIALUNG\n",
        "from dialung.utils.creardatasetbinario import crearDatasetBinarioDIALUNG\n",
        "\n",
        "resize_transform = tio.Resize((alto_imagen_deseado, ancho_imagen_deseado, 1)) #Cambiar el tamaño al establecido en la celda de arriba\n",
        "normalizacion_dataset = tio.transforms.ZNormalization()\n",
        "rescalar_intensidad = tio.transforms.RescaleIntensity(out_min_max=(0, 1)) #Rescalar 0 o 1\n",
        "#Diccionario de transformaciones con su probabilidad de ser ejecutadas\n",
        "diccionario_transformaciones = {\n",
        "  tio.RandomAffine(degrees = angulo_rotacion_grados): probabilidad_rotacion, #transformacion de rotación  \n",
        "  tio.transforms.RandomBlur(std = std_filtro_gaussiano): probabilidad_blur, #transformacion de blur  \n",
        "  tio.transforms.RandomNoise(mean = mean_ruido_gaussiano, std = std_ruido_gaussiano): probabilidad_ruido, #transformaciones de ruido\n",
        "  tio.RandomAffine(translation = desplazamiento_x_y): probabilidad_desplazamiento, #transformacion de traslación \n",
        "  tio.RandomAffine(scales = escalada): probabilidad_escalado, #probabilidad escalado\n",
        "}\n",
        "#Agrupar todas las transformaciones en una sola\n",
        "transformaciones_DIALUNG = tio.OneOf(diccionario_transformaciones)\n",
        "\n",
        "transformaciones_dataset = Compose([resize_transform, transformaciones_DIALUNG, rescalar_intensidad]) #Apila las transformaciones\n",
        "transformacion_salida = Lambda(lambda y: torch.zeros(4, dtype=torch.float).scatter_(0, torch.tensor(int(y)), value=1)) #Hago un\n",
        "\n",
        "#Creo objetos de tipo crearDatasetDIALUNG\n",
        "train_datasetDIALUNG = crearDatasetBinarioDIALUNG(dataset_train_256, transformaciones_dataset, rgb = False)\n",
        "test_datasetDIALUNG = crearDatasetBinarioDIALUNG(dataset_test_256, transformaciones_dataset, rgb = False)\n",
        "val_datasetDIALUNG = crearDatasetBinarioDIALUNG(dataset_val_256, transformaciones_dataset, rgb = False)"
      ],
      "id": "8836a53c-5090-4ace-a894-a55a06c871a1",
      "execution_count": 7,
      "outputs": []
    },
    {
      "cell_type": "code",
      "metadata": {
        "id": "24b3af45-df66-4f3e-a438-d666a585e9c6"
      },
      "source": [
        "from torch.utils.data import DataLoader #Clase dataloader para cargar en PyTorch los objetos de tipo Dataset\n",
        "\n",
        "#Creo objetos de tipo DataLoader en lotes de 64 imagenes y barajeados aleatoriamente\n",
        "train_dataloader = DataLoader(train_datasetDIALUNG, batch_size=batch_size, shuffle=True, num_workers = 2)\n",
        "test_dataloader = DataLoader(test_datasetDIALUNG, batch_size=batch_size, shuffle=False, num_workers = 2)\n",
        "val_dataloader = DataLoader(val_datasetDIALUNG, batch_size=batch_size, shuffle=False, num_workers = 2)"
      ],
      "id": "24b3af45-df66-4f3e-a438-d666a585e9c6",
      "execution_count": 8,
      "outputs": []
    },
    {
      "cell_type": "code",
      "metadata": {
        "id": "0392816f-5263-43b8-ab67-ee75d0fb7753"
      },
      "source": [
        "from torch import nn\n",
        "from collections import OrderedDict\n",
        "from datetime import date\n",
        "from torch.utils.tensorboard import SummaryWriter\n",
        "\n",
        "#Configuracion de datos de cada experimento\n",
        "carpeta_experimentos = \"DIALUNG_Experimentos\"\n",
        "carpeta_metricas, carpeta_modelos, carpeta_logs = \"Métricas\", \"Modelos\", \"logs_dir\"\n",
        "nombre_modelo = \"Resnet50\" #Poner el nombre cada uno de su modelo\n",
        "implementado_por= \"josejacomeb\" #Poner sus nombres \n",
        "nombre_experimento = os.path.join(implementado_por, nombre_modelo)\n",
        "ruta_guardar_metricas = os.path.join(carpeta_experimentos, carpeta_metricas, nombre_experimento)\n",
        "ruta_guardar_modelos = os.path.join(carpeta_experimentos, carpeta_modelos, nombre_experimento)\n",
        "ruta_guardar_logs = os.path.join(carpeta_experimentos, carpeta_logs, nombre_experimento)\n",
        "#Creo los directorios\n",
        "if not os.path.exists(ruta_guardar_metricas):\n",
        "    os.makedirs(ruta_guardar_metricas)\n",
        "if not os.path.exists(ruta_guardar_modelos):\n",
        "    os.makedirs(ruta_guardar_modelos)\n",
        "if not os.path.exists(ruta_guardar_logs):\n",
        "    os.makedirs(ruta_guardar_logs)\n",
        "#Inicializar TensorBoard para escribir los datos en el directorio de ruta_guardar_logs\n",
        "writer = SummaryWriter(ruta_guardar_logs)"
      ],
      "id": "0392816f-5263-43b8-ab67-ee75d0fb7753",
      "execution_count": 24,
      "outputs": []
    },
    {
      "cell_type": "code",
      "metadata": {
        "colab": {
          "base_uri": "https://localhost:8080/"
        },
        "id": "e5208fe9-5628-466f-8621-4e469d96fd50",
        "outputId": "d51bce57-d6ad-4712-f67c-44dffe95d48f"
      },
      "source": [
        "dispositivo = 'cuda' if torch.cuda.is_available() else 'cpu'\n",
        "print('Using {} device'.format(dispositivo))"
      ],
      "id": "e5208fe9-5628-466f-8621-4e469d96fd50",
      "execution_count": 25,
      "outputs": [
        {
          "output_type": "stream",
          "name": "stdout",
          "text": [
            "Using cuda device\n"
          ]
        }
      ]
    },
    {
      "cell_type": "code",
      "metadata": {
        "colab": {
          "base_uri": "https://localhost:8080/"
        },
        "id": "6e9695ac-faca-4b6a-ac60-54abdcd86eda",
        "outputId": "0a6eda35-4927-454f-cad1-6b158315fd10"
      },
      "source": [
        "import torchxrayvision as xrv #Importar la librería TorchXRayVision\n",
        "from torch import nn\n",
        "\n",
        "modelo = xrv.models.ResNet(weights=\"resnet50-res512-all\")\n",
        "in_features = modelo.model.fc.in_features \n",
        "num_clases = len(mapa_condiciones.values())\n",
        "modelo.op_threshs = None #Previene calibracion del modelo\n",
        "modelo.model.fc = nn.Linear(in_features=in_features, out_features=num_clases) #Cambio la capa de salida para ajustar a los cuatro parámetros\n",
        "modelo.to(dispositivo)"
      ],
      "id": "6e9695ac-faca-4b6a-ac60-54abdcd86eda",
      "execution_count": 28,
      "outputs": [
        {
          "output_type": "execute_result",
          "data": {
            "text/plain": [
              "XRV-ResNet-resnet50-res512-all"
            ]
          },
          "metadata": {},
          "execution_count": 28
        }
      ]
    },
    {
      "cell_type": "code",
      "metadata": {
        "id": "db6ea614-8a47-41d6-a9b1-0bbb18707341"
      },
      "source": [
        "# Obtener algunas imagenes para mostrar en TensorBoard\n",
        "images, labels = next(iter(val_dataloader))\n",
        "images = images.to(dispositivo)\n",
        "#Añadir el modelo a tensorboard\n",
        "writer.add_graph(modelo, images)"
      ],
      "id": "db6ea614-8a47-41d6-a9b1-0bbb18707341",
      "execution_count": 29,
      "outputs": []
    },
    {
      "cell_type": "code",
      "metadata": {
        "colab": {
          "base_uri": "https://localhost:8080/"
        },
        "id": "0b0bbf01-82d3-4b65-bd38-6c9f2969948c",
        "outputId": "e685ef32-db71-498f-a99b-032312a03b97"
      },
      "source": [
        "from torchinfo import summary \n",
        "print(summary(modelo, input_size = tuple(images.shape)))"
      ],
      "id": "0b0bbf01-82d3-4b65-bd38-6c9f2969948c",
      "execution_count": 30,
      "outputs": [
        {
          "output_type": "stream",
          "name": "stdout",
          "text": [
            "===============================================================================================\n",
            "Layer (type:depth-idx)                        Output Shape              Param #\n",
            "===============================================================================================\n",
            "ResNet                                        --                        --\n",
            "├─ResNet: 1-1                                 [22, 4]                   --\n",
            "│    └─Conv2d: 2-1                            [22, 64, 256, 256]        3,136\n",
            "│    └─BatchNorm2d: 2-2                       [22, 64, 256, 256]        128\n",
            "│    └─ReLU: 2-3                              [22, 64, 256, 256]        --\n",
            "│    └─MaxPool2d: 2-4                         [22, 64, 128, 128]        --\n",
            "│    └─Sequential: 2-5                        [22, 256, 128, 128]       --\n",
            "│    │    └─Bottleneck: 3-1                   [22, 256, 128, 128]       75,008\n",
            "│    │    └─Bottleneck: 3-2                   [22, 256, 128, 128]       70,400\n",
            "│    │    └─Bottleneck: 3-3                   [22, 256, 128, 128]       70,400\n",
            "│    └─Sequential: 2-6                        [22, 512, 64, 64]         --\n",
            "│    │    └─Bottleneck: 3-4                   [22, 512, 64, 64]         379,392\n",
            "│    │    └─Bottleneck: 3-5                   [22, 512, 64, 64]         280,064\n",
            "│    │    └─Bottleneck: 3-6                   [22, 512, 64, 64]         280,064\n",
            "│    │    └─Bottleneck: 3-7                   [22, 512, 64, 64]         280,064\n",
            "│    └─Sequential: 2-7                        [22, 1024, 32, 32]        --\n",
            "│    │    └─Bottleneck: 3-8                   [22, 1024, 32, 32]        1,512,448\n",
            "│    │    └─Bottleneck: 3-9                   [22, 1024, 32, 32]        1,117,184\n",
            "│    │    └─Bottleneck: 3-10                  [22, 1024, 32, 32]        1,117,184\n",
            "│    │    └─Bottleneck: 3-11                  [22, 1024, 32, 32]        1,117,184\n",
            "│    │    └─Bottleneck: 3-12                  [22, 1024, 32, 32]        1,117,184\n",
            "│    │    └─Bottleneck: 3-13                  [22, 1024, 32, 32]        1,117,184\n",
            "│    └─Sequential: 2-8                        [22, 2048, 16, 16]        --\n",
            "│    │    └─Bottleneck: 3-14                  [22, 2048, 16, 16]        6,039,552\n",
            "│    │    └─Bottleneck: 3-15                  [22, 2048, 16, 16]        4,462,592\n",
            "│    │    └─Bottleneck: 3-16                  [22, 2048, 16, 16]        4,462,592\n",
            "│    └─AdaptiveAvgPool2d: 2-9                 [22, 2048, 1, 1]          --\n",
            "│    └─Linear: 2-10                           [22, 4]                   8,196\n",
            "===============================================================================================\n",
            "Total params: 23,509,956\n",
            "Trainable params: 23,509,956\n",
            "Non-trainable params: 0\n",
            "Total mult-adds (G): 460.73\n",
            "===============================================================================================\n",
            "Input size (MB): 23.07\n",
            "Forward/backward pass size (MB): 20438.84\n",
            "Params size (MB): 94.04\n",
            "Estimated Total Size (MB): 20555.95\n",
            "===============================================================================================\n"
          ]
        }
      ]
    },
    {
      "cell_type": "code",
      "metadata": {
        "id": "c4a37c32-5c26-47e1-8abd-262b9cdd6416"
      },
      "source": [
        "learning_rate_inicial = 0.04\n",
        "epochs = 25\n",
        "momentum = 0.9 #Momento del algoritmo SGD\n",
        "weight_decay = 0.05 #Weight decay\n",
        "learning_rate_manual = None #Poner el numero deseado si se requiere"
      ],
      "id": "c4a37c32-5c26-47e1-8abd-262b9cdd6416",
      "execution_count": 31,
      "outputs": []
    },
    {
      "cell_type": "code",
      "metadata": {
        "id": "63ff8560-bc7a-4d18-8438-c2902fe21d4e"
      },
      "source": [
        "from torch.optim.lr_scheduler import ReduceLROnPlateau\n",
        "pesos_clase_desbalanceada = torch.tensor([0.5097178 , 2.12377522, 1.0953478 , 1.52830776]).to(dispositivo) \n",
        "funcion_perdida = nn.CrossEntropyLoss(weight = pesos_clase_desbalanceada) #Uso de CrossEntropy\n",
        "optimizador = torch.optim.SGD(modelo.parameters(), lr=learning_rate_inicial, \n",
        "                              momentum=momentum, weight_decay=weight_decay) #Optimizador SGD\n",
        "scheduler = ReduceLROnPlateau(optimizador, \"min\", patience = 5, factor = 0.30, min_lr = 1e-5)"
      ],
      "id": "63ff8560-bc7a-4d18-8438-c2902fe21d4e",
      "execution_count": 32,
      "outputs": []
    },
    {
      "cell_type": "code",
      "metadata": {
        "colab": {
          "base_uri": "https://localhost:8080/",
          "height": 1000
        },
        "id": "a1c13d65-8445-40fc-9776-cb6e0f9de611",
        "outputId": "2f4d4347-c54d-4b48-e37d-ccb86b992d3d"
      },
      "source": [
        "# Load the TensorBoard notebook extension\n",
        "%load_ext tensorboard\n",
        "%tensorboard --logdir $ruta_guardar_logs"
      ],
      "id": "a1c13d65-8445-40fc-9776-cb6e0f9de611",
      "execution_count": 33,
      "outputs": [
        {
          "output_type": "stream",
          "name": "stdout",
          "text": [
            "The tensorboard extension is already loaded. To reload it, use:\n",
            "  %reload_ext tensorboard\n"
          ]
        },
        {
          "output_type": "display_data",
          "data": {
            "text/plain": [
              "Launching TensorBoard..."
            ]
          },
          "metadata": {}
        },
        {
          "output_type": "stream",
          "name": "stderr",
          "text": [
            "ERROR:root:Internal Python error in the inspect module.\n",
            "Below is the traceback from this internal error.\n",
            "\n"
          ]
        },
        {
          "output_type": "stream",
          "name": "stdout",
          "text": [
            "Traceback (most recent call last):\n",
            "  File \"/usr/local/lib/python3.7/dist-packages/IPython/core/interactiveshell.py\", line 2882, in run_code\n",
            "    exec(code_obj, self.user_global_ns, self.user_ns)\n",
            "  File \"<ipython-input-33-9717aaeb04a0>\", line 3, in <module>\n",
            "    get_ipython().magic('tensorboard --logdir $ruta_guardar_logs')\n",
            "  File \"/usr/local/lib/python3.7/dist-packages/IPython/core/interactiveshell.py\", line 2160, in magic\n",
            "    return self.run_line_magic(magic_name, magic_arg_s)\n",
            "  File \"/usr/local/lib/python3.7/dist-packages/IPython/core/interactiveshell.py\", line 2081, in run_line_magic\n",
            "    result = fn(*args,**kwargs)\n",
            "  File \"/usr/local/lib/python3.7/dist-packages/tensorboard/notebook.py\", line 117, in _start_magic\n",
            "    return start(line)\n",
            "  File \"/usr/local/lib/python3.7/dist-packages/tensorboard/notebook.py\", line 152, in start\n",
            "    start_result = manager.start(parsed_args)\n",
            "  File \"/usr/local/lib/python3.7/dist-packages/tensorboard/manager.py\", line 401, in start\n",
            "    working_directory=os.getcwd(),\n",
            "FileNotFoundError: [Errno 2] No such file or directory\n",
            "\n",
            "During handling of the above exception, another exception occurred:\n",
            "\n",
            "Traceback (most recent call last):\n",
            "  File \"/usr/local/lib/python3.7/dist-packages/IPython/core/interactiveshell.py\", line 1823, in showtraceback\n",
            "    stb = value._render_traceback_()\n",
            "AttributeError: 'FileNotFoundError' object has no attribute '_render_traceback_'\n",
            "\n",
            "During handling of the above exception, another exception occurred:\n",
            "\n",
            "Traceback (most recent call last):\n",
            "  File \"/usr/local/lib/python3.7/dist-packages/IPython/core/ultratb.py\", line 1132, in get_records\n",
            "    return _fixed_getinnerframes(etb, number_of_lines_of_context, tb_offset)\n",
            "  File \"/usr/local/lib/python3.7/dist-packages/IPython/core/ultratb.py\", line 313, in wrapped\n",
            "    return f(*args, **kwargs)\n",
            "  File \"/usr/local/lib/python3.7/dist-packages/IPython/core/ultratb.py\", line 358, in _fixed_getinnerframes\n",
            "    records = fix_frame_records_filenames(inspect.getinnerframes(etb, context))\n",
            "  File \"/usr/lib/python3.7/inspect.py\", line 1502, in getinnerframes\n",
            "    frameinfo = (tb.tb_frame,) + getframeinfo(tb, context)\n",
            "  File \"/usr/lib/python3.7/inspect.py\", line 1460, in getframeinfo\n",
            "    filename = getsourcefile(frame) or getfile(frame)\n",
            "  File \"/usr/lib/python3.7/inspect.py\", line 696, in getsourcefile\n",
            "    if getattr(getmodule(object, filename), '__loader__', None) is not None:\n",
            "  File \"/usr/lib/python3.7/inspect.py\", line 725, in getmodule\n",
            "    file = getabsfile(object, _filename)\n",
            "  File \"/usr/lib/python3.7/inspect.py\", line 709, in getabsfile\n",
            "    return os.path.normcase(os.path.abspath(_filename))\n",
            "  File \"/usr/lib/python3.7/posixpath.py\", line 383, in abspath\n",
            "    cwd = os.getcwd()\n",
            "FileNotFoundError: [Errno 2] No such file or directory\n"
          ]
        },
        {
          "output_type": "error",
          "ename": "FileNotFoundError",
          "evalue": "ignored",
          "traceback": [
            "\u001b[0;31m---------------------------------------------------------------------------\u001b[0m"
          ]
        }
      ]
    },
    {
      "cell_type": "code",
      "metadata": {
        "colab": {
          "base_uri": "https://localhost:8080/",
          "height": 965,
          "referenced_widgets": [
            "494e3f36ca8241ef8526aefd7d83a8ac",
            "875e919b7eeb438a9205afbb4fcd972a",
            "daf38ab9e19d4e8ba55a91b43714af63",
            "26fb421c032c41a8a832f14a6103408b",
            "427e15212d2d4befa0ffd0449993e15f",
            "466668349b5a4350b8443a6ea65dd01a",
            "0464ce12ba5b474d8b8f34d5ac64d206",
            "f11075814749434ab395924faa8d5961",
            "06fd1d4f323940848d997fbfbc857763",
            "53608772e545435d873718c5f4dd7d26",
            "b14647c6f41744f0afb2d65611d0c043",
            "22445e3f59ec438c8fad038ab92a3ae5",
            "267779c9e89046f6a44282fef507a860",
            "5e2c080623f545f48c947ce574b6b412",
            "5a35b838838241b3b12756b076838425",
            "45a6989203de41f4998ae46468b582c0",
            "04791cbc4c594ce6a95d85bd30326da2",
            "13bd04a2a5c74ef18675094a256c966c",
            "ae8733ff4a604b48b1703e3f18fc4cec",
            "feee45fccddf479b8c7a3a0bb15cb49a",
            "237aa24dffe948ce95abb81023ed8eb5",
            "398152d24f704615abcfe3bf08883347",
            "eb854d5e4f8a4112aff264ca9fb4742c",
            "43e6c63b4e754d6d80793ab824607cbd",
            "b288cafa18ad41089952e874116dd6b1",
            "680a8c5f7d74473688b0ab99fa5ed246",
            "17cfe6adc3c74da285a2bdf0db7b51f3",
            "26817a0cc5d14753b18dad87db1f2672",
            "549d10275a4f46988c3227ed6c0b397b",
            "be3e2e4202c341b2968136e3f69c34f2",
            "9d74c7af0cf74186a2fe4549b9d83446",
            "ef487376320545f9adeea9f2d7ab29e7",
            "3af9c66e769b4c409ab58ed6ab6368e4",
            "8962341c664245728856112fd21a761a",
            "d6be774d13d342d09f0ecc352db876d2",
            "7ecc28582e044f918358aee34b738f1d",
            "c4f8f65208f642ef82afc62b05dbf7ae",
            "50fd40fb1f94455fad29f41f1efd4c5c",
            "a13010e814024aa0a4eddf84c4f95625",
            "c0dccf9d427a4a05a12c197af70a394b",
            "8db997368d99480f9310d29711a03f7e",
            "baaffdd0721b45afa1d6ad86a4ab4d75",
            "f4bcfd35f82744bcbb75898e39e1ea17",
            "f64553d0b3214e138be5af5df5749548",
            "2f3345f9343d44669c77ce794ed5c5de",
            "e28f31aed77b4d6981f112a06734a386",
            "30069563f7844d1297e87876f46a7f20",
            "19bb4a5660944e0fabf42c96766cc6df",
            "d110589a8b9a4c0bb86197da000140b8",
            "9153d959e55141aea2ddc36b25f5449d",
            "6c7231686d4d4c9c9d13d9ceedcc8648",
            "6a6acda6894a4a4bb01f6751f93175b8",
            "e86b5fe854604ed0bbb8c8e97ab63829",
            "954b70554a2948ab975ce1b188b5aa66",
            "1658cf4535ba43a798ee1b7951b1911b"
          ]
        },
        "id": "3faa75ec-32dc-40d9-b167-c7d4f51258f3",
        "outputId": "4a7a4ae9-024a-43dc-f527-ded3b0fd531f"
      },
      "source": [
        "from dialung.entrenarvalidar import EntrenamientoValidacionDIALUNG\n",
        "\n",
        "ruta_ultimo_archivo_pesos = os.path.join(ruta_guardar_modelos, \"ultimo.pt\") #mejor.pt si algo falló en el proceso\n",
        "epoch_inicio = 0\n",
        "resumir_entrenamiento = False\n",
        "step_inicio = 0\n",
        "historico = None\n",
        "\n",
        "if os.path.exists(ruta_ultimo_archivo_pesos):\n",
        "    resumir_entrenamiento = True\n",
        "    checkpoint = torch.load(ruta_ultimo_archivo_pesos)\n",
        "    modelo.load_state_dict(checkpoint[\"model_state_dict\"])#cargar los pesos del modelo\n",
        "    optimizador.load_state_dict(checkpoint[\"optimizer_state_dict\"]) #carga el modelo del optimizador\n",
        "    #Checar por una nuevo lr seleccionado por el usuario\n",
        "    if learning_rate_manual:\n",
        "        print(\"Cambiando el learning rate manualmente a: {}\".format(learning_rate_manual))\n",
        "        optimizador.param_groups[0][\"lr\"] = learning_rate_manual\n",
        "    if momentum != optimizador.param_groups[0][\"momentum\"]:\n",
        "        optimizador.param_groups[0][\"momentum\"] = momentum\n",
        "    \n",
        "    epoch_inicio = checkpoint[\"epoch\"]\n",
        "    step_inicio = checkpoint[\"steps\"]\n",
        "    historico = checkpoint[\"historico\"]\n",
        "    print(\"Resumiendo el entrenamiento desde la época: {}\".format(epoch_inicio))\n",
        "else:\n",
        "    print(\"No hay un checkpoint guardado, iniciando el entrenamiento desde la época 0\")\n",
        "\n",
        "ent_val_DIALUNG = EntrenamientoValidacionDIALUNG(modelo = modelo, funcion_perdida = funcion_perdida,\n",
        "                                                 dispositivo = dispositivo, optimizador = optimizador, \n",
        "                                                 scheduler = scheduler, #ruta_writer=ruta_guardar_logs,\n",
        "                                                debugger=True)\n",
        "if resumir_entrenamiento:\n",
        "    ent_val_DIALUNG.cargar_anteriores_resultados(historico, step_inicio)\n",
        "\n",
        "for epoch in range(epoch_inicio, epochs):\n",
        "    print(f\"Época {epoch+1}\\n-------------------------------\")\n",
        "    ent_val_DIALUNG.entrenar(train_dataloader)\n",
        "    ent_val_DIALUNG.validar(test_dataloader)\n",
        "    ent_val_DIALUNG.guardar_modelo(ruta_modelo=ruta_guardar_modelos, #Guardar modelo y Métricas\n",
        "                                   ruta_metricas=ruta_guardar_metricas, epoch=epoch)\n",
        "print(\"Entrenamiento finalizado!\")\n",
        "ent_val_DIALUNG.plotter(ent_val_DIALUNG.cockpit, block = True)"
      ],
      "id": "3faa75ec-32dc-40d9-b167-c7d4f51258f3",
      "execution_count": null,
      "outputs": [
        {
          "output_type": "stream",
          "name": "stdout",
          "text": [
            "No hay un checkpoint guardado, iniciando el entrenamiento desde la época 0\n",
            "Modelo no soportado por el Debugger, verifique que sea Secuencial o ResNET\n",
            "Época 1\n",
            "-------------------------------\n",
            "## Entrenamiento ##\n"
          ]
        },
        {
          "output_type": "display_data",
          "data": {
            "application/vnd.jupyter.widget-view+json": {
              "model_id": "494e3f36ca8241ef8526aefd7d83a8ac",
              "version_minor": 0,
              "version_major": 2
            },
            "text/plain": [
              "Progreso dataset entrenamiento(batches):   0%|          | 0/670 [00:00<?, ?it/s]"
            ]
          },
          "metadata": {}
        },
        {
          "output_type": "stream",
          "name": "stdout",
          "text": [
            "Valor Función pérdida: 1.389 Precisión: 45.15%  Tasa de aprendizaje: 0.04\n",
            "Tiempo de iteración: 0:27:41.450344\n",
            "## Validación ##\n"
          ]
        },
        {
          "output_type": "display_data",
          "data": {
            "application/vnd.jupyter.widget-view+json": {
              "model_id": "22445e3f59ec438c8fad038ab92a3ae5",
              "version_minor": 0,
              "version_major": 2
            },
            "text/plain": [
              "Progreso dataset evaluacion (Batches):   0%|          | 0/126 [00:00<?, ?it/s]"
            ]
          },
          "metadata": {}
        },
        {
          "output_type": "stream",
          "name": "stdout",
          "text": [
            "              precision    recall  f1-score   support\n",
            "\n",
            "      normal       0.49      1.00      0.66      1356\n",
            "tuberculosis       0.00      0.00      0.00       325\n",
            "    neumonia       0.00      0.00      0.00       630\n",
            "    covid-19       0.00      0.00      0.00       452\n",
            "\n",
            "    accuracy                           0.49      2763\n",
            "   macro avg       0.12      0.25      0.16      2763\n",
            "weighted avg       0.24      0.49      0.32      2763\n",
            "\n",
            "Valor Función pérdida: 1.386 Precisión: 49.08 %\n",
            "Tiempo de iteración: 0:01:46.613330\n",
            "Época 2\n",
            "-------------------------------\n",
            "## Entrenamiento ##\n"
          ]
        },
        {
          "output_type": "display_data",
          "data": {
            "application/vnd.jupyter.widget-view+json": {
              "model_id": "eb854d5e4f8a4112aff264ca9fb4742c",
              "version_minor": 0,
              "version_major": 2
            },
            "text/plain": [
              "Progreso dataset entrenamiento(batches):   0%|          | 0/670 [00:00<?, ?it/s]"
            ]
          },
          "metadata": {}
        },
        {
          "output_type": "stream",
          "name": "stdout",
          "text": [
            "Valor Función pérdida: 1.388 Precisión: 49.05%  Tasa de aprendizaje: 0.04\n",
            "Tiempo de iteración: 0:28:24.236234\n",
            "## Validación ##\n"
          ]
        },
        {
          "output_type": "display_data",
          "data": {
            "application/vnd.jupyter.widget-view+json": {
              "model_id": "8962341c664245728856112fd21a761a",
              "version_minor": 0,
              "version_major": 2
            },
            "text/plain": [
              "Progreso dataset evaluacion (Batches):   0%|          | 0/126 [00:00<?, ?it/s]"
            ]
          },
          "metadata": {}
        },
        {
          "output_type": "stream",
          "name": "stdout",
          "text": [
            "              precision    recall  f1-score   support\n",
            "\n",
            "      normal       0.49      1.00      0.66      1356\n",
            "tuberculosis       0.00      0.00      0.00       325\n",
            "    neumonia       0.00      0.00      0.00       630\n",
            "    covid-19       0.00      0.00      0.00       452\n",
            "\n",
            "    accuracy                           0.49      2763\n",
            "   macro avg       0.12      0.25      0.16      2763\n",
            "weighted avg       0.24      0.49      0.32      2763\n",
            "\n",
            "Valor Función pérdida: 1.386 Precisión: 49.08 %\n",
            "Tiempo de iteración: 0:01:34.680045\n",
            "Época 3\n",
            "-------------------------------\n",
            "## Entrenamiento ##\n"
          ]
        },
        {
          "output_type": "display_data",
          "data": {
            "application/vnd.jupyter.widget-view+json": {
              "model_id": "2f3345f9343d44669c77ce794ed5c5de",
              "version_minor": 0,
              "version_major": 2
            },
            "text/plain": [
              "Progreso dataset entrenamiento(batches):   0%|          | 0/670 [00:00<?, ?it/s]"
            ]
          },
          "metadata": {}
        }
      ]
    },
    {
      "cell_type": "markdown",
      "metadata": {
        "id": "88a3f02f-19de-48b2-b52d-a7ae3c17b181"
      },
      "source": [
        "# Buscar el LR apropiado"
      ],
      "id": "88a3f02f-19de-48b2-b52d-a7ae3c17b181"
    },
    {
      "cell_type": "code",
      "metadata": {
        "id": "5a08dae0-dd1a-40de-adbd-a7c7bd9e9b32",
        "colab": {
          "base_uri": "https://localhost:8080/",
          "height": 384,
          "referenced_widgets": [
            "41d32299531e4f8491f2da3bf2ff6f8a",
            "7632d98358384ff090021e9b79781340",
            "e7a4e9ba3f724a099e4aefb675343c03",
            "73aaa1f5444c4809a72fe0b9bc49d633",
            "4508af87d9e4470e8b59be0c31b7ad4b",
            "7079619ca9514f2596d8be2cf4a3cd4b",
            "4cdba0da126241b28a3a31bd90955b19",
            "606e6370d2fa49d0b1458297ea270fa4",
            "4f10c3efca40466daaf6837b8ebde11c",
            "03b2e3a821b04bc0a26041512f68fcb0",
            "09262814a47d4e5f82bcbc3e8cd82f58"
          ]
        },
        "outputId": "5286a253-adbd-493e-b4ac-144816096ed9"
      },
      "source": [
        "from torch_lr_finder import LRFinder\n",
        "criterion = nn.CrossEntropyLoss()\n",
        "optimizer = torch.optim.SGD(modelo.parameters(), lr=learning_rate_inicial, momentum=momentum, weight_decay=weight_decay) #Optimizador SGD#torch.optim.Adam(modelo.parameters(), lr=0.1, weight_decay=1e-2)\n",
        "lr_finder = LRFinder(modelo, optimizer, criterion, device=dispositivo)\n",
        "lr_finder.range_test(train_dataloader, val_loader=test_dataloader, end_lr=10, num_iter=100, step_mode=\"linear\")\n",
        "#lr_finder.range_test(train_dataloader, end_lr=10, num_iter=200)\n",
        "lr_finder.plot(log_lr=False)\n",
        "lr_finder.reset()"
      ],
      "id": "5a08dae0-dd1a-40de-adbd-a7c7bd9e9b32",
      "execution_count": 19,
      "outputs": [
        {
          "output_type": "display_data",
          "data": {
            "application/vnd.jupyter.widget-view+json": {
              "model_id": "41d32299531e4f8491f2da3bf2ff6f8a",
              "version_minor": 0,
              "version_major": 2
            },
            "text/plain": [
              "  0%|          | 0/100 [00:00<?, ?it/s]"
            ]
          },
          "metadata": {}
        },
        {
          "output_type": "stream",
          "name": "stdout",
          "text": [
            "Stopping early, the loss has diverged\n",
            "Learning rate search finished. See the graph with {finder_name}.plot()\n",
            "LR suggestion: steepest gradient\n",
            "Failed to compute the gradients, there might not be enough points.\n"
          ]
        },
        {
          "output_type": "display_data",
          "data": {
            "image/png": "[encoded data removed]",
            "text/plain": [
              "<Figure size 432x288 with 1 Axes>"
            ]
          },
          "metadata": {
            "needs_background": "light"
          }
        }
      ]
    },
    {
      "cell_type": "code",
      "metadata": {
        "id": "3ef699b1-f738-4e17-9fa3-116dfa2bc4a6"
      },
      "source": [
        "import gc\n",
        "gc.collect()\n",
        "torch.cuda.empty_cache()"
      ],
      "id": "3ef699b1-f738-4e17-9fa3-116dfa2bc4a6",
      "execution_count": null,
      "outputs": []
    },
    {
      "cell_type": "code",
      "metadata": {
        "id": "hwbY9I3FwEth",
        "colab": {
          "base_uri": "https://localhost:8080/"
        },
        "outputId": "41edbb0b-19cf-4448-e2b4-7445bd52f548"
      },
      "source": [
        "!pip install torch-lr-finder"
      ],
      "id": "hwbY9I3FwEth",
      "execution_count": 18,
      "outputs": [
        {
          "output_type": "stream",
          "name": "stdout",
          "text": [
            "Collecting torch-lr-finder\n",
            "  Downloading torch_lr_finder-0.2.1-py3-none-any.whl (11 kB)\n",
            "Requirement already satisfied: tqdm in /usr/local/lib/python3.7/dist-packages (from torch-lr-finder) (4.62.3)\n",
            "Requirement already satisfied: packaging in /usr/local/lib/python3.7/dist-packages (from torch-lr-finder) (21.3)\n",
            "Requirement already satisfied: matplotlib in /usr/local/lib/python3.7/dist-packages (from torch-lr-finder) (3.5.0)\n",
            "Requirement already satisfied: numpy in /usr/local/lib/python3.7/dist-packages (from torch-lr-finder) (1.19.5)\n",
            "Requirement already satisfied: torch>=0.4.1 in /usr/local/lib/python3.7/dist-packages (from torch-lr-finder) (1.10.0+cu111)\n",
            "Requirement already satisfied: typing-extensions in /usr/local/lib/python3.7/dist-packages (from torch>=0.4.1->torch-lr-finder) (3.10.0.2)\n",
            "Requirement already satisfied: python-dateutil>=2.7 in /usr/local/lib/python3.7/dist-packages (from matplotlib->torch-lr-finder) (2.8.2)\n",
            "Requirement already satisfied: kiwisolver>=1.0.1 in /usr/local/lib/python3.7/dist-packages (from matplotlib->torch-lr-finder) (1.3.2)\n",
            "Requirement already satisfied: pillow>=6.2.0 in /usr/local/lib/python3.7/dist-packages (from matplotlib->torch-lr-finder) (7.1.2)\n",
            "Requirement already satisfied: pyparsing>=2.2.1 in /usr/local/lib/python3.7/dist-packages (from matplotlib->torch-lr-finder) (3.0.6)\n",
            "Requirement already satisfied: setuptools-scm>=4 in /usr/local/lib/python3.7/dist-packages (from matplotlib->torch-lr-finder) (6.3.2)\n",
            "Requirement already satisfied: cycler>=0.10 in /usr/local/lib/python3.7/dist-packages (from matplotlib->torch-lr-finder) (0.11.0)\n",
            "Requirement already satisfied: fonttools>=4.22.0 in /usr/local/lib/python3.7/dist-packages (from matplotlib->torch-lr-finder) (4.28.1)\n",
            "Requirement already satisfied: six>=1.5 in /usr/local/lib/python3.7/dist-packages (from python-dateutil>=2.7->matplotlib->torch-lr-finder) (1.15.0)\n",
            "Requirement already satisfied: setuptools in /usr/local/lib/python3.7/dist-packages (from setuptools-scm>=4->matplotlib->torch-lr-finder) (57.4.0)\n",
            "Requirement already satisfied: tomli>=1.0.0 in /usr/local/lib/python3.7/dist-packages (from setuptools-scm>=4->matplotlib->torch-lr-finder) (1.2.2)\n",
            "Installing collected packages: torch-lr-finder\n",
            "Successfully installed torch-lr-finder-0.2.1\n"
          ]
        }
      ]
    },
    {
      "cell_type": "code",
      "metadata": {
        "id": "KsZgjqIIpeBi"
      },
      "source": [
        ""
      ],
      "id": "KsZgjqIIpeBi",
      "execution_count": null,
      "outputs": []
    }
  ]
}