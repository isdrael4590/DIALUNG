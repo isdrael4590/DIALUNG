{
  "nbformat": 4,
  "nbformat_minor": 5,
  "metadata": {
    "kernelspec": {
      "display_name": "Python 3",
      "language": "python",
      "name": "python3"
    },
    "language_info": {
      "codemirror_mode": {
        "name": "ipython",
        "version": 3
      },
      "file_extension": ".py",
      "mimetype": "text/x-python",
      "name": "python",
      "nbconvert_exporter": "python",
      "pygments_lexer": "ipython3",
      "version": "3.8.8"
    },
    "colab": {
      "name": "cargarDatasetColab.ipynb",
      "provenance": [],
      "collapsed_sections": [],
      "include_colab_link": true
    }
  },
  "cells": [
    {
      "cell_type": "markdown",
      "metadata": {
        "id": "view-in-github",
        "colab_type": "text"
      },
      "source": [
        "<a href=\"https://colab.research.google.com/github/isdrael4590/DIALUNG/blob/main/notebooks/cargarDatasetColab.ipynb\" target=\"_parent\"><img src=\"https://colab.research.google.com/assets/colab-badge.svg\" alt=\"Open In Colab\"/></a>"
      ]
    },
    {
      "cell_type": "markdown",
      "metadata": {
        "id": "NnZZfB3Pz9a7"
      },
      "source": [
        "# Plantilla para cargar el Dataset en Colab\n",
        "\n",
        "Los atributos acordados a usar para el filtrado de los datasets son:\n",
        "\n",
        "- Imágenes con resolución mayor a `(200, 200)`\n",
        "- Formato vertical\n",
        "- Posterior Anterior\n",
        "- Imágenes con condición de Tuberculosis, Neumonia, COVID-19 y normal\n",
        "- Si tiene una condición adyacente, unirla igualmente(Infusiones, Atelectasis, etc.)\n",
        "\n",
        "## Formato DIALUNG\n",
        "\n",
        "El dataset filtrado debe estar en formato DIALUNG, es decir\n",
        "- Primera  columna: `Ruta de la imagen`\n",
        "- Segunda columna: `Condición en  Formato Matemático`\n",
        "\n",
        "Condiciones en formato matematico\n",
        "```python\n",
        "condiciones_formato_matematico = {\n",
        "    0: \"normal\",\n",
        "    1: \"tuberculosis\",\n",
        "    2: \"neumonia\",\n",
        "    3: \"covid-19\"\n",
        "}\n",
        "```\n",
        "\n",
        "**Ejemplo formato DIALUNG:**\n",
        "\n",
        "|image_name                    |condition |\n",
        "|:----------------------------:|:-------:|\n",
        "| Dataset_1/CHNCXR_0025_0.png  |    0    |\n",
        "| Dataset_1/CHNCXR_0270_0.png  |    0    |\n",
        "| Dataset_1/CHNCXR_0055_0.png  |    0    |\n",
        "| Dataset_1/CHNCXR_0410_1.png  |    1    |\n",
        "| Dataset_1/CHNCXR_0076_0.png  |    0    |\n",
        "| Dataset_1/CHNCXR_0645_1.png  |    1    |\n",
        "\n",
        "\n",
        "## Nombre de los archivos que contienen los atributos del dataset\n",
        "\n",
        "- `train.csv` 75% de los datos totales, fuente única de entrenamiento\n",
        "- `test.csv` 15% de los datos totales, fuente para validar el modelo\n",
        "- `val.csv`  10% de los datos totales, fuente para tunear los hiperparámetros\n",
        "\n"
      ],
      "id": "NnZZfB3Pz9a7"
    },
    {
      "cell_type": "markdown",
      "metadata": {
        "id": "UVHvBAsbz9bF"
      },
      "source": [
        "# Cargar los datos del Dataset\n",
        "## Inicializar librerias"
      ],
      "id": "UVHvBAsbz9bF"
    },
    {
      "cell_type": "code",
      "metadata": {
        "id": "BVITRe9Gz9bH"
      },
      "source": [
        "import numpy as np\n",
        "import pandas as pd\n",
        "import os\n",
        "mapa_condiciones = {\n",
        "    0: \"normal\",\n",
        "    1: \"tuberculosis\",\n",
        "    2: \"neumonia\",\n",
        "    3: \"covid-19\"\n",
        "}"
      ],
      "id": "BVITRe9Gz9bH",
      "execution_count": 1,
      "outputs": []
    },
    {
      "cell_type": "markdown",
      "metadata": {
        "id": "wnrteyxwaa8l"
      },
      "source": [
        "## Instalar la librería TorchIO\n",
        "Librería para la manipulación y aumentación de imágenes médicas, link [TorchIO](https://github.com/fepegar/torchio)"
      ],
      "id": "wnrteyxwaa8l"
    },
    {
      "cell_type": "code",
      "metadata": {
        "colab": {
          "base_uri": "https://localhost:8080/"
        },
        "id": "_z-_rBLCaaiX",
        "outputId": "a313ea90-7f6e-4344-87bf-0196a5e27027"
      },
      "source": [
        "!pip install torchio"
      ],
      "id": "_z-_rBLCaaiX",
      "execution_count": 2,
      "outputs": [
        {
          "output_type": "stream",
          "name": "stdout",
          "text": [
            "Requirement already satisfied: torchio in /usr/local/lib/python3.7/dist-packages (0.18.57)\n",
            "Requirement already satisfied: SimpleITK!=2.0.* in /usr/local/lib/python3.7/dist-packages (from torchio) (2.1.1)\n",
            "Requirement already satisfied: click in /usr/local/lib/python3.7/dist-packages (from torchio) (7.1.2)\n",
            "Requirement already satisfied: Deprecated in /usr/local/lib/python3.7/dist-packages (from torchio) (1.2.13)\n",
            "Requirement already satisfied: scipy in /usr/local/lib/python3.7/dist-packages (from torchio) (1.4.1)\n",
            "Requirement already satisfied: torch>=1.1 in /usr/local/lib/python3.7/dist-packages (from torchio) (1.9.0+cu102)\n",
            "Requirement already satisfied: tqdm in /usr/local/lib/python3.7/dist-packages (from torchio) (4.62.3)\n",
            "Requirement already satisfied: humanize in /usr/local/lib/python3.7/dist-packages (from torchio) (0.5.1)\n",
            "Requirement already satisfied: nibabel in /usr/local/lib/python3.7/dist-packages (from torchio) (3.0.2)\n",
            "Requirement already satisfied: numpy>=1.15 in /usr/local/lib/python3.7/dist-packages (from torchio) (1.19.5)\n",
            "Requirement already satisfied: typing-extensions in /usr/local/lib/python3.7/dist-packages (from torch>=1.1->torchio) (3.7.4.3)\n",
            "Requirement already satisfied: wrapt<2,>=1.10 in /usr/local/lib/python3.7/dist-packages (from Deprecated->torchio) (1.12.1)\n"
          ]
        }
      ]
    },
    {
      "cell_type": "markdown",
      "metadata": {
        "id": "kvkGQdrez9bK"
      },
      "source": [
        "## Código de carga del dataset\n",
        "### Abrir la cuenta de Google\n",
        "\n",
        "Primero que todo, hay que dar acceso a la cuenta de Google que almacena el Dataset"
      ],
      "id": "kvkGQdrez9bK"
    },
    {
      "cell_type": "code",
      "metadata": {
        "colab": {
          "base_uri": "https://localhost:8080/"
        },
        "id": "FCnrIUhDz9bL",
        "outputId": "94efe198-c9e3-4ea9-c2c3-575931320d31"
      },
      "source": [
        "from google.colab import drive\n",
        "drive.mount('/content/drive')"
      ],
      "id": "FCnrIUhDz9bL",
      "execution_count": 3,
      "outputs": [
        {
          "output_type": "stream",
          "name": "stdout",
          "text": [
            "Drive already mounted at /content/drive; to attempt to forcibly remount, call drive.mount(\"/content/drive\", force_remount=True).\n"
          ]
        }
      ]
    },
    {
      "cell_type": "markdown",
      "metadata": {
        "id": "8BtYIxyY2SzW"
      },
      "source": [
        "### Cambiar de directorio\n",
        "Cambiamos de directorio, hacia la carpeta que contiene el Dataset"
      ],
      "id": "8BtYIxyY2SzW"
    },
    {
      "cell_type": "code",
      "metadata": {
        "colab": {
          "base_uri": "https://localhost:8080/"
        },
        "id": "tMxIFDHR2TKp",
        "outputId": "7f581ecd-288d-4a7e-8eed-24a8b739f0cf"
      },
      "source": [
        "%cd /content/drive/My\\ Drive/ProyectoDIALUNG/"
      ],
      "id": "tMxIFDHR2TKp",
      "execution_count": 4,
      "outputs": [
        {
          "output_type": "stream",
          "name": "stdout",
          "text": [
            "/content/drive/My Drive/ProyectoDIALUNG\n"
          ]
        }
      ]
    },
    {
      "cell_type": "markdown",
      "metadata": {
        "id": "aES9aUBZz9bP"
      },
      "source": [
        "## Cargar los archivos pandas\n"
      ],
      "id": "aES9aUBZz9bP"
    },
    {
      "cell_type": "code",
      "metadata": {
        "id": "BgApwiWlz9bQ"
      },
      "source": [
        "direccion_dataset_imagenes = \"DIALUNG-Datasets/\"\n",
        "dataset_train = pd.read_csv(os.path.join(direccion_dataset_imagenes, \"train.csv\"), index_col = 0) #Cargo el archivo de train y el index es la primera columna\n",
        "dataset_test = pd.read_csv(os.path.join(direccion_dataset_imagenes, \"test.csv\"), index_col = 0)\n",
        "dataset_val = pd.read_csv(os.path.join(direccion_dataset_imagenes, \"val.csv\"), index_col = 0)\n"
      ],
      "id": "BgApwiWlz9bQ",
      "execution_count": 5,
      "outputs": []
    },
    {
      "cell_type": "markdown",
      "metadata": {
        "id": "tLmw3vaCeEYd"
      },
      "source": [
        "## Verificar los archivos pandas (Opcional)\n",
        "Este código verifica el número y la existencia de los archivos de los datasets y que cumplan en formato DIALUNG"
      ],
      "id": "tLmw3vaCeEYd"
    },
    {
      "cell_type": "code",
      "metadata": {
        "colab": {
          "base_uri": "https://localhost:8080/"
        },
        "id": "lDkGE8l-eStN",
        "outputId": "50ea80e0-a7d5-4229-d2ee-180ae0cbb797"
      },
      "source": [
        "def verificar_dataset(df_dataset, nombre):\n",
        "  condiciones_formato_matematico = mapa_condiciones.keys()\n",
        "  novedades = False\n",
        "  for elemento in df_dataset.iterrows():\n",
        "    #Compruebo que el elemento esté en la carpeta\n",
        "    elemento = elemento[1]\n",
        "    ruta_elemento = os.path.join(direccion_dataset_imagenes, elemento[\"image_name\"])\n",
        "    if not os.path.exists(ruta_elemento):\n",
        "      novedades = True\n",
        "      print(\"Elemento {} no existe en el directorio {} por favor, verifique antes de cargar el DataLoader\".format(elemento[\"image_name\"], ruta_elemento))\n",
        "    #Compruebo que la condicion sea valida\n",
        "    if not int(elemento[\"condition\"]) in condiciones_formato_matematico:\n",
        "      print(\"Elemento {} tiene mal asignada la condicion, verifique antes de cargar al DataLoader\".format(elemento))\n",
        "      novedades = True\n",
        "  if novedades:\n",
        "    print(\"El DataFrame {} presenta novedades\".format(nombre))\n",
        "  else:\n",
        "    print(\"La verificación del DataFrame {} ha concluido exitosamente sin errores\".format(nombre))\n",
        "\n",
        "verificar_dataset(dataset_train, \"train\")\n",
        "verificar_dataset(dataset_test, \"test\")\n",
        "verificar_dataset(dataset_val, \"val\")"
      ],
      "id": "lDkGE8l-eStN",
      "execution_count": 6,
      "outputs": [
        {
          "output_type": "stream",
          "name": "stdout",
          "text": [
            "Elemento Tuberculosis(TB) CHEST X-RAY DATABASE Filtrado/Normal/Normal-709.png no existe en el directorio DIALUNG-Datasets/Tuberculosis(TB) CHEST X-RAY DATABASE Filtrado/Normal/Normal-709.png por favor, verifique antes de cargar el DataLoader\n",
            "Elemento Tuberculosis(TB) CHEST X-RAY DATABASE Filtrado/Normal/Normal-2535.png no existe en el directorio DIALUNG-Datasets/Tuberculosis(TB) CHEST X-RAY DATABASE Filtrado/Normal/Normal-2535.png por favor, verifique antes de cargar el DataLoader\n",
            "Elemento Tuberculosis(TB) CHEST X-RAY DATABASE Filtrado/Normal/Normal-2523.png no existe en el directorio DIALUNG-Datasets/Tuberculosis(TB) CHEST X-RAY DATABASE Filtrado/Normal/Normal-2523.png por favor, verifique antes de cargar el DataLoader\n",
            "Elemento Tuberculosis(TB) CHEST X-RAY DATABASE Filtrado/Normal/Normal-1715.png no existe en el directorio DIALUNG-Datasets/Tuberculosis(TB) CHEST X-RAY DATABASE Filtrado/Normal/Normal-1715.png por favor, verifique antes de cargar el DataLoader\n",
            "Elemento Tuberculosis(TB) CHEST X-RAY DATABASE Filtrado/Normal/Normal-487.png no existe en el directorio DIALUNG-Datasets/Tuberculosis(TB) CHEST X-RAY DATABASE Filtrado/Normal/Normal-487.png por favor, verifique antes de cargar el DataLoader\n",
            "Elemento Tuberculosis(TB) CHEST X-RAY DATABASE Filtrado/Normal/Normal-461.png no existe en el directorio DIALUNG-Datasets/Tuberculosis(TB) CHEST X-RAY DATABASE Filtrado/Normal/Normal-461.png por favor, verifique antes de cargar el DataLoader\n",
            "Elemento Tuberculosis(TB) CHEST X-RAY DATABASE Filtrado/Normal/Normal-82.png no existe en el directorio DIALUNG-Datasets/Tuberculosis(TB) CHEST X-RAY DATABASE Filtrado/Normal/Normal-82.png por favor, verifique antes de cargar el DataLoader\n",
            "Elemento Tuberculosis(TB) CHEST X-RAY DATABASE Filtrado/Normal/Normal-536.png no existe en el directorio DIALUNG-Datasets/Tuberculosis(TB) CHEST X-RAY DATABASE Filtrado/Normal/Normal-536.png por favor, verifique antes de cargar el DataLoader\n",
            "Elemento Tuberculosis(TB) CHEST X-RAY DATABASE Filtrado/Normal/Normal-568.png no existe en el directorio DIALUNG-Datasets/Tuberculosis(TB) CHEST X-RAY DATABASE Filtrado/Normal/Normal-568.png por favor, verifique antes de cargar el DataLoader\n",
            "Elemento Tuberculosis(TB) CHEST X-RAY DATABASE Filtrado/Normal/Normal-1224.png no existe en el directorio DIALUNG-Datasets/Tuberculosis(TB) CHEST X-RAY DATABASE Filtrado/Normal/Normal-1224.png por favor, verifique antes de cargar el DataLoader\n",
            "Elemento Tuberculosis(TB) CHEST X-RAY DATABASE Filtrado/Normal/Normal-740.png no existe en el directorio DIALUNG-Datasets/Tuberculosis(TB) CHEST X-RAY DATABASE Filtrado/Normal/Normal-740.png por favor, verifique antes de cargar el DataLoader\n",
            "Elemento Tuberculosis(TB) CHEST X-RAY DATABASE Filtrado/Normal/Normal-1608.png no existe en el directorio DIALUNG-Datasets/Tuberculosis(TB) CHEST X-RAY DATABASE Filtrado/Normal/Normal-1608.png por favor, verifique antes de cargar el DataLoader\n",
            "Elemento Tuberculosis(TB) CHEST X-RAY DATABASE Filtrado/Normal/Normal-1745.png no existe en el directorio DIALUNG-Datasets/Tuberculosis(TB) CHEST X-RAY DATABASE Filtrado/Normal/Normal-1745.png por favor, verifique antes de cargar el DataLoader\n",
            "Elemento Tuberculosis(TB) CHEST X-RAY DATABASE Filtrado/Normal/Normal-1124.png no existe en el directorio DIALUNG-Datasets/Tuberculosis(TB) CHEST X-RAY DATABASE Filtrado/Normal/Normal-1124.png por favor, verifique antes de cargar el DataLoader\n",
            "Elemento Tuberculosis(TB) CHEST X-RAY DATABASE Filtrado/Normal/Normal-3145.png no existe en el directorio DIALUNG-Datasets/Tuberculosis(TB) CHEST X-RAY DATABASE Filtrado/Normal/Normal-3145.png por favor, verifique antes de cargar el DataLoader\n",
            "Elemento Tuberculosis(TB) CHEST X-RAY DATABASE Filtrado/Normal/Normal-3455.png no existe en el directorio DIALUNG-Datasets/Tuberculosis(TB) CHEST X-RAY DATABASE Filtrado/Normal/Normal-3455.png por favor, verifique antes de cargar el DataLoader\n",
            "Elemento Tuberculosis(TB) CHEST X-RAY DATABASE Filtrado/Normal/Normal-2990.png no existe en el directorio DIALUNG-Datasets/Tuberculosis(TB) CHEST X-RAY DATABASE Filtrado/Normal/Normal-2990.png por favor, verifique antes de cargar el DataLoader\n",
            "Elemento Tuberculosis(TB) CHEST X-RAY DATABASE Filtrado/Normal/Normal-3168.png no existe en el directorio DIALUNG-Datasets/Tuberculosis(TB) CHEST X-RAY DATABASE Filtrado/Normal/Normal-3168.png por favor, verifique antes de cargar el DataLoader\n",
            "Elemento Tuberculosis(TB) CHEST X-RAY DATABASE Filtrado/Normal/Normal-43.png no existe en el directorio DIALUNG-Datasets/Tuberculosis(TB) CHEST X-RAY DATABASE Filtrado/Normal/Normal-43.png por favor, verifique antes de cargar el DataLoader\n",
            "Elemento Tuberculosis(TB) CHEST X-RAY DATABASE Filtrado/Normal/Normal-37.png no existe en el directorio DIALUNG-Datasets/Tuberculosis(TB) CHEST X-RAY DATABASE Filtrado/Normal/Normal-37.png por favor, verifique antes de cargar el DataLoader\n",
            "Elemento Tuberculosis(TB) CHEST X-RAY DATABASE Filtrado/Normal/Normal-3122.png no existe en el directorio DIALUNG-Datasets/Tuberculosis(TB) CHEST X-RAY DATABASE Filtrado/Normal/Normal-3122.png por favor, verifique antes de cargar el DataLoader\n",
            "Elemento Tuberculosis(TB) CHEST X-RAY DATABASE Filtrado/Normal/Normal-3181.png no existe en el directorio DIALUNG-Datasets/Tuberculosis(TB) CHEST X-RAY DATABASE Filtrado/Normal/Normal-3181.png por favor, verifique antes de cargar el DataLoader\n",
            "Elemento Tuberculosis(TB) CHEST X-RAY DATABASE Filtrado/Normal/Normal-891.png no existe en el directorio DIALUNG-Datasets/Tuberculosis(TB) CHEST X-RAY DATABASE Filtrado/Normal/Normal-891.png por favor, verifique antes de cargar el DataLoader\n",
            "Elemento Tuberculosis(TB) CHEST X-RAY DATABASE Filtrado/Normal/Normal-2935.png no existe en el directorio DIALUNG-Datasets/Tuberculosis(TB) CHEST X-RAY DATABASE Filtrado/Normal/Normal-2935.png por favor, verifique antes de cargar el DataLoader\n",
            "Elemento Tuberculosis(TB) CHEST X-RAY DATABASE Filtrado/Normal/Normal-3450.png no existe en el directorio DIALUNG-Datasets/Tuberculosis(TB) CHEST X-RAY DATABASE Filtrado/Normal/Normal-3450.png por favor, verifique antes de cargar el DataLoader\n",
            "Elemento Tuberculosis(TB) CHEST X-RAY DATABASE Filtrado/Normal/Normal-2384.png no existe en el directorio DIALUNG-Datasets/Tuberculosis(TB) CHEST X-RAY DATABASE Filtrado/Normal/Normal-2384.png por favor, verifique antes de cargar el DataLoader\n",
            "Elemento Tuberculosis(TB) CHEST X-RAY DATABASE Filtrado/Normal/Normal-1790.png no existe en el directorio DIALUNG-Datasets/Tuberculosis(TB) CHEST X-RAY DATABASE Filtrado/Normal/Normal-1790.png por favor, verifique antes de cargar el DataLoader\n",
            "Elemento Tuberculosis(TB) CHEST X-RAY DATABASE Filtrado/Normal/Normal-3337.png no existe en el directorio DIALUNG-Datasets/Tuberculosis(TB) CHEST X-RAY DATABASE Filtrado/Normal/Normal-3337.png por favor, verifique antes de cargar el DataLoader\n",
            "Elemento Tuberculosis(TB) CHEST X-RAY DATABASE Filtrado/Normal/Normal-3472.png no existe en el directorio DIALUNG-Datasets/Tuberculosis(TB) CHEST X-RAY DATABASE Filtrado/Normal/Normal-3472.png por favor, verifique antes de cargar el DataLoader\n",
            "Elemento Tuberculosis(TB) CHEST X-RAY DATABASE Filtrado/Normal/Normal-3242.png no existe en el directorio DIALUNG-Datasets/Tuberculosis(TB) CHEST X-RAY DATABASE Filtrado/Normal/Normal-3242.png por favor, verifique antes de cargar el DataLoader\n",
            "Elemento Tuberculosis(TB) CHEST X-RAY DATABASE Filtrado/Normal/Normal-2328.png no existe en el directorio DIALUNG-Datasets/Tuberculosis(TB) CHEST X-RAY DATABASE Filtrado/Normal/Normal-2328.png por favor, verifique antes de cargar el DataLoader\n",
            "Elemento Tuberculosis(TB) CHEST X-RAY DATABASE Filtrado/Normal/Normal-261.png no existe en el directorio DIALUNG-Datasets/Tuberculosis(TB) CHEST X-RAY DATABASE Filtrado/Normal/Normal-261.png por favor, verifique antes de cargar el DataLoader\n",
            "Elemento Tuberculosis(TB) CHEST X-RAY DATABASE Filtrado/Normal/Normal-1564.png no existe en el directorio DIALUNG-Datasets/Tuberculosis(TB) CHEST X-RAY DATABASE Filtrado/Normal/Normal-1564.png por favor, verifique antes de cargar el DataLoader\n",
            "Elemento Tuberculosis(TB) CHEST X-RAY DATABASE Filtrado/Normal/Normal-1489.png no existe en el directorio DIALUNG-Datasets/Tuberculosis(TB) CHEST X-RAY DATABASE Filtrado/Normal/Normal-1489.png por favor, verifique antes de cargar el DataLoader\n",
            "Elemento Tuberculosis(TB) CHEST X-RAY DATABASE Filtrado/Normal/Normal-2212.png no existe en el directorio DIALUNG-Datasets/Tuberculosis(TB) CHEST X-RAY DATABASE Filtrado/Normal/Normal-2212.png por favor, verifique antes de cargar el DataLoader\n",
            "Elemento Tuberculosis(TB) CHEST X-RAY DATABASE Filtrado/Normal/Normal-1328.png no existe en el directorio DIALUNG-Datasets/Tuberculosis(TB) CHEST X-RAY DATABASE Filtrado/Normal/Normal-1328.png por favor, verifique antes de cargar el DataLoader\n",
            "Elemento Tuberculosis(TB) CHEST X-RAY DATABASE Filtrado/Normal/Normal-2386.png no existe en el directorio DIALUNG-Datasets/Tuberculosis(TB) CHEST X-RAY DATABASE Filtrado/Normal/Normal-2386.png por favor, verifique antes de cargar el DataLoader\n",
            "Elemento Tuberculosis(TB) CHEST X-RAY DATABASE Filtrado/Normal/Normal-2466.png no existe en el directorio DIALUNG-Datasets/Tuberculosis(TB) CHEST X-RAY DATABASE Filtrado/Normal/Normal-2466.png por favor, verifique antes de cargar el DataLoader\n",
            "Elemento Tuberculosis(TB) CHEST X-RAY DATABASE Filtrado/Normal/Normal-3345.png no existe en el directorio DIALUNG-Datasets/Tuberculosis(TB) CHEST X-RAY DATABASE Filtrado/Normal/Normal-3345.png por favor, verifique antes de cargar el DataLoader\n",
            "Elemento Tuberculosis(TB) CHEST X-RAY DATABASE Filtrado/Normal/Normal-510.png no existe en el directorio DIALUNG-Datasets/Tuberculosis(TB) CHEST X-RAY DATABASE Filtrado/Normal/Normal-510.png por favor, verifique antes de cargar el DataLoader\n",
            "Elemento Tuberculosis(TB) CHEST X-RAY DATABASE Filtrado/Normal/Normal-2607.png no existe en el directorio DIALUNG-Datasets/Tuberculosis(TB) CHEST X-RAY DATABASE Filtrado/Normal/Normal-2607.png por favor, verifique antes de cargar el DataLoader\n",
            "Elemento Tuberculosis(TB) CHEST X-RAY DATABASE Filtrado/Normal/Normal-88.png no existe en el directorio DIALUNG-Datasets/Tuberculosis(TB) CHEST X-RAY DATABASE Filtrado/Normal/Normal-88.png por favor, verifique antes de cargar el DataLoader\n",
            "Elemento Tuberculosis(TB) CHEST X-RAY DATABASE Filtrado/Normal/Normal-1708.png no existe en el directorio DIALUNG-Datasets/Tuberculosis(TB) CHEST X-RAY DATABASE Filtrado/Normal/Normal-1708.png por favor, verifique antes de cargar el DataLoader\n",
            "Elemento Tuberculosis(TB) CHEST X-RAY DATABASE Filtrado/Normal/Normal-2008.png no existe en el directorio DIALUNG-Datasets/Tuberculosis(TB) CHEST X-RAY DATABASE Filtrado/Normal/Normal-2008.png por favor, verifique antes de cargar el DataLoader\n",
            "Elemento Tuberculosis(TB) CHEST X-RAY DATABASE Filtrado/Normal/Normal-2663.png no existe en el directorio DIALUNG-Datasets/Tuberculosis(TB) CHEST X-RAY DATABASE Filtrado/Normal/Normal-2663.png por favor, verifique antes de cargar el DataLoader\n",
            "Elemento Tuberculosis(TB) CHEST X-RAY DATABASE Filtrado/Normal/Normal-2260.png no existe en el directorio DIALUNG-Datasets/Tuberculosis(TB) CHEST X-RAY DATABASE Filtrado/Normal/Normal-2260.png por favor, verifique antes de cargar el DataLoader\n",
            "Elemento Tuberculosis(TB) CHEST X-RAY DATABASE Filtrado/Normal/Normal-165.png no existe en el directorio DIALUNG-Datasets/Tuberculosis(TB) CHEST X-RAY DATABASE Filtrado/Normal/Normal-165.png por favor, verifique antes de cargar el DataLoader\n",
            "Elemento Tuberculosis(TB) CHEST X-RAY DATABASE Filtrado/Normal/Normal-2995.png no existe en el directorio DIALUNG-Datasets/Tuberculosis(TB) CHEST X-RAY DATABASE Filtrado/Normal/Normal-2995.png por favor, verifique antes de cargar el DataLoader\n",
            "Elemento Tuberculosis(TB) CHEST X-RAY DATABASE Filtrado/Normal/Normal-3002.png no existe en el directorio DIALUNG-Datasets/Tuberculosis(TB) CHEST X-RAY DATABASE Filtrado/Normal/Normal-3002.png por favor, verifique antes de cargar el DataLoader\n",
            "El DataFrame train presenta novedades\n",
            "Elemento Tuberculosis(TB) CHEST X-RAY DATABASE Filtrado/Normal/Normal-3145.png no existe en el directorio DIALUNG-Datasets/Tuberculosis(TB) CHEST X-RAY DATABASE Filtrado/Normal/Normal-3145.png por favor, verifique antes de cargar el DataLoader\n",
            "Elemento Tuberculosis(TB) CHEST X-RAY DATABASE Filtrado/Normal/Normal-2983.png no existe en el directorio DIALUNG-Datasets/Tuberculosis(TB) CHEST X-RAY DATABASE Filtrado/Normal/Normal-2983.png por favor, verifique antes de cargar el DataLoader\n",
            "Elemento Tuberculosis(TB) CHEST X-RAY DATABASE Filtrado/Normal/Normal-2523.png no existe en el directorio DIALUNG-Datasets/Tuberculosis(TB) CHEST X-RAY DATABASE Filtrado/Normal/Normal-2523.png por favor, verifique antes de cargar el DataLoader\n",
            "Elemento Tuberculosis(TB) CHEST X-RAY DATABASE Filtrado/Normal/Normal-3181.png no existe en el directorio DIALUNG-Datasets/Tuberculosis(TB) CHEST X-RAY DATABASE Filtrado/Normal/Normal-3181.png por favor, verifique antes de cargar el DataLoader\n",
            "Elemento Tuberculosis(TB) CHEST X-RAY DATABASE Filtrado/Normal/Normal-1224.png no existe en el directorio DIALUNG-Datasets/Tuberculosis(TB) CHEST X-RAY DATABASE Filtrado/Normal/Normal-1224.png por favor, verifique antes de cargar el DataLoader\n",
            "Elemento Tuberculosis(TB) CHEST X-RAY DATABASE Filtrado/Normal/Normal-165.png no existe en el directorio DIALUNG-Datasets/Tuberculosis(TB) CHEST X-RAY DATABASE Filtrado/Normal/Normal-165.png por favor, verifique antes de cargar el DataLoader\n",
            "Elemento Tuberculosis(TB) CHEST X-RAY DATABASE Filtrado/Normal/Normal-2654.png no existe en el directorio DIALUNG-Datasets/Tuberculosis(TB) CHEST X-RAY DATABASE Filtrado/Normal/Normal-2654.png por favor, verifique antes de cargar el DataLoader\n",
            "Elemento Tuberculosis(TB) CHEST X-RAY DATABASE Filtrado/Normal/Normal-2607.png no existe en el directorio DIALUNG-Datasets/Tuberculosis(TB) CHEST X-RAY DATABASE Filtrado/Normal/Normal-2607.png por favor, verifique antes de cargar el DataLoader\n",
            "Elemento Tuberculosis(TB) CHEST X-RAY DATABASE Filtrado/Normal/Normal-461.png no existe en el directorio DIALUNG-Datasets/Tuberculosis(TB) CHEST X-RAY DATABASE Filtrado/Normal/Normal-461.png por favor, verifique antes de cargar el DataLoader\n",
            "Elemento Tuberculosis(TB) CHEST X-RAY DATABASE Filtrado/Normal/Normal-510.png no existe en el directorio DIALUNG-Datasets/Tuberculosis(TB) CHEST X-RAY DATABASE Filtrado/Normal/Normal-510.png por favor, verifique antes de cargar el DataLoader\n",
            "Elemento Tuberculosis(TB) CHEST X-RAY DATABASE Filtrado/Normal/Normal-1715.png no existe en el directorio DIALUNG-Datasets/Tuberculosis(TB) CHEST X-RAY DATABASE Filtrado/Normal/Normal-1715.png por favor, verifique antes de cargar el DataLoader\n",
            "Elemento Tuberculosis(TB) CHEST X-RAY DATABASE Filtrado/Normal/Normal-1124.png no existe en el directorio DIALUNG-Datasets/Tuberculosis(TB) CHEST X-RAY DATABASE Filtrado/Normal/Normal-1124.png por favor, verifique antes de cargar el DataLoader\n",
            "Elemento Tuberculosis(TB) CHEST X-RAY DATABASE Filtrado/Normal/Normal-1608.png no existe en el directorio DIALUNG-Datasets/Tuberculosis(TB) CHEST X-RAY DATABASE Filtrado/Normal/Normal-1608.png por favor, verifique antes de cargar el DataLoader\n",
            "Elemento Tuberculosis(TB) CHEST X-RAY DATABASE Filtrado/Normal/Normal-2418.png no existe en el directorio DIALUNG-Datasets/Tuberculosis(TB) CHEST X-RAY DATABASE Filtrado/Normal/Normal-2418.png por favor, verifique antes de cargar el DataLoader\n",
            "Elemento Tuberculosis(TB) CHEST X-RAY DATABASE Filtrado/Normal/Normal-3450.png no existe en el directorio DIALUNG-Datasets/Tuberculosis(TB) CHEST X-RAY DATABASE Filtrado/Normal/Normal-3450.png por favor, verifique antes de cargar el DataLoader\n",
            "Elemento Tuberculosis(TB) CHEST X-RAY DATABASE Filtrado/Normal/Normal-43.png no existe en el directorio DIALUNG-Datasets/Tuberculosis(TB) CHEST X-RAY DATABASE Filtrado/Normal/Normal-43.png por favor, verifique antes de cargar el DataLoader\n",
            "Elemento Tuberculosis(TB) CHEST X-RAY DATABASE Filtrado/Normal/Normal-490.png no existe en el directorio DIALUNG-Datasets/Tuberculosis(TB) CHEST X-RAY DATABASE Filtrado/Normal/Normal-490.png por favor, verifique antes de cargar el DataLoader\n",
            "Elemento Tuberculosis(TB) CHEST X-RAY DATABASE Filtrado/Normal/Normal-3345.png no existe en el directorio DIALUNG-Datasets/Tuberculosis(TB) CHEST X-RAY DATABASE Filtrado/Normal/Normal-3345.png por favor, verifique antes de cargar el DataLoader\n",
            "Elemento Tuberculosis(TB) CHEST X-RAY DATABASE Filtrado/Normal/Normal-1489.png no existe en el directorio DIALUNG-Datasets/Tuberculosis(TB) CHEST X-RAY DATABASE Filtrado/Normal/Normal-1489.png por favor, verifique antes de cargar el DataLoader\n",
            "Elemento Tuberculosis(TB) CHEST X-RAY DATABASE Filtrado/Normal/Normal-88.png no existe en el directorio DIALUNG-Datasets/Tuberculosis(TB) CHEST X-RAY DATABASE Filtrado/Normal/Normal-88.png por favor, verifique antes de cargar el DataLoader\n",
            "Elemento Tuberculosis(TB) CHEST X-RAY DATABASE Filtrado/Normal/Normal-709.png no existe en el directorio DIALUNG-Datasets/Tuberculosis(TB) CHEST X-RAY DATABASE Filtrado/Normal/Normal-709.png por favor, verifique antes de cargar el DataLoader\n",
            "Elemento Tuberculosis(TB) CHEST X-RAY DATABASE Filtrado/Normal/Normal-3168.png no existe en el directorio DIALUNG-Datasets/Tuberculosis(TB) CHEST X-RAY DATABASE Filtrado/Normal/Normal-3168.png por favor, verifique antes de cargar el DataLoader\n",
            "Elemento Tuberculosis(TB) CHEST X-RAY DATABASE Filtrado/Normal/Normal-2466.png no existe en el directorio DIALUNG-Datasets/Tuberculosis(TB) CHEST X-RAY DATABASE Filtrado/Normal/Normal-2466.png por favor, verifique antes de cargar el DataLoader\n",
            "Elemento Tuberculosis(TB) CHEST X-RAY DATABASE Filtrado/Normal/Normal-1552.png no existe en el directorio DIALUNG-Datasets/Tuberculosis(TB) CHEST X-RAY DATABASE Filtrado/Normal/Normal-1552.png por favor, verifique antes de cargar el DataLoader\n",
            "Elemento Tuberculosis(TB) CHEST X-RAY DATABASE Filtrado/Normal/Normal-2990.png no existe en el directorio DIALUNG-Datasets/Tuberculosis(TB) CHEST X-RAY DATABASE Filtrado/Normal/Normal-2990.png por favor, verifique antes de cargar el DataLoader\n",
            "Elemento Tuberculosis(TB) CHEST X-RAY DATABASE Filtrado/Normal/Normal-2008.png no existe en el directorio DIALUNG-Datasets/Tuberculosis(TB) CHEST X-RAY DATABASE Filtrado/Normal/Normal-2008.png por favor, verifique antes de cargar el DataLoader\n",
            "Elemento Tuberculosis(TB) CHEST X-RAY DATABASE Filtrado/Normal/Normal-2386.png no existe en el directorio DIALUNG-Datasets/Tuberculosis(TB) CHEST X-RAY DATABASE Filtrado/Normal/Normal-2386.png por favor, verifique antes de cargar el DataLoader\n",
            "Elemento Tuberculosis(TB) CHEST X-RAY DATABASE Filtrado/Normal/Normal-1539.png no existe en el directorio DIALUNG-Datasets/Tuberculosis(TB) CHEST X-RAY DATABASE Filtrado/Normal/Normal-1539.png por favor, verifique antes de cargar el DataLoader\n",
            "Elemento Tuberculosis(TB) CHEST X-RAY DATABASE Filtrado/Normal/Normal-740.png no existe en el directorio DIALUNG-Datasets/Tuberculosis(TB) CHEST X-RAY DATABASE Filtrado/Normal/Normal-740.png por favor, verifique antes de cargar el DataLoader\n",
            "Elemento Tuberculosis(TB) CHEST X-RAY DATABASE Filtrado/Normal/Normal-3472.png no existe en el directorio DIALUNG-Datasets/Tuberculosis(TB) CHEST X-RAY DATABASE Filtrado/Normal/Normal-3472.png por favor, verifique antes de cargar el DataLoader\n",
            "Elemento Tuberculosis(TB) CHEST X-RAY DATABASE Filtrado/Normal/Normal-568.png no existe en el directorio DIALUNG-Datasets/Tuberculosis(TB) CHEST X-RAY DATABASE Filtrado/Normal/Normal-568.png por favor, verifique antes de cargar el DataLoader\n",
            "Elemento Tuberculosis(TB) CHEST X-RAY DATABASE Filtrado/Normal/Normal-82.png no existe en el directorio DIALUNG-Datasets/Tuberculosis(TB) CHEST X-RAY DATABASE Filtrado/Normal/Normal-82.png por favor, verifique antes de cargar el DataLoader\n",
            "El DataFrame test presenta novedades\n",
            "Elemento Tuberculosis(TB) CHEST X-RAY DATABASE Filtrado/Normal/Normal-2212.png no existe en el directorio DIALUNG-Datasets/Tuberculosis(TB) CHEST X-RAY DATABASE Filtrado/Normal/Normal-2212.png por favor, verifique antes de cargar el DataLoader\n",
            "Elemento Tuberculosis(TB) CHEST X-RAY DATABASE Filtrado/Normal/Normal-1049.png no existe en el directorio DIALUNG-Datasets/Tuberculosis(TB) CHEST X-RAY DATABASE Filtrado/Normal/Normal-1049.png por favor, verifique antes de cargar el DataLoader\n",
            "Elemento Tuberculosis(TB) CHEST X-RAY DATABASE Filtrado/Normal/Normal-2384.png no existe en el directorio DIALUNG-Datasets/Tuberculosis(TB) CHEST X-RAY DATABASE Filtrado/Normal/Normal-2384.png por favor, verifique antes de cargar el DataLoader\n",
            "Elemento Tuberculosis(TB) CHEST X-RAY DATABASE Filtrado/Normal/Normal-3122.png no existe en el directorio DIALUNG-Datasets/Tuberculosis(TB) CHEST X-RAY DATABASE Filtrado/Normal/Normal-3122.png por favor, verifique antes de cargar el DataLoader\n",
            "Elemento Tuberculosis(TB) CHEST X-RAY DATABASE Filtrado/Normal/Normal-3455.png no existe en el directorio DIALUNG-Datasets/Tuberculosis(TB) CHEST X-RAY DATABASE Filtrado/Normal/Normal-3455.png por favor, verifique antes de cargar el DataLoader\n",
            "Elemento Tuberculosis(TB) CHEST X-RAY DATABASE Filtrado/Normal/Normal-2328.png no existe en el directorio DIALUNG-Datasets/Tuberculosis(TB) CHEST X-RAY DATABASE Filtrado/Normal/Normal-2328.png por favor, verifique antes de cargar el DataLoader\n",
            "Elemento Tuberculosis(TB) CHEST X-RAY DATABASE Filtrado/Normal/Normal-1564.png no existe en el directorio DIALUNG-Datasets/Tuberculosis(TB) CHEST X-RAY DATABASE Filtrado/Normal/Normal-1564.png por favor, verifique antes de cargar el DataLoader\n",
            "Elemento Tuberculosis(TB) CHEST X-RAY DATABASE Filtrado/Normal/Normal-1708.png no existe en el directorio DIALUNG-Datasets/Tuberculosis(TB) CHEST X-RAY DATABASE Filtrado/Normal/Normal-1708.png por favor, verifique antes de cargar el DataLoader\n",
            "Elemento Tuberculosis(TB) CHEST X-RAY DATABASE Filtrado/Normal/Normal-2260.png no existe en el directorio DIALUNG-Datasets/Tuberculosis(TB) CHEST X-RAY DATABASE Filtrado/Normal/Normal-2260.png por favor, verifique antes de cargar el DataLoader\n",
            "Elemento Tuberculosis(TB) CHEST X-RAY DATABASE Filtrado/Normal/Normal-1328.png no existe en el directorio DIALUNG-Datasets/Tuberculosis(TB) CHEST X-RAY DATABASE Filtrado/Normal/Normal-1328.png por favor, verifique antes de cargar el DataLoader\n",
            "Elemento Tuberculosis(TB) CHEST X-RAY DATABASE Filtrado/Normal/Normal-2535.png no existe en el directorio DIALUNG-Datasets/Tuberculosis(TB) CHEST X-RAY DATABASE Filtrado/Normal/Normal-2535.png por favor, verifique antes de cargar el DataLoader\n",
            "Elemento Tuberculosis(TB) CHEST X-RAY DATABASE Filtrado/Normal/Normal-487.png no existe en el directorio DIALUNG-Datasets/Tuberculosis(TB) CHEST X-RAY DATABASE Filtrado/Normal/Normal-487.png por favor, verifique antes de cargar el DataLoader\n",
            "Elemento Tuberculosis(TB) CHEST X-RAY DATABASE Filtrado/Normal/Normal-3242.png no existe en el directorio DIALUNG-Datasets/Tuberculosis(TB) CHEST X-RAY DATABASE Filtrado/Normal/Normal-3242.png por favor, verifique antes de cargar el DataLoader\n",
            "Elemento Tuberculosis(TB) CHEST X-RAY DATABASE Filtrado/Normal/Normal-891.png no existe en el directorio DIALUNG-Datasets/Tuberculosis(TB) CHEST X-RAY DATABASE Filtrado/Normal/Normal-891.png por favor, verifique antes de cargar el DataLoader\n",
            "Elemento Tuberculosis(TB) CHEST X-RAY DATABASE Filtrado/Normal/Normal-2663.png no existe en el directorio DIALUNG-Datasets/Tuberculosis(TB) CHEST X-RAY DATABASE Filtrado/Normal/Normal-2663.png por favor, verifique antes de cargar el DataLoader\n",
            "Elemento Tuberculosis(TB) CHEST X-RAY DATABASE Filtrado/Normal/Normal-37.png no existe en el directorio DIALUNG-Datasets/Tuberculosis(TB) CHEST X-RAY DATABASE Filtrado/Normal/Normal-37.png por favor, verifique antes de cargar el DataLoader\n",
            "Elemento Tuberculosis(TB) CHEST X-RAY DATABASE Filtrado/Normal/Normal-536.png no existe en el directorio DIALUNG-Datasets/Tuberculosis(TB) CHEST X-RAY DATABASE Filtrado/Normal/Normal-536.png por favor, verifique antes de cargar el DataLoader\n",
            "Elemento Tuberculosis(TB) CHEST X-RAY DATABASE Filtrado/Normal/Normal-2935.png no existe en el directorio DIALUNG-Datasets/Tuberculosis(TB) CHEST X-RAY DATABASE Filtrado/Normal/Normal-2935.png por favor, verifique antes de cargar el DataLoader\n",
            "Elemento Tuberculosis(TB) CHEST X-RAY DATABASE Filtrado/Normal/Normal-2389.png no existe en el directorio DIALUNG-Datasets/Tuberculosis(TB) CHEST X-RAY DATABASE Filtrado/Normal/Normal-2389.png por favor, verifique antes de cargar el DataLoader\n",
            "Elemento Tuberculosis(TB) CHEST X-RAY DATABASE Filtrado/Normal/Normal-3002.png no existe en el directorio DIALUNG-Datasets/Tuberculosis(TB) CHEST X-RAY DATABASE Filtrado/Normal/Normal-3002.png por favor, verifique antes de cargar el DataLoader\n",
            "Elemento Tuberculosis(TB) CHEST X-RAY DATABASE Filtrado/Normal/Normal-2995.png no existe en el directorio DIALUNG-Datasets/Tuberculosis(TB) CHEST X-RAY DATABASE Filtrado/Normal/Normal-2995.png por favor, verifique antes de cargar el DataLoader\n",
            "Elemento Tuberculosis(TB) CHEST X-RAY DATABASE Filtrado/Normal/Normal-261.png no existe en el directorio DIALUNG-Datasets/Tuberculosis(TB) CHEST X-RAY DATABASE Filtrado/Normal/Normal-261.png por favor, verifique antes de cargar el DataLoader\n",
            "Elemento Tuberculosis(TB) CHEST X-RAY DATABASE Filtrado/Normal/Normal-3337.png no existe en el directorio DIALUNG-Datasets/Tuberculosis(TB) CHEST X-RAY DATABASE Filtrado/Normal/Normal-3337.png por favor, verifique antes de cargar el DataLoader\n",
            "Elemento Tuberculosis(TB) CHEST X-RAY DATABASE Filtrado/Normal/Normal-1745.png no existe en el directorio DIALUNG-Datasets/Tuberculosis(TB) CHEST X-RAY DATABASE Filtrado/Normal/Normal-1745.png por favor, verifique antes de cargar el DataLoader\n",
            "Elemento Tuberculosis(TB) CHEST X-RAY DATABASE Filtrado/Normal/Normal-1790.png no existe en el directorio DIALUNG-Datasets/Tuberculosis(TB) CHEST X-RAY DATABASE Filtrado/Normal/Normal-1790.png por favor, verifique antes de cargar el DataLoader\n",
            "El DataFrame val presenta novedades\n"
          ]
        }
      ]
    },
    {
      "cell_type": "markdown",
      "metadata": {
        "id": "Z8x0PFY0z9bT"
      },
      "source": [
        "## Crear el la clase Dataset de tipo PyTorch Dataset\n",
        "Crea el dataset en formato Torch.data.Dataset, no hace falta modificar esta clase, solo ejecutarla"
      ],
      "id": "Z8x0PFY0z9bT"
    },
    {
      "cell_type": "code",
      "metadata": {
        "id": "I-9F1rduz9bT"
      },
      "source": [
        "from torchvision.io import read_image\n",
        "from torch.utils.data import Dataset\n",
        "from torchvision import datasets, io\n",
        "from torchvision.transforms import Compose\n",
        "\n",
        "\n",
        "class crearDatasetDIALUNG(Dataset):\n",
        "    \"\"\"\n",
        "    Una clase que hereda los clase torch.utils.data.Dataset para crear un objeto que pueda ser \n",
        "    manipulado por la clase DataLoader de PyTorch\n",
        "    ...\n",
        "\n",
        "    Atributos\n",
        "    ----------\n",
        "    img_labels : pandas.DataFrame\n",
        "        un objeto de tipo pandas.Dataframe que tiene dos columnas, la primera nombre de la imagen y segunda condicion\n",
        "    img_dir : str\n",
        "        Directorio de las imagenes de los datasets\n",
        "    transform : torchvision.transforms\n",
        "        Transformaciones de formato PyTorch para aplicar las imagenes\n",
        "    target_transform : int\n",
        "        Especifica las transformaciones de la etiqueta y características\n",
        "\n",
        "    Métodos\n",
        "    -------\n",
        "    __len__(self)\n",
        "        Devuelve el tamaño del dataframe\n",
        "    \"\"\"\n",
        "    def __init__(self, pandas_file, img_dir, transform=None, target_transform=None):\n",
        "        \"\"\"\n",
        "        Parámetros\n",
        "        ----------\n",
        "        pandas_file : pandas.DataFrame\n",
        "            un objeto de tipo pandas.Dataframe que tiene dos columnas, la primera nombre de la imagen y segunda condicion\n",
        "        img_dir : str\n",
        "            Directorio de las imagenes de los datasets\n",
        "        transform : torchvision.transforms\n",
        "            Transformaciones de formato PyTorch para aplicar las imagenes\n",
        "        target_transform : int\n",
        "            Especifica las transformaciones de la etiqueta y características\n",
        "\n",
        "        \"\"\"\n",
        "        self.img_labels = pandas_file\n",
        "        self.img_dir = img_dir\n",
        "        self.transform = transform\n",
        "        self.target_transform = target_transform\n",
        "\n",
        "    def __len__(self):\n",
        "        \"\"\"\n",
        "        Devuelve\n",
        "        ----------\n",
        "        int \n",
        "            El tamaño del DataFrame en entero\n",
        "        \"\"\"\n",
        "        return len(self.img_labels)\n",
        "\n",
        "    def __getitem__(self, idx):\n",
        "        \"\"\"Obtiene la imagen del idx del dataset, lee en formato Tensor, aplica las transformaciones\n",
        "        y devuelve una imagen y su etiqueta.\n",
        "        Parámetros\n",
        "        ----------\n",
        "        idx : int\n",
        "            índice secuencial de la imagen que se localiza en el DataFrame\n",
        "        Devuelve\n",
        "        ----------\n",
        "        torch.Tensor\n",
        "            La imagen en formato tensor de PyTorch en Escala de Grises (Tensor[1, alto_imagen, ancho_imagen])\n",
        "        int \n",
        "            La etiqueta correspondiente de la imagen\n",
        "        \"\"\"\n",
        "        img_path = os.path.join(self.img_dir, self.img_labels.iloc[idx, 0]) #Busco el nombre de la imagen en la columna cero\n",
        "        image = read_image(img_path, io.image.ImageReadMode.GRAY) #transformo mi imagen directamente a Escala de grises\n",
        "        label = self.img_labels.iloc[idx, 1] #Busco el nombre de la etiqueta el DataFrame\n",
        "        ancho_imagen, alto_imagen = image.shape[1:3]\n",
        "        image = torch.reshape(image, (1, alto_imagen, ancho_imagen, 1))#Formato TORCHIO Tensor 4D\n",
        "        if self.transform: #Aplico transformacion(es) de la imagen\n",
        "            image = self.transform(image)\n",
        "        if self.target_transform: #Aplico transformacion(es) a los labels\n",
        "            label = self.target_transform(label)\n",
        "        return image, label"
      ],
      "id": "I-9F1rduz9bT",
      "execution_count": 11,
      "outputs": []
    },
    {
      "cell_type": "markdown",
      "metadata": {
        "id": "NcHommA0z9bV"
      },
      "source": [
        "## Crear los objetos de tipo crearDatasetDIALUNG que definimos anteriormente\n",
        "Sino se ha cambiado ninguna variable, solo faltaría añadir transformaciones si se necesitan, además del formato [one-hot-encode](https://machinelearningmastery.com/why-one-hot-encode-data-in-machine-learning/)\n",
        "\n",
        "### Aumentaciones acordadas\n",
        "- Crop\n",
        "- Rotations\n",
        "- Blur\n",
        "- Noise\n",
        "- Desplazamiento"
      ],
      "id": "NcHommA0z9bV"
    },
    {
      "cell_type": "code",
      "metadata": {
        "id": "0Q3wD-9Hz9bV"
      },
      "source": [
        "from torchvision.transforms import Resize #Cargar herramienta para hacer Rescalado\n",
        "from torchvision.transforms import Compose #Compose me sirve para apilar varias transformaciones en una sola\n",
        "from torchvision.transforms import Lambda #Convertir tensor de salida a one-hot-encoded \n",
        "import torch \n",
        "#Librerias de TorchIO\n",
        "import torchio as tio\n",
        "#Aqui se puede añadir más transformaciones si se desean\n",
        "ancho_imagen_deseado  = 256\n",
        "alto_imagen_deseado =  256\n",
        "resize_transform = Resize((alto_imagen_deseado, ancho_imagen_deseado)) #Cambiar el tamaño a 1024x1024\n",
        "\n",
        "spatial = tio.OneOf({\n",
        "        tio.RandomAffine(): 0.2,\n",
        "        tio.RandomElasticDeformation(): 0.2,\n",
        "    },\n",
        "    p=0.75,\n",
        ")\n",
        "\n",
        "\n",
        "transformaciones_dataset = Compose([resize_transform, spatial]) #Apila las transformaciones\n",
        "transformacion_salida = Lambda(lambda y: torch.zeros(4, dtype=torch.float).scatter_(0, torch.tensor(int(y)), value=1)) #Hago un\n",
        "\n",
        "#Creo objetos de tipo crearDatasetDIALUNG\n",
        "train_datasetDIALUNG = crearDatasetDIALUNG(dataset_train, direccion_dataset_imagenes, transformaciones_dataset, transformacion_salida)\n",
        "test_datasetDIALUNG = crearDatasetDIALUNG(dataset_test, direccion_dataset_imagenes, transformaciones_dataset, transformacion_salida)\n",
        "val_datasetDIALUNG = crearDatasetDIALUNG(dataset_val, direccion_dataset_imagenes, transformaciones_dataset, transformacion_salida)"
      ],
      "id": "0Q3wD-9Hz9bV",
      "execution_count": 12,
      "outputs": []
    },
    {
      "cell_type": "markdown",
      "metadata": {
        "id": "NQCl8xewz9bW"
      },
      "source": [
        "## Definir los objetos tipo DataLoader de tamaño de 64 imagenes\n",
        "Solo carga los objetos anteriores, en un formato que se puede iterar en PyTorch"
      ],
      "id": "NQCl8xewz9bW"
    },
    {
      "cell_type": "code",
      "metadata": {
        "id": "QcWKUy0Kz9bW"
      },
      "source": [
        "from torch.utils.data import DataLoader #Clase dataloader para cargar en PyTorch los objetos de tipo Dataset\n",
        "batch_size = 4\n",
        "#Creo objetos de tipo DataLoader en lotes de 64 imagenes y barajeados aleatoriamente\n",
        "train_dataloader = DataLoader(train_datasetDIALUNG, batch_size=batch_size, shuffle=True)\n",
        "test_dataloader = DataLoader(test_datasetDIALUNG, batch_size=batch_size, shuffle=True)\n",
        "val_dataloader = DataLoader(val_datasetDIALUNG, batch_size=batch_size, shuffle=True)"
      ],
      "id": "QcWKUy0Kz9bW",
      "execution_count": 13,
      "outputs": []
    },
    {
      "cell_type": "markdown",
      "metadata": {
        "id": "_GfbnjKwz9bX"
      },
      "source": [
        "## Verificacion del Dataset de Val\n",
        "Se verifica el Dataset de validación porque es el más pequeño y demora menos en cargar"
      ],
      "id": "_GfbnjKwz9bX"
    },
    {
      "cell_type": "code",
      "metadata": {
        "id": "_bQxMaQ1z9bX"
      },
      "source": [
        "import matplotlib.pyplot as plt\n",
        "# Display image and label.\n",
        "train_features, train_labels = next(iter(val_dataloader))\n",
        "print(f\"Feature batch shape: {train_features.size()}\")\n",
        "print(f\"Labels batch shape: {train_labels.size()}\")\n",
        "img = train_features[0].squeeze()\n",
        "label = train_labels[0]\n",
        "plt.imshow(img, cmap=\"gray\")\n",
        "plt.show()\n",
        "print(f\"Label one-hot encoding: {label} Categoria: {mapa_condiciones[int(torch.argmax(label))]}\")"
      ],
      "id": "_bQxMaQ1z9bX",
      "execution_count": null,
      "outputs": []
    },
    {
      "cell_type": "markdown",
      "metadata": {
        "id": "Ep8bMx9bz9bY"
      },
      "source": [
        "# Funciones para entrenamiento\n",
        "## A partir de aquí se puede definir el modelo de red\n"
      ],
      "id": "Ep8bMx9bz9bY"
    },
    {
      "cell_type": "code",
      "metadata": {
        "id": "Vwh9SYrzDrL7"
      },
      "source": [
        "### A partir de aqui definir el modelo de RED"
      ],
      "id": "Vwh9SYrzDrL7",
      "execution_count": null,
      "outputs": []
    }
  ]
}